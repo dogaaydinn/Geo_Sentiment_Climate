{
 "cells": [
  {
   "metadata": {},
   "cell_type": "raw",
   "source": "",
   "id": "97885c19aa0a3717"
  },
  {
   "metadata": {},
   "cell_type": "code",
   "source": [
    "import logging\n",
    "import os\n",
    "import sys\n",
    "\n",
    "# Define ANSI escape codes for green color\n",
    "GREEN = \"\\033[92m\"\n",
    "RESET = \"\\033[0m\"\n",
    "\n",
    "\n",
    "# Custom logging formatter to include green color\n",
    "class CustomFormatter(logging.Formatter):\n",
    "    def format(self, record):\n",
    "        log_msg = super().format(record)\n",
    "        return f\"{GREEN}{log_msg}{RESET}\"\n",
    "\n",
    "\n",
    "# Configure logging with the custom formatter\n",
    "handler = logging.StreamHandler()\n",
    "handler.setFormatter(CustomFormatter(\"%(asctime)s [%(levelname)s] %(message)s\"))\n",
    "logging.basicConfig(level=logging.INFO, handlers=[handler])"
   ],
   "id": "da7a9263891304ce",
   "outputs": [],
   "execution_count": null
  },
  {
   "metadata": {},
   "cell_type": "code",
   "source": [
    "# Projeye özel local script import:\n",
    "sys.path.append(os.path.abspath(\"../source\"))"
   ],
   "id": "603cd5ef2d164d69",
   "outputs": [],
   "execution_count": null
  },
  {
   "metadata": {},
   "cell_type": "code",
   "source": [
    "# Şimdi data_check fonksiyonunu import edelim\n",
    "from source.data_check import check_raw_data\n",
    "from source.utils.config_loader import load_config\n",
    "from source.utils.logger import setup_logger\n"
   ],
   "id": "c1a6e6d462118fa2",
   "outputs": [],
   "execution_count": null
  },
  {
   "metadata": {},
   "cell_type": "code",
   "source": [
    "# %% [2]  Load Config\n",
    "config_path = os.path.join(os.path.abspath(\"../config\"), \"settings.yml\")\n",
    "config = load_config(config_path)\n",
    "\n",
    "RAW_DIR = os.path.abspath(config[\"paths\"][\"raw_dir\"])\n",
    "\n"
   ],
   "id": "b27c99c06f67dbb2",
   "outputs": [],
   "execution_count": null
  },
  {
   "metadata": {},
   "cell_type": "code",
   "source": [
    "# [2] Config ve Logger Ayarları\n",
    "CONFIG_PATH = \"../config/settings.yml\"\n",
    "config = load_config(CONFIG_PATH)\n",
    "\n",
    "RAW_DIR = os.path.abspath(config[\"paths\"][\"raw_dir\"])\n",
    "LOG_DIR = config[\"paths\"].get(\"logs_dir\", \"../logs\")\n",
    "\n",
    "os.makedirs(LOG_DIR, exist_ok=True)\n",
    "\n",
    "logger = setup_logger(\n",
    "    name=\"data_check_notebook\",\n",
    "    log_file=os.path.join(LOG_DIR, \"data_check_notebook.log\"),\n",
    "    log_level=\"INFO\"\n",
    ")\n",
    "\n",
    "logger.info(\"=== Data Check Notebook Initialized ===\")"
   ],
   "id": "ad04d43d0317e386",
   "outputs": [],
   "execution_count": null
  },
  {
   "metadata": {},
   "cell_type": "code",
   "source": [
    "    # [3] Data Check İşlemi\n",
    "check_raw_data(raw_dir=RAW_DIR)\n"
   ],
   "id": "cd4e4279c1073140",
   "outputs": [],
   "execution_count": null
  }
 ],
 "metadata": {
  "kernelspec": {
   "name": "python3",
   "language": "python",
   "display_name": "Python 3 (ipykernel)"
  }
 },
 "nbformat": 5,
 "nbformat_minor": 9
}
