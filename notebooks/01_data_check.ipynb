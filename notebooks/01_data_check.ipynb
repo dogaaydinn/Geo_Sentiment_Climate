{
 "cells": [
  {
   "metadata": {
    "ExecuteTime": {
     "end_time": "2024-12-31T17:10:14.882921Z",
     "start_time": "2024-12-31T17:10:14.878258Z"
    }
   },
   "cell_type": "code",
   "source": [
    "import os\n",
    "import glob\n",
    "import logging\n",
    "import pandas as pd\n",
    "\n",
    "# Define ANSI escape codes for green color\n",
    "GREEN = \"\\033[92m\"\n",
    "RESET = \"\\033[0m\"\n",
    "\n",
    "# Custom logging formatter to include green color\n",
    "class CustomFormatter(logging.Formatter):\n",
    "    def format(self, record):\n",
    "        log_msg = super().format(record)\n",
    "        return f\"{GREEN}{log_msg}{RESET}\"\n",
    "\n",
    "# Configure logging with the custom formatter\n",
    "handler = logging.StreamHandler()\n",
    "handler.setFormatter(CustomFormatter(\"%(asctime)s [%(levelname)s] %(message)s\"))\n",
    "logging.basicConfig(level=logging.INFO, handlers=[handler])"
   ],
   "id": "b35e62acf78e0110",
   "outputs": [],
   "execution_count": 4
  },
  {
   "metadata": {
    "ExecuteTime": {
     "end_time": "2024-12-31T17:10:17.114238Z",
     "start_time": "2024-12-31T17:10:17.027009Z"
    }
   },
   "cell_type": "code",
   "source": [
    "def check_raw_data(raw_dir: str = \"../data/raw\") -> None:\n",
    "    logging.info(f\"Starting data check in: {raw_dir}\")\n",
    "\n",
    "    csv_paths = glob.glob(os.path.join(raw_dir, \"**/*.csv\"), recursive=True)\n",
    "    logging.info(f\"Found {len(csv_paths)} CSV files.\")\n",
    "\n",
    "    for path in csv_paths[:5]:\n",
    "        logging.info(f\"Checking file: {path}\")\n",
    "        try:\n",
    "            df = pd.read_csv(path, nrows=5000)  # read partial for speed\n",
    "            shape_str = f\"Shape={df.shape}\"\n",
    "            cols_str = \", \".join(df.columns)\n",
    "            missing_str = df.isnull().sum().to_dict()\n",
    "\n",
    "            logging.info(f\" {shape_str}; Columns=({cols_str})\")\n",
    "            logging.info(f\" Missing counts: {missing_str}\")\n",
    "        except Exception as e:\n",
    "            logging.warning(f\"  Could not read {path}. Error: {e}\")\n",
    "\n",
    "    logging.info(\"Data check completed!\")\n",
    "\n",
    "def main():\n",
    "    check_raw_data()\n",
    "\n",
    "if __name__ == \"__main__\":\n",
    "    main()"
   ],
   "id": "4a79cd4bf04d2bdd",
   "outputs": [
    {
     "name": "stderr",
     "output_type": "stream",
     "text": [
      "\u001B[92m2024-12-31 20:10:17,038 [INFO] Starting data check in: ../data/raw\u001B[0m\n",
      "\u001B[92m2024-12-31 20:10:17,045 [INFO] Found 515 CSV files.\u001B[0m\n",
      "\u001B[92m2024-12-31 20:10:17,045 [INFO] Checking file: ../data/raw/epa-so2-2023/epa_so2_virginia_2023.csv\u001B[0m\n",
      "\u001B[92m2024-12-31 20:10:17,075 [INFO]  Shape=(2877, 21); Columns=(Date, Source, Site ID, POC, Daily Max 1-hour SO2 Concentration, Units, Daily AQI Value, Local Site Name, Daily Obs Count, Percent Complete, AQS Parameter Code, AQS Parameter Description, Method Code, CBSA Code, CBSA Name, State FIPS Code, State, County FIPS Code, County, Site Latitude, Site Longitude)\u001B[0m\n",
      "\u001B[92m2024-12-31 20:10:17,075 [INFO]  Missing counts: {'Date': 0, 'Source': 0, 'Site ID': 0, 'POC': 0, 'Daily Max 1-hour SO2 Concentration': 0, 'Units': 0, 'Daily AQI Value': 0, 'Local Site Name': 352, 'Daily Obs Count': 0, 'Percent Complete': 0, 'AQS Parameter Code': 0, 'AQS Parameter Description': 0, 'Method Code': 0, 'CBSA Code': 0, 'CBSA Name': 0, 'State FIPS Code': 0, 'State': 0, 'County FIPS Code': 0, 'County': 0, 'Site Latitude': 0, 'Site Longitude': 0}\u001B[0m\n",
      "\u001B[92m2024-12-31 20:10:17,076 [INFO] Checking file: ../data/raw/epa-so2-2023/epa_so2_kansas_2023.csv\u001B[0m\n",
      "\u001B[92m2024-12-31 20:10:17,087 [INFO]  Shape=(1350, 21); Columns=(Date, Source, Site ID, POC, Daily Max 1-hour SO2 Concentration, Units, Daily AQI Value, Local Site Name, Daily Obs Count, Percent Complete, AQS Parameter Code, AQS Parameter Description, Method Code, CBSA Code, CBSA Name, State FIPS Code, State, County FIPS Code, County, Site Latitude, Site Longitude)\u001B[0m\n",
      "\u001B[92m2024-12-31 20:10:17,094 [INFO]  Missing counts: {'Date': 0, 'Source': 0, 'Site ID': 0, 'POC': 0, 'Daily Max 1-hour SO2 Concentration': 0, 'Units': 0, 'Daily AQI Value': 0, 'Local Site Name': 0, 'Daily Obs Count': 0, 'Percent Complete': 0, 'AQS Parameter Code': 0, 'AQS Parameter Description': 0, 'Method Code': 0, 'CBSA Code': 654, 'CBSA Name': 654, 'State FIPS Code': 0, 'State': 0, 'County FIPS Code': 0, 'County': 0, 'Site Latitude': 0, 'Site Longitude': 0}\u001B[0m\n",
      "\u001B[92m2024-12-31 20:10:17,095 [INFO] Checking file: ../data/raw/epa-so2-2023/epa_so2_iowa_2023.csv\u001B[0m\n",
      "\u001B[92m2024-12-31 20:10:17,103 [INFO]  Shape=(2327, 21); Columns=(Date, Source, Site ID, POC, Daily Max 1-hour SO2 Concentration, Units, Daily AQI Value, Local Site Name, Daily Obs Count, Percent Complete, AQS Parameter Code, AQS Parameter Description, Method Code, CBSA Code, CBSA Name, State FIPS Code, State, County FIPS Code, County, Site Latitude, Site Longitude)\u001B[0m\n",
      "\u001B[92m2024-12-31 20:10:17,103 [INFO]  Missing counts: {'Date': 0, 'Source': 0, 'Site ID': 0, 'POC': 0, 'Daily Max 1-hour SO2 Concentration': 0, 'Units': 0, 'Daily AQI Value': 0, 'Local Site Name': 0, 'Daily Obs Count': 0, 'Percent Complete': 0, 'AQS Parameter Code': 0, 'AQS Parameter Description': 0, 'Method Code': 0, 'CBSA Code': 347, 'CBSA Name': 347, 'State FIPS Code': 0, 'State': 0, 'County FIPS Code': 0, 'County': 0, 'Site Latitude': 0, 'Site Longitude': 0}\u001B[0m\n",
      "\u001B[92m2024-12-31 20:10:17,104 [INFO] Checking file: ../data/raw/epa-so2-2023/epa_so2_arkansas_2023.csv\u001B[0m\n",
      "\u001B[92m2024-12-31 20:10:17,107 [INFO]  Shape=(360, 21); Columns=(Date, Source, Site ID, POC, Daily Max 1-hour SO2 Concentration, Units, Daily AQI Value, Local Site Name, Daily Obs Count, Percent Complete, AQS Parameter Code, AQS Parameter Description, Method Code, CBSA Code, CBSA Name, State FIPS Code, State, County FIPS Code, County, Site Latitude, Site Longitude)\u001B[0m\n",
      "\u001B[92m2024-12-31 20:10:17,107 [INFO]  Missing counts: {'Date': 0, 'Source': 0, 'Site ID': 0, 'POC': 0, 'Daily Max 1-hour SO2 Concentration': 0, 'Units': 0, 'Daily AQI Value': 0, 'Local Site Name': 0, 'Daily Obs Count': 0, 'Percent Complete': 0, 'AQS Parameter Code': 0, 'AQS Parameter Description': 0, 'Method Code': 0, 'CBSA Code': 0, 'CBSA Name': 0, 'State FIPS Code': 0, 'State': 0, 'County FIPS Code': 0, 'County': 0, 'Site Latitude': 0, 'Site Longitude': 0}\u001B[0m\n",
      "\u001B[92m2024-12-31 20:10:17,108 [INFO] Checking file: ../data/raw/epa-so2-2023/epa_so2_new_hampshire_2023.csv\u001B[0m\n",
      "\u001B[92m2024-12-31 20:10:17,112 [INFO]  Shape=(1398, 21); Columns=(Date, Source, Site ID, POC, Daily Max 1-hour SO2 Concentration, Units, Daily AQI Value, Local Site Name, Daily Obs Count, Percent Complete, AQS Parameter Code, AQS Parameter Description, Method Code, CBSA Code, CBSA Name, State FIPS Code, State, County FIPS Code, County, Site Latitude, Site Longitude)\u001B[0m\n",
      "\u001B[92m2024-12-31 20:10:17,112 [INFO]  Missing counts: {'Date': 0, 'Source': 0, 'Site ID': 0, 'POC': 0, 'Daily Max 1-hour SO2 Concentration': 0, 'Units': 0, 'Daily AQI Value': 0, 'Local Site Name': 0, 'Daily Obs Count': 0, 'Percent Complete': 0, 'AQS Parameter Code': 0, 'AQS Parameter Description': 0, 'Method Code': 0, 'CBSA Code': 0, 'CBSA Name': 0, 'State FIPS Code': 0, 'State': 0, 'County FIPS Code': 0, 'County': 0, 'Site Latitude': 0, 'Site Longitude': 0}\u001B[0m\n",
      "\u001B[92m2024-12-31 20:10:17,112 [INFO] Data check completed!\u001B[0m\n"
     ]
    }
   ],
   "execution_count": 5
  }
 ],
 "metadata": {
  "kernelspec": {
   "name": "python3",
   "language": "python",
   "display_name": "Python 3 (ipykernel)"
  }
 },
 "nbformat": 5,
 "nbformat_minor": 9
}
