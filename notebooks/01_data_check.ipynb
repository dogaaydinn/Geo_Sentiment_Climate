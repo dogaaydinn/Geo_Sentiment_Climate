{
 "cells": [
  {
   "metadata": {
    "ExecuteTime": {
     "end_time": "2025-01-04T14:27:31.035343Z",
     "start_time": "2025-01-04T14:27:31.030755Z"
    }
   },
   "cell_type": "code",
   "source": [
    "import logging\n",
    "import os\n",
    "import sys\n",
    "\n",
    "# Define ANSI escape codes for green color\n",
    "GREEN = \"\\033[92m\"\n",
    "RESET = \"\\033[0m\"\n",
    "\n",
    "\n",
    "# Custom logging formatter to include green color\n",
    "class CustomFormatter(logging.Formatter):\n",
    "    def format(self, record):\n",
    "        log_msg = super().format(record)\n",
    "        return f\"{GREEN}{log_msg}{RESET}\"\n",
    "\n",
    "\n",
    "# Configure logging with the custom formatter\n",
    "handler = logging.StreamHandler()\n",
    "handler.setFormatter(CustomFormatter(\"%(asctime)s [%(levelname)s] %(message)s\"))\n",
    "logging.basicConfig(level=logging.INFO, handlers=[handler])"
   ],
   "id": "b35e62acf78e0110",
   "outputs": [],
   "execution_count": 1
  },
  {
   "metadata": {
    "ExecuteTime": {
     "end_time": "2025-01-04T14:27:32.267122Z",
     "start_time": "2025-01-04T14:27:32.263629Z"
    }
   },
   "cell_type": "code",
   "source": [
    "# Projeye özel local script import:\n",
    "sys.path.append(os.path.abspath(\"../source\"))"
   ],
   "id": "603cd5ef2d164d69",
   "outputs": [],
   "execution_count": 2
  },
  {
   "metadata": {
    "ExecuteTime": {
     "end_time": "2025-01-04T14:27:33.914320Z",
     "start_time": "2025-01-04T14:27:33.661928Z"
    }
   },
   "cell_type": "code",
   "source": [
    "# Şimdi data_check fonksiyonunu import edelim\n",
    "from source.data_check import check_raw_data\n",
    "from source.utils.config_loader import load_config\n",
    "from source.utils.logger import setup_logger\n"
   ],
   "id": "c1a6e6d462118fa2",
   "outputs": [],
   "execution_count": 3
  },
  {
   "metadata": {
    "ExecuteTime": {
     "end_time": "2025-01-04T14:27:34.774379Z",
     "start_time": "2025-01-04T14:27:34.765288Z"
    }
   },
   "cell_type": "code",
   "source": [
    "# %% [2]  Load Config\n",
    "config_path = os.path.join(os.path.abspath(\"../config\"), \"settings.yml\")\n",
    "config = load_config(config_path)\n",
    "\n",
    "RAW_DIR = os.path.abspath(config[\"paths\"][\"raw_dir\"])\n",
    "\n"
   ],
   "id": "b27c99c06f67dbb2",
   "outputs": [],
   "execution_count": 4
  },
  {
   "metadata": {
    "ExecuteTime": {
     "end_time": "2025-01-04T14:27:36.153387Z",
     "start_time": "2025-01-04T14:27:36.142194Z"
    }
   },
   "cell_type": "code",
   "source": [
    "# [2] Config ve Logger Ayarları\n",
    "CONFIG_PATH = \"../config/settings.yml\"\n",
    "config = load_config(CONFIG_PATH)\n",
    "\n",
    "RAW_DIR = os.path.abspath(config[\"paths\"][\"raw_dir\"])\n",
    "LOG_DIR = config[\"paths\"].get(\"logs_dir\", \"../logs\")\n",
    "\n",
    "os.makedirs(LOG_DIR, exist_ok=True)\n",
    "\n",
    "logger = setup_logger(\n",
    "    name=\"data_check_notebook\",\n",
    "    log_file=os.path.join(LOG_DIR, \"data_check_notebook.log\"),\n",
    "    log_level=\"INFO\"\n",
    ")\n",
    "\n",
    "logger.info(\"=== Data Check Notebook Initialized ===\")"
   ],
   "id": "ad04d43d0317e386",
   "outputs": [
    {
     "name": "stderr",
     "output_type": "stream",
     "text": [
      "2025-01-04 17:27:36,151 - INFO - === Data Check Notebook Initialized ===\n",
      "\u001B[92m2025-01-04 17:27:36,151 [INFO] === Data Check Notebook Initialized ===\u001B[0m\n"
     ]
    }
   ],
   "execution_count": 5
  },
  {
   "metadata": {
    "ExecuteTime": {
     "end_time": "2025-01-04T14:27:38.552347Z",
     "start_time": "2025-01-04T14:27:38.514847Z"
    }
   },
   "cell_type": "code",
   "source": [
    "    # [3] Data Check İşlemi\n",
    "check_raw_data(raw_dir=RAW_DIR)\n"
   ],
   "id": "cd4e4279c1073140",
   "outputs": [
    {
     "name": "stderr",
     "output_type": "stream",
     "text": [
      "2025-01-04 17:27:38,516 - INFO - === Starting data check... ===\n",
      "\u001B[92m2025-01-04 17:27:38,516 [INFO] === Starting data check... ===\u001B[0m\n",
      "2025-01-04 17:27:38,523 - INFO - Searching for CSV files in directory: /Users/dogaaydin/PycharmProjects/Geo_Sentiment_Climate/data/raw\n",
      "\u001B[92m2025-01-04 17:27:38,523 [INFO] Searching for CSV files in directory: /Users/dogaaydin/PycharmProjects/Geo_Sentiment_Climate/data/raw\u001B[0m\n",
      "2025-01-04 17:27:38,526 - INFO - Number of CSV files found: 1 (directory: /Users/dogaaydin/PycharmProjects/Geo_Sentiment_Climate/data/raw)\n",
      "\u001B[92m2025-01-04 17:27:38,526 [INFO] Number of CSV files found: 1 (directory: /Users/dogaaydin/PycharmProjects/Geo_Sentiment_Climate/data/raw)\u001B[0m\n",
      "2025-01-04 17:27:38,526 - INFO - Found CSV file: /Users/dogaaydin/PycharmProjects/Geo_Sentiment_Climate/data/raw/epa-pm2.5-2022/epa_pm2.5_missouri_2022.csv\n",
      "\u001B[92m2025-01-04 17:27:38,526 [INFO] Found CSV file: /Users/dogaaydin/PycharmProjects/Geo_Sentiment_Climate/data/raw/epa-pm2.5-2022/epa_pm2.5_missouri_2022.csv\u001B[0m\n",
      "2025-01-04 17:27:38,544 - INFO - [QuickCheck] File=/Users/dogaaydin/PycharmProjects/Geo_Sentiment_Climate/data/raw/epa-pm2.5-2022/epa_pm2.5_missouri_2022.csv, Shape=(5000, 22), Missing={'Date': 0, 'Source': 0, 'Site ID': 0, 'POC': 0, 'Daily Mean PM2.5 Concentration': 0, 'Units': 0, 'Daily AQI Value': 0, 'Local Site Name': 172, 'Daily Obs Count': 0, 'Percent Complete': 0, 'AQS Parameter Code': 0, 'AQS Parameter Description': 0, 'Method Code': 0, 'Method Description': 0, 'CBSA Code': 1204, 'CBSA Name': 1204, 'State FIPS Code': 0, 'State': 0, 'County FIPS Code': 0, 'County': 0, 'Site Latitude': 0, 'Site Longitude': 0}\n",
      "\u001B[92m2025-01-04 17:27:38,544 [INFO] [QuickCheck] File=/Users/dogaaydin/PycharmProjects/Geo_Sentiment_Climate/data/raw/epa-pm2.5-2022/epa_pm2.5_missouri_2022.csv, Shape=(5000, 22), Missing={'Date': 0, 'Source': 0, 'Site ID': 0, 'POC': 0, 'Daily Mean PM2.5 Concentration': 0, 'Units': 0, 'Daily AQI Value': 0, 'Local Site Name': 172, 'Daily Obs Count': 0, 'Percent Complete': 0, 'AQS Parameter Code': 0, 'AQS Parameter Description': 0, 'Method Code': 0, 'Method Description': 0, 'CBSA Code': 1204, 'CBSA Name': 1204, 'State FIPS Code': 0, 'State': 0, 'County FIPS Code': 0, 'County': 0, 'Site Latitude': 0, 'Site Longitude': 0}\u001B[0m\n",
      "2025-01-04 17:27:38,548 - INFO - Data check report created -> ../data/processed/data_check_report_20250104_172738.csv\n",
      "\u001B[92m2025-01-04 17:27:38,548 [INFO] Data check report created -> ../data/processed/data_check_report_20250104_172738.csv\u001B[0m\n",
      "2025-01-04 17:27:38,549 - INFO - [Report] {'file_path': '/Users/dogaaydin/PycharmProjects/Geo_Sentiment_Climate/data/raw/epa-pm2.5-2022/epa_pm2.5_missouri_2022.csv', 'row_count': 5000, 'col_count': 22, 'columns': 'Date, Source, Site ID, POC, Daily Mean PM2.5 Concentration, Units, Daily AQI Value, Local Site Name, Daily Obs Count, Percent Complete, AQS Parameter Code, AQS Parameter Description, Method Code, Method Description, CBSA Code, CBSA Name, State FIPS Code, State, County FIPS Code, County, Site Latitude, Site Longitude', 'empty_file': False, 'test_pass': False, 'notes': \" Missing columns: ['Daily Max 1-hour SO2 Concentration'].\"}\n",
      "\u001B[92m2025-01-04 17:27:38,549 [INFO] [Report] {'file_path': '/Users/dogaaydin/PycharmProjects/Geo_Sentiment_Climate/data/raw/epa-pm2.5-2022/epa_pm2.5_missouri_2022.csv', 'row_count': 5000, 'col_count': 22, 'columns': 'Date, Source, Site ID, POC, Daily Mean PM2.5 Concentration, Units, Daily AQI Value, Local Site Name, Daily Obs Count, Percent Complete, AQS Parameter Code, AQS Parameter Description, Method Code, Method Description, CBSA Code, CBSA Name, State FIPS Code, State, County FIPS Code, County, Site Latitude, Site Longitude', 'empty_file': False, 'test_pass': False, 'notes': \" Missing columns: ['Daily Max 1-hour SO2 Concentration'].\"}\u001B[0m\n",
      "2025-01-04 17:27:38,550 - INFO - === Data check process completed. ===\n",
      "\u001B[92m2025-01-04 17:27:38,550 [INFO] === Data check process completed. ===\u001B[0m\n"
     ]
    }
   ],
   "execution_count": 6
  }
 ],
 "metadata": {
  "kernelspec": {
   "name": "python3",
   "language": "python",
   "display_name": "Python 3 (ipykernel)"
  }
 },
 "nbformat": 5,
 "nbformat_minor": 9
}
