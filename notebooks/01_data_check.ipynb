{
 "cells": [
  {
   "metadata": {
    "ExecuteTime": {
     "end_time": "2025-01-03T18:57:42.766203Z",
     "start_time": "2025-01-03T18:57:42.761754Z"
    }
   },
   "cell_type": "code",
   "source": [
    "import logging\n",
    "import os\n",
    "import sys\n",
    "\n",
    "# Define ANSI escape codes for green color\n",
    "GREEN = \"\\033[92m\"\n",
    "RESET = \"\\033[0m\"\n",
    "\n",
    "\n",
    "# Custom logging formatter to include green color\n",
    "class CustomFormatter(logging.Formatter):\n",
    "    def format(self, record):\n",
    "        log_msg = super().format(record)\n",
    "        return f\"{GREEN}{log_msg}{RESET}\"\n",
    "\n",
    "\n",
    "# Configure logging with the custom formatter\n",
    "handler = logging.StreamHandler()\n",
    "handler.setFormatter(CustomFormatter(\"%(asctime)s [%(levelname)s] %(message)s\"))\n",
    "logging.basicConfig(level=logging.INFO, handlers=[handler])"
   ],
   "id": "b35e62acf78e0110",
   "outputs": [],
   "execution_count": 1
  },
  {
   "metadata": {
    "ExecuteTime": {
     "end_time": "2025-01-03T18:57:44.721079Z",
     "start_time": "2025-01-03T18:57:44.717878Z"
    }
   },
   "cell_type": "code",
   "source": [
    "# Projeye özel local script import:\n",
    "sys.path.append(os.path.abspath(\"../source\"))"
   ],
   "id": "603cd5ef2d164d69",
   "outputs": [],
   "execution_count": 2
  },
  {
   "metadata": {
    "ExecuteTime": {
     "end_time": "2025-01-03T18:57:46.186263Z",
     "start_time": "2025-01-03T18:57:45.959817Z"
    }
   },
   "cell_type": "code",
   "source": [
    "# Şimdi data_check fonksiyonunu import edelim\n",
    "from source.data_check import check_raw_data\n",
    "from source.utils.config_loader import load_config\n",
    "from source.utils.logger import setup_logger\n"
   ],
   "id": "c1a6e6d462118fa2",
   "outputs": [],
   "execution_count": 3
  },
  {
   "metadata": {
    "ExecuteTime": {
     "end_time": "2025-01-03T18:57:47.560345Z",
     "start_time": "2025-01-03T18:57:47.550042Z"
    }
   },
   "cell_type": "code",
   "source": [
    "# [2] Config ve Logger Ayarları\n",
    "CONFIG_PATH = \"../config/settings.yml\"\n",
    "config = load_config(CONFIG_PATH)\n",
    "\n",
    "LOG_DIR = config[\"paths\"].get(\"logs_dir\", \"../logs\")\n",
    "\n",
    "os.makedirs(LOG_DIR, exist_ok=True)\n",
    "\n",
    "logger = setup_logger(\n",
    "    name=\"data_check_notebook\",\n",
    "    log_file=os.path.join(LOG_DIR, \"data_check_notebook.log\"),\n",
    "    log_level=\"INFO\"\n",
    ")\n",
    "\n",
    "logger.info(\"=== Data Check Notebook Initialized ===\")"
   ],
   "id": "ad04d43d0317e386",
   "outputs": [
    {
     "name": "stderr",
     "output_type": "stream",
     "text": [
      "2025-01-03 21:57:47,558 - INFO - === Data Check Notebook Initialized ===\n",
      "\u001B[92m2025-01-03 21:57:47,558 [INFO] === Data Check Notebook Initialized ===\u001B[0m\n"
     ]
    }
   ],
   "execution_count": 4
  },
  {
   "metadata": {
    "ExecuteTime": {
     "end_time": "2025-01-03T18:57:50.896374Z",
     "start_time": "2025-01-03T18:57:50.752840Z"
    }
   },
   "cell_type": "code",
   "source": [
    "    # [3] Data Check İşlemi\n",
    "check_raw_data()\n"
   ],
   "id": "cd4e4279c1073140",
   "outputs": [
    {
     "name": "stderr",
     "output_type": "stream",
     "text": [
      "2025-01-03 21:57:50,753 - INFO - === Data check başlatılıyor... ===\n",
      "\u001B[92m2025-01-03 21:57:50,753 [INFO] === Data check başlatılıyor... ===\u001B[0m\n"
     ]
    },
    {
     "ename": "TypeError",
     "evalue": "load_config() missing 1 required positional argument: 'config_path'",
     "output_type": "error",
     "traceback": [
      "\u001B[0;31m---------------------------------------------------------------------------\u001B[0m",
      "\u001B[0;31mTypeError\u001B[0m                                 Traceback (most recent call last)",
      "Cell \u001B[0;32mIn[5], line 2\u001B[0m\n\u001B[1;32m      1\u001B[0m \u001B[38;5;66;03m# [3] Data Check İşlemi\u001B[39;00m\n\u001B[0;32m----> 2\u001B[0m \u001B[43mcheck_raw_data\u001B[49m\u001B[43m(\u001B[49m\u001B[43m)\u001B[49m\n",
      "File \u001B[0;32m~/PycharmProjects/Geo_Sentiment_Climate/source/data_check.py:28\u001B[0m, in \u001B[0;36mcheck_raw_data\u001B[0;34m()\u001B[0m\n\u001B[1;32m     25\u001B[0m logger\u001B[38;5;241m.\u001B[39minfo(\u001B[38;5;124m\"\u001B[39m\u001B[38;5;124m=== Data check başlatılıyor... ===\u001B[39m\u001B[38;5;124m\"\u001B[39m)\n\u001B[1;32m     27\u001B[0m \u001B[38;5;66;03m# 1) Config yükle\u001B[39;00m\n\u001B[0;32m---> 28\u001B[0m config \u001B[38;5;241m=\u001B[39m \u001B[43mload_config\u001B[49m\u001B[43m(\u001B[49m\u001B[43m)\u001B[49m\n\u001B[1;32m     29\u001B[0m \u001B[38;5;28;01mif\u001B[39;00m config \u001B[38;5;129;01mis\u001B[39;00m \u001B[38;5;28;01mNone\u001B[39;00m:\n\u001B[1;32m     30\u001B[0m     logger\u001B[38;5;241m.\u001B[39merror(\u001B[38;5;124m\"\u001B[39m\u001B[38;5;124mConfig dosyası yüklenemedi veya None döndü, işlem sonlanıyor.\u001B[39m\u001B[38;5;124m\"\u001B[39m)\n",
      "\u001B[0;31mTypeError\u001B[0m: load_config() missing 1 required positional argument: 'config_path'"
     ]
    }
   ],
   "execution_count": 5
  }
 ],
 "metadata": {
  "kernelspec": {
   "name": "python3",
   "language": "python",
   "display_name": "Python 3 (ipykernel)"
  }
 },
 "nbformat": 5,
 "nbformat_minor": 9
}
