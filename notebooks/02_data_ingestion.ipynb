{
 "cells": [
  {
   "metadata": {},
   "cell_type": "code",
   "outputs": [],
   "execution_count": null,
   "source": [
    "import logging\n",
    "import os\n",
    "# %% [1] Imports\n",
    "import sys\n",
    "\n",
    "from IPython.display import display"
   ],
   "id": "31bb42fd954bb18c"
  },
  {
   "metadata": {},
   "cell_type": "code",
   "outputs": [],
   "execution_count": null,
   "source": [
    "# Define ANSI escape codes for green color\n",
    "GREEN = \"\\033[92m\"\n",
    "RESET = \"\\033[0m\"\n",
    "\n",
    "\n",
    "# Custom logging formatter to include green color\n",
    "class CustomFormatter(logging.Formatter):\n",
    "    def format(self, record):\n",
    "        log_msg = super().format(record)\n",
    "        return f\"{GREEN}{log_msg}{RESET}\"\n",
    "\n",
    "\n",
    "# Configure logging with the custom formatter\n",
    "handler = logging.StreamHandler()\n",
    "handler.setFormatter(CustomFormatter(\"%(asctime)s [%(levelname)s] %(message)s\"))\n",
    "logging.basicConfig(level=logging.INFO, handlers=[handler])"
   ],
   "id": "130118ab4e546b9f"
  },
  {
   "metadata": {},
   "cell_type": "code",
   "outputs": [],
   "execution_count": null,
   "source": [
    "# Add the source directory to the path\n",
    "sys.path.append(os.path.abspath(\"../source\"))\n"
   ],
   "id": "4a5a5353815ba73e"
  },
  {
   "metadata": {},
   "cell_type": "code",
   "outputs": [],
   "execution_count": null,
   "source": [
    "#  Import the ingest_data function from the data_ingestion module\n",
    "from source.data_ingestion import ingest_data\n",
    "from source.utils.config_loader import load_config"
   ],
   "id": "c7dbe732c028494d"
  },
  {
   "metadata": {},
   "cell_type": "code",
   "outputs": [],
   "execution_count": null,
   "source": [
    "# %% [2]  Load Config\n",
    "config_path = os.path.join(os.path.abspath(\"../config\"), \"settings.yml\")\n",
    "config = load_config(config_path)\n",
    "\n",
    "RAW_DIR = os.path.abspath(config[\"paths\"][\"raw_dir\"])\n",
    "INTERIM_DIR = os.path.abspath(config[\"paths\"].get(\"interim_dir\", \"data/interim\"))\n",
    "PROCESSED_DIR = os.path.abspath(config[\"paths\"][\"processed_dir\"])\n",
    "ARCHIVE_DIR = os.path.abspath(config[\"paths\"][\"archive_dir\"])\n",
    "METADATA_DIR = os.path.abspath(config[\"paths\"][\"metadata_dir\"])\n",
    "METADATA_PATH = os.path.abspath(os.path.join(METADATA_DIR, \"processed_files.json\"))\n"
   ],
   "id": "eb964f6e0d7a0e58"
  },
  {
   "metadata": {},
   "cell_type": "code",
   "outputs": [],
   "execution_count": null,
   "source": [
    "# Define archive and metadata paths\n",
    "ARCHIVE_DIR = \"../data/archive\"\n",
    "METADATA_DIR = \"../data/metadata\"\n",
    "RAW_DIR = \"../data/raw\"\n",
    "PROCESSED_DIR = \"../data/processed\"\n",
    "\n",
    "os.makedirs(INTERIM_DIR, exist_ok=True)\n",
    "os.makedirs(PROCESSED_DIR, exist_ok=True)\n",
    "os.makedirs(ARCHIVE_DIR, exist_ok=True)\n",
    "os.makedirs(METADATA_DIR, exist_ok=True)\n"
   ],
   "id": "5b43fdb802646e47"
  },
  {
   "metadata": {},
   "cell_type": "code",
   "outputs": [],
   "execution_count": null,
   "source": [
    "# %% [3] Ingest Data\n",
    "ingest_data(raw_dir=\"../data/raw\")\n"
   ],
   "id": "902b5706f582ffc5"
  },
  {
   "metadata": {},
   "cell_type": "code",
   "outputs": [],
   "execution_count": null,
   "source": [
    " # %% [2] Metadata file path\n",
    "import os\n",
    "import json\n",
    "\n",
    "if os.path.exists(METADATA_PATH):\n",
    "    print(f\"Metadata file found: {METADATA_PATH}\")\n",
    "    with open(METADATA_PATH, \"r\") as f:\n",
    "        metadata = json.load(f)\n",
    "        print(\"Metadata içeriği:\")\n",
    "        print(json.dumps(metadata, indent=4))\n",
    "else:\n",
    "    print(f\": Metadata file not found: {METADATA_PATH}\")\n"
   ],
   "id": "d6468a3a1114399f"
  },
  {
   "metadata": {},
   "cell_type": "code",
   "outputs": [],
   "execution_count": null,
   "source": [
    "# %% [3] Ingestion results inspection\n",
    "\n",
    "def load_processed_files(metadata_path):\n",
    "    if not os.path.exists(metadata_path):\n",
    "        return {\"processed_files\": []}\n",
    "    with open(metadata_path, \"r\") as f:\n",
    "        return json.load(f)\n",
    "\n",
    "\n",
    "metadata = load_processed_files(METADATA_PATH)\n",
    "processed_files = metadata.get(\"processed_files\", [])\n",
    "\n",
    "print(f\"processed file count: {len(processed_files)}\")\n",
    "print(\"first 5 processed files:\")\n",
    "for file in processed_files[:5]:\n",
    "    print(file)\n",
    "\n",
    "# Show the first 5 processed files\n",
    "display(processed_files[:5])\n"
   ],
   "id": "106471c4fca7bf3"
  },
  {
   "metadata": {},
   "cell_type": "code",
   "outputs": [],
   "execution_count": null,
   "source": [
    "# %% [4] Ingestion results inspection\n",
    "\n",
    "def load_processed_files(metadata_path):\n",
    "    if not os.path.exists(metadata_path):\n",
    "        return {\"processed_files\": []}\n",
    "    with open(metadata_path, \"r\") as f:\n",
    "        return json.load(f)\n",
    "\n",
    "\n",
    "metadata = load_processed_files(METADATA_PATH)\n",
    "processed_files = metadata.get(\"processed_files\", [])\n",
    "\n",
    "# Show the first 5 processed files\n",
    "display(processed_files[:5])\n"
   ],
   "id": "96485e98ba1487aa"
  },
  {
   "metadata": {},
   "cell_type": "code",
   "outputs": [],
   "execution_count": null,
   "source": [
    "# %% [4] Ingestion results inspection\n",
    "\n",
    "def load_processed_files(metadata_path):\n",
    "    if not os.path.exists(metadata_path):\n",
    "        return {\"processed_files\": []}\n",
    "    with open(metadata_path, \"r\") as f:\n",
    "        return json.load(f)\n",
    "\n",
    "\n",
    "metadata = load_processed_files(METADATA_PATH)\n",
    "processed_files = metadata.get(\"processed_files\", [])\n",
    "\n",
    "print(f\"processed file count: {len(processed_files)}\")\n",
    "print(\"first 5 processed files:\")\n",
    "for file in processed_files[:5]:\n",
    "    print(file)\n",
    "\n",
    "display(processed_files[:5])\n"
   ],
   "id": "7f6c296f02a5b445"
  },
  {
   "metadata": {},
   "cell_type": "code",
   "outputs": [],
   "execution_count": null,
   "source": [
    "# %% [4] Ingestion results inspection\n",
    "\n",
    "def load_processed_files(metadata_path):\n",
    "    if not os.path.exists(metadata_path):\n",
    "        return {\"processed_files\": []}\n",
    "    with open(metadata_path, \"r\") as f:\n",
    "        return json.load(f)\n",
    "\n",
    "\n",
    "metadata = load_processed_files(METADATA_PATH)\n",
    "processed_files = metadata.get(\"processed_files\", [])\n",
    "\n",
    "print(f\"processed file count: {len(processed_files)}\")\n",
    "print(\"first 5 processed files:\")\n",
    "for file in processed_files[:5]:\n",
    "    print(file)\n",
    "\n",
    "display(processed_files[:5])\n"
   ],
   "id": "a4bc99937d726880"
  }
 ],
 "metadata": {
  "kernelspec": {
   "name": "python3",
   "language": "python",
   "display_name": "Python 3 (ipykernel)"
  }
 },
 "nbformat": 5,
 "nbformat_minor": 9
}
