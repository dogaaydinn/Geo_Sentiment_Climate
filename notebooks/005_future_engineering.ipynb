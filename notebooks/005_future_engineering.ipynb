{
 "cells": [
  {
   "metadata": {},
   "cell_type": "code",
   "outputs": [],
   "execution_count": null,
   "source": [
    "# %% [markdown]\n",
    "# # Feature Engineering Analysis\n",
    "#\n",
    "# Bu notebook, `feature_engineering` modülünü kullanarak veri setiniz üzerinde özellik mühendisliği adımlarını gerçekleştirir ve sonuçları analiz eder.\n",
    "#\n",
    "# **Adımlar:**\n",
    "# 1. Veri Yükleme\n",
    "# 2. Özellik Ölçeklendirme\n",
    "# 3. Etkileşim Terimleri Oluşturma\n",
    "# 4. Özellik Mühendisliği Sonrası Analiz\n",
    "# 5. Sonuçları Kaydetme"
   ],
   "id": "2109d6b394e491ed"
  },
  {
   "metadata": {},
   "cell_type": "code",
   "outputs": [],
   "execution_count": null,
   "source": [
    "# %%\n",
    "import sys\n",
    "import logging\n",
    "import pandas as pd\n",
    "from pathlib import Path\n",
    "from IPython.display import display"
   ],
   "id": "72d11906f698b557"
  },
  {
   "metadata": {},
   "cell_type": "code",
   "outputs": [],
   "execution_count": null,
   "source": [
    "# %% [1] Imports\n",
    "from source.feature_engineering import (\n",
    "    scale_features,\n",
    "    create_interaction_terms\n",
    ")\n",
    "from source.utils.config_loader import load_config\n",
    "from source.utils.logger import setup_logger"
   ],
   "id": "1f49f9db4579698a"
  },
  {
   "metadata": {},
   "cell_type": "code",
   "outputs": [],
   "execution_count": null,
   "source": [
    "\n",
    "# %% [2] Logging Setup\n",
    "# Define ANSI escape codes for green color\n",
    "GREEN = \"\\033[92m\"\n",
    "RESET = \"\\033[0m\""
   ],
   "id": "47b94824ff1d4eb3"
  },
  {
   "metadata": {},
   "cell_type": "code",
   "outputs": [],
   "execution_count": null,
   "source": [
    "# Custom logging formatter to include green color\n",
    "class CustomFormatter(logging.Formatter):\n",
    "    def format(self, record):\n",
    "        log_msg = super().format(record)\n",
    "        return f\"{GREEN}{log_msg}{RESET}\""
   ],
   "id": "e7f1f053061a5353"
  },
  {
   "metadata": {},
   "cell_type": "code",
   "outputs": [],
   "execution_count": null,
   "source": [
    "\n",
    "# Configure logging with the custom formatter\n",
    "handler = logging.StreamHandler()\n",
    "handler.setFormatter(CustomFormatter(\"%(asctime)s [%(levelname)s] %(message)s\"))\n",
    "logging.basicConfig(level=logging.INFO, handlers=[handler])"
   ],
   "id": "731fd6ab483f9d71"
  },
  {
   "metadata": {},
   "cell_type": "code",
   "outputs": [],
   "execution_count": null,
   "source": [
    "\n",
    "# %% [3] Add Source to Sys Path\n",
    "source_path = Path(\"../03-source\").resolve()\n",
    "if str(source_path) not in sys.path:\n",
    "    sys.path.append(str(source_path))\n"
   ],
   "id": "a37576eb6cbd5ab3"
  },
  {
   "metadata": {},
   "cell_type": "code",
   "outputs": [],
   "execution_count": null,
   "source": [
    "# %% [5] Load Configuration\n",
    "CONFIG_PATH = Path(\"../00-config/settings.yml\").resolve()\n",
    "config = load_config(CONFIG_PATH)\n",
    "\n",
    "if config is None:\n",
    "    logging.error(\"Failed to load configuration. Terminating notebook.\")\n",
    "    sys.exit(1)\n",
    "\n",
    "RAW_DIR = Path(config[\"paths\"][\"raw_dir\"]).resolve()\n",
    "PROCESSED_DIR = Path(config[\"paths\"][\"processed_dir\"]).resolve()\n",
    "LOG_DIR = Path(config[\"paths\"].get(\"logs_dir\", \"../04-logs\")).resolve()\n",
    "PLOTS_DIR = Path(config[\"paths\"].get(\"plots_dir\", \"../06-plots\")).resolve()"
   ],
   "id": "a0d7b516caa06c31"
  },
  {
   "metadata": {},
   "cell_type": "code",
   "outputs": [],
   "execution_count": null,
   "source": [
    "# Setup logger\n",
    "logger = setup_logger(\n",
    "    name=\"feature_engineering_notebook\",\n",
    "    log_file=LOG_DIR / \"feature_engineering_notebook.log\",\n",
    "    log_level=config.get(\"logging\", {}).get(\"level\", \"INFO\").upper()\n",
    ")\n",
    "\n",
    "logger.info(\"=== Feature Engineering Notebook Initialized ===\")"
   ],
   "id": "29c75afa279566e8"
  },
  {
   "metadata": {},
   "cell_type": "code",
   "outputs": [],
   "execution_count": null,
   "source": [
    "\n",
    "# %% [6] Load Data\n",
    "try:\n",
    "    file_path = PROCESSED_DIR / \"epa_long_preprocessed.csv\"\n",
    "    df = pd.read_csv(file_path)\n",
    "    logger.info(f\"Data successfully loaded from {file_path}\")\n",
    "    display(df.head())\n",
    "except Exception as e:\n",
    "    logger.error(f\"Error loading data: {e}\")\n",
    "    raise"
   ],
   "id": "9ea3e84494927f68"
  },
  {
   "metadata": {},
   "cell_type": "code",
   "outputs": [],
   "execution_count": null,
   "source": [
    "\n",
    "# %% [7] Feature Scaling\n",
    "try:\n",
    "    # Örneğin, 'feature1' ve 'feature2' sütunları varsa\n",
    "    features_to_scale = [\"feature1\", \"feature2\"]  # Bu sütunları config dosyanızdan alabilirsiniz\n",
    "    logger.info(f\"Scaling features: {features_to_scale} using 'standard' method\")\n",
    "    df_scaled = scale_features(df, cols=features_to_scale, method=\"standard\")\n",
    "    display(df_scaled[features_to_scale].head())\n",
    "except Exception as e:\n",
    "    logger.error(f\"Error in feature scaling: {e}\")\n",
    "    raise"
   ],
   "id": "851b2d37583f7ba2"
  },
  {
   "metadata": {},
   "cell_type": "code",
   "outputs": [],
   "execution_count": null,
   "source": [
    "# %% [8] Create Interaction Term\n",
    "try:\n",
    "    logger.info(\"Creating interaction term between 'feature1' and 'feature2'\")\n",
    "    interaction_term = create_interaction_terms(df_scaled, col1=\"feature1\", col2=\"feature2\", operation=\"multiply\")\n",
    "    df_scaled[\"feature1_feature2_multiply\"] = interaction_term\n",
    "    display(df_scaled[[\"feature1\", \"feature2\", \"feature1_feature2_multiply\"]].head())\n",
    "except Exception as e:\n",
    "    logger.error(f\"Error in creating interaction term: {e}\")\n",
    "    raise"
   ],
   "id": "8c41b5a1577f6995"
  },
  {
   "metadata": {},
   "cell_type": "code",
   "outputs": [],
   "execution_count": null,
   "source": [
    "\n",
    "# %% [9] Feature Engineering Sonrası Analiz\n",
    "try:\n",
    "    logger.info(\"Generating basic info after feature engineering\")\n",
    "    basic_info_dict = {\n",
    "        \"Shape\": df_scaled.shape,\n",
    "        \"Columns\": df_scaled.columns.tolist(),\n",
    "        \"Data Types\": df_scaled.dtypes.to_dict(),\n",
    "        \"Missing Values\": df_scaled.isnull().sum().to_dict()\n",
    "    }\n",
    "    display(basic_info_dict)\n",
    "except Exception as e:\n",
    "    logger.error(f\"Error generating basic info after feature engineering: {e}\")\n"
   ],
   "id": "498722604f46b088"
  },
  {
   "metadata": {},
   "cell_type": "code",
   "outputs": [],
   "execution_count": null,
   "source": [
    "# %% [10] Save the Engineered Features\n",
    "try:\n",
    "    output_path = PROCESSED_DIR / \"epa_features.csv\"\n",
    "    df_scaled.to_csv(output_path, index=False)\n",
    "    logger.info(f\"Feature engineered data saved to {output_path}\")\n",
    "except Exception as e:\n",
    "    logger.error(f\"Error saving feature engineered data: {e}\")\n",
    "    raise\n",
    "\n",
    "# %% [11] Feature Engineering Notebook Completed\n",
    "logger.info(\"=== Feature Engineering Notebook Completed ===\")"
   ],
   "id": "fb6e0ad7e590a8a7"
  }
 ],
 "metadata": {
  "kernelspec": {
   "display_name": "geoenv",
   "language": "python",
   "name": "geoenv"
  },
  "language_info": {
   "codemirror_mode": {
    "name": "ipython",
    "version": 3
   },
   "file_extension": ".py",
   "mimetype": "text/x-python",
   "name": "python",
   "nbconvert_exporter": "python",
   "pygments_lexer": "ipython3",
   "version": "3.12.8"
  }
 },
 "nbformat": 4,
 "nbformat_minor": 5
}
