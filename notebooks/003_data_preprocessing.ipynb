{
 "cells": [
  {
   "cell_type": "code",
   "execution_count": null,
   "id": "9af94481-1d6d-4dbd-8f0c-0333254a9c42",
   "metadata": {},
   "outputs": [],
   "source": [
    "# %% [1] required libraries\n",
    "import os\n",
    "import sys\n",
    "\n",
    "import numpy as np\n"
   ]
  },
  {
   "cell_type": "code",
   "execution_count": null,
   "id": "66d64654-1512-4eb6-a21e-cf2906928a40",
   "metadata": {},
   "outputs": [],
   "source": [
    "# Add the parent directory of 'source' to the Python path\n",
    "sys.path.append(os.path.abspath(\"../source\"))"
   ]
  },
  {
   "cell_type": "code",
   "execution_count": null,
   "id": "b78dfc94-f758-4c89-9875-b700581ef81d",
   "metadata": {},
   "outputs": [],
   "source": [
    "# Enable IterativeImputer\n",
    "#local script import\n",
    "from source.utils.config_loader import load_config\n",
    "from source.utils.logger import setup_logger\n",
    "from source.data_preprocessing import (\n",
    "    load_data,\n",
    "    fill_missing_values,\n",
    "    scale_features,\n",
    "    visualize_missing_values,\n",
    "    correlation_analysis,\n",
    "    detect_outliers,\n",
    "    basic_info,\n",
    ")\n",
    "\n"
   ]
  },
  {
   "cell_type": "code",
   "execution_count": null,
   "id": "ae53bd96-a3d1-45d8-918e-ca4ec4758483",
   "metadata": {},
   "outputs": [],
   "source": [
    "# Paths\n",
    "RAW_DIR = \"../data/raw\"\n",
    "PROCESSED_DIR = \"../data/processed\"\n",
    "PLOTS_DIR = \"../plots/\"\n",
    "LOG_DIR = \"../logs/\""
   ]
  },
  {
   "cell_type": "code",
   "execution_count": null,
   "id": "7de107d0-e4f0-47ed-9933-d6d995d23fb3",
   "metadata": {},
   "outputs": [],
   "source": [
    "# Logger setup\n",
    "logger = setup_logger(name=\"data_preprocessing\", log_file=os.path.join(LOG_DIR, \"data_preprocessing.log\"),\n",
    "                      log_level=\"INFO\")"
   ]
  },
  {
   "cell_type": "code",
   "execution_count": null,
   "id": "fde4d428-b93c-4e61-9954-5e4c85499a91",
   "metadata": {},
   "outputs": [],
   "source": [
    "# Config file path\n",
    "CONFIG_PATH = \"../config/settings.yml\"\n",
    "config = load_config(CONFIG_PATH)\n",
    "\n",
    "#  Load the configuration file\n",
    "RAW_DIR = config[\"paths\"][\"raw_dir\"]\n",
    "PROCESSED_DIR = config[\"paths\"][\"processed_dir\"]\n",
    "PLOTS_DIR = config[\"paths\"].get(\"plots_dir\", \"../plots\")\n"
   ]
  },
  {
   "cell_type": "code",
   "execution_count": null,
   "id": "5e59cbf1-3927-475e-aa0d-d6911b3c804e",
   "metadata": {},
   "outputs": [],
   "source": [
    "#  Check if the directories exist and create them if they don't\n",
    "os.makedirs(PLOTS_DIR, exist_ok=True)\n",
    "os.makedirs(LOG_DIR, exist_ok=True)\n",
    "logger.info(\"Notebook initialized.\")"
   ]
  },
  {
   "cell_type": "code",
   "execution_count": null,
   "id": "215f25fd-b1e7-483c-8814-08f779483b90",
   "metadata": {},
   "outputs": [],
   "source": [
    "# %% Data Loading\n",
    "file_path = os.path.join(PROCESSED_DIR, \"combined_data.csv\")\n",
    "\n",
    "try:\n",
    "    df = load_data(file_path)\n",
    "    logger.info(\"Data successfully loaded.\")\n",
    "except Exception as e:\n",
    "    logger.error(f\"Error loading data: {e}\")\n",
    "    raise\n",
    "\n",
    "#  basic information\n",
    "info = basic_info(df)\n",
    "print(info)\n"
   ]
  },
  {
   "cell_type": "code",
   "execution_count": null,
   "id": "41d15ac4-a26b-410c-a2eb-93de33b7ac58",
   "metadata": {},
   "outputs": [],
   "source": [
    "# %%  Visualizing Missing Values\n",
    "logger.info(\"Visualizing missing values.\")\n",
    "visualize_missing_values(df)\n"
   ]
  },
  {
   "cell_type": "code",
   "execution_count": null,
   "id": "2ee852f6-04b0-4495-b8a8-aa8a037b2d5c",
   "metadata": {},
   "outputs": [],
   "source": [
    "# %%  Filling Missing Values\n",
    "logger.info(\"Filling missing values using mean method.\")\n",
    "df = fill_missing_values(df, method=\"mean\")\n",
    "\n",
    "#  basic information\n",
    "info_after_filling = basic_info(df)\n",
    "print(info_after_filling)\n"
   ]
  },
  {
   "cell_type": "code",
   "execution_count": null,
   "id": "003fa609-d930-43c3-9e6b-6a8e386af626",
   "metadata": {},
   "outputs": [],
   "source": [
    "# Scaling Numeric Columns\n",
    "numeric_cols = df.select_dtypes(include=[np.number]).columns.tolist()\n",
    "\n",
    "logger.info(\"Scaling numeric columns using standard method.\")\n",
    "df = scale_features(df, numeric_cols, method=\"standard\")\n"
   ]
  },
  {
   "cell_type": "code",
   "execution_count": null,
   "id": "7f9a5373-b641-4964-9efe-fe3bfe3147f6",
   "metadata": {},
   "outputs": [],
   "source": [
    "#  Correlation Analysis\n",
    "logger.info(\"Performing correlation analysis.\")\n",
    "correlation_analysis(df, numeric_cols)\n"
   ]
  },
  {
   "cell_type": "code",
   "execution_count": null,
   "id": "d2fe1881-47eb-4b4a-bbb1-e92916d59f96",
   "metadata": {},
   "outputs": [],
   "source": [
    "# Detecting Outliers\n",
    "logger.info(\"Detecting outliers in numeric columns.\")\n",
    "detect_outliers(df, numeric_cols)\n"
   ]
  },
  {
   "cell_type": "code",
   "execution_count": null,
   "id": "4f49dc75-2ec7-404f-9807-2d1416cc61b1",
   "metadata": {},
   "outputs": [],
   "source": [
    "#  Data Preprocessing\n",
    "output_file = os.path.join(PROCESSED_DIR, \"epa_preprocessed.csv\")\n",
    "\n",
    "try:\n",
    "    df.to_csv(output_file, index=False)\n",
    "    logger.info(f\"Preprocessed data saved successfully at: {output_file}\")\n",
    "except Exception as e:\n",
    "    logger.error(f\"Error saving preprocessed data: {e}\")\n",
    "    raise\n"
   ]
  }
 ],
 "metadata": {
  "kernelspec": {
   "display_name": "geoenv",
   "language": "python",
   "name": "geoenv"
  },
  "language_info": {
   "codemirror_mode": {
    "name": "ipython",
    "version": 3
   },
   "file_extension": ".py",
   "mimetype": "text/x-python",
   "name": "python",
   "nbconvert_exporter": "python",
   "pygments_lexer": "ipython3",
   "version": "3.12.8"
  }
 },
 "nbformat": 4,
 "nbformat_minor": 5
}
