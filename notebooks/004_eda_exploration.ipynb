{
 "cells": [
  {
   "metadata": {},
   "cell_type": "code",
   "outputs": [],
   "execution_count": null,
   "source": [
    "# %% [markdown]\n",
    "# # Exploratory Data Analysis (EDA)\n",
    "#\n",
    "# Bu notebook, veri setiniz üzerinde Keşifsel Veri Analizi (EDA) adımlarını gerçekleştirir ve bulguları analiz eder.\n"
   ],
   "id": "e013b91f7cef8d98"
  },
  {
   "metadata": {},
   "cell_type": "code",
   "outputs": [],
   "execution_count": null,
   "source": [
    "# %%\n",
    "import sys\n",
    "import logging\n",
    "import numpy as np\n",
    "from pathlib import Path\n",
    "from IPython.display import display"
   ],
   "id": "35e0f116fe85e4d7"
  },
  {
   "metadata": {},
   "cell_type": "code",
   "outputs": [],
   "execution_count": null,
   "source": [
    "# %% [1] Imports\n",
    "from source.eda_exploration import (\n",
    "    load_data,\n",
    "    basic_info,\n",
    "    missing_values,\n",
    "    distribution_analysis,\n",
    "    correlation_analysis,\n",
    "    detect_outliers,\n",
    ")\n",
    "from source.utils.config_loader import load_config\n",
    "from source.utils.logger import setup_logger"
   ],
   "id": "44970535a5717512"
  },
  {
   "metadata": {},
   "cell_type": "code",
   "outputs": [],
   "execution_count": null,
   "source": [
    "# %% [2] Logging Setup\n",
    "# Define ANSI escape codes for green color\n",
    "GREEN = \"\\033[92m\"\n",
    "RESET = \"\\033[0m\""
   ],
   "id": "101c1f5634f9c6d8"
  },
  {
   "metadata": {},
   "cell_type": "code",
   "outputs": [],
   "execution_count": null,
   "source": [
    "# Custom logging formatter to include green color\n",
    "class CustomFormatter(logging.Formatter):\n",
    "    def format(self, record):\n",
    "        log_msg = super().format(record)\n",
    "        return f\"{GREEN}{log_msg}{RESET}\""
   ],
   "id": "abbb6507279fe619"
  },
  {
   "metadata": {},
   "cell_type": "code",
   "outputs": [],
   "execution_count": null,
   "source": [
    "# Configure logging with the custom formatter\n",
    "handler = logging.StreamHandler()\n",
    "handler.setFormatter(CustomFormatter(\"%(asctime)s [%(levelname)s] %(message)s\"))\n",
    "logging.basicConfig(level=logging.INFO, handlers=[handler])"
   ],
   "id": "cd494853f315741"
  },
  {
   "metadata": {},
   "cell_type": "code",
   "outputs": [],
   "execution_count": null,
   "source": [
    "# %% [3] Add Source to Sys Path\n",
    "source_path = Path(\"../03-source\").resolve()\n",
    "if str(source_path) not in sys.path:\n",
    "    sys.path.append(str(source_path))"
   ],
   "id": "6403ba96794a4fe4"
  },
  {
   "metadata": {},
   "cell_type": "code",
   "outputs": [],
   "execution_count": null,
   "source": [
    "# %% [4] Import EDA Functions\n",
    "# Already imported in [1]"
   ],
   "id": "bcc56390a816f6c3"
  },
  {
   "metadata": {},
   "cell_type": "code",
   "outputs": [],
   "execution_count": null,
   "source": [
    "# %% [5] Load Configuration\n",
    "CONFIG_PATH = Path(\"../00-config/settings.yml\").resolve()\n",
    "config = load_config(CONFIG_PATH)\n",
    "\n",
    "if config is None:\n",
    "    logging.error(\"Failed to load configuration. Terminating notebook.\")\n",
    "    sys.exit(1)\n",
    "\n",
    "RAW_DIR = Path(config[\"paths\"][\"raw_dir\"]).resolve()\n",
    "PROCESSED_DIR = Path(config[\"paths\"][\"processed_dir\"]).resolve()\n",
    "LOG_DIR = Path(config[\"paths\"].get(\"logs_dir\", \"../04-logs\")).resolve()\n",
    "PLOTS_DIR = Path(config[\"paths\"].get(\"plots_dir\", \"../06-plots\")).resolve()"
   ],
   "id": "b7352e013695058f"
  },
  {
   "metadata": {},
   "cell_type": "code",
   "outputs": [],
   "execution_count": null,
   "source": [
    "# Setup logger\n",
    "logger = setup_logger(\n",
    "    name=\"eda_notebook\",\n",
    "    log_file=LOG_DIR / \"eda_notebook.log\",\n",
    "    log_level=config.get(\"logging\", {}).get(\"level\", \"INFO\").upper()\n",
    ")\n",
    "\n",
    "logger.info(\"=== EDA Notebook Initialized ===\")"
   ],
   "id": "a429d3848c268fdd"
  },
  {
   "metadata": {},
   "cell_type": "code",
   "outputs": [],
   "execution_count": null,
   "source": [
    "# %% [6] Load Data\n",
    "try:\n",
    "    file_path = PROCESSED_DIR / \"epa_long_preprocessed.csv\"\n",
    "    df = load_data(file_path)\n",
    "    logger.info(\"Data successfully loaded.\")\n",
    "except Exception as e:\n",
    "    logger.error(f\"Error loading data: {e}\")\n",
    "    raise"
   ],
   "id": "660cbc3790342ff"
  },
  {
   "metadata": {},
   "cell_type": "code",
   "outputs": [],
   "execution_count": null,
   "source": [
    "# %% [7] Basic Info\n",
    "try:\n",
    "    basic_info_dict = basic_info(df)\n",
    "    logger.info(\"Basic info generated successfully.\")\n",
    "    display(basic_info_dict)\n",
    "except Exception as e:\n",
    "    logger.error(f\"Error generating basic info: {e}\")"
   ],
   "id": "c54d728ab792895a"
  },
  {
   "metadata": {},
   "cell_type": "code",
   "outputs": [],
   "execution_count": null,
   "source": [
    "# %% [8] Missing Values Analysis\n",
    "try:\n",
    "    missing_values(df, save=False)  # set save=True and provide save_path if needed\n",
    "    logger.info(\"Missing values analyzed successfully.\")\n",
    "except Exception as e:\n",
    "    logger.error(f\"Error analyzing missing values: {e}\")"
   ],
   "id": "d0b6aef57694f188"
  },
  {
   "metadata": {},
   "cell_type": "code",
   "outputs": [],
   "execution_count": null,
   "source": [
    "# %% [9] Distribution Analysis\n",
    "try:\n",
    "    numeric_cols = df.select_dtypes(include=[np.number]).columns.tolist()\n",
    "    logger.info(f\"Numeric columns identified: {numeric_cols}\")\n",
    "    distribution_analysis(df, numeric_cols, save=False)  # set save=True and provide save_dir if needed\n",
    "except Exception as e:\n",
    "    logger.error(f\"Error in distribution analysis: {e}\")"
   ],
   "id": "6ea7db606b7b4520"
  },
  {
   "metadata": {},
   "cell_type": "code",
   "outputs": [],
   "execution_count": null,
   "source": [
    "# %% [10] Correlation Analysis\n",
    "try:\n",
    "    correlation_analysis(df, numeric_cols, save=False)  # set save=True and provide save_dir if needed\n",
    "    logger.info(\"Correlation analysis completed successfully.\")\n",
    "except Exception as e:\n",
    "    logger.error(f\"Error in correlation analysis: {e}\")"
   ],
   "id": "c60df95e6c95fc60"
  },
  {
   "metadata": {},
   "cell_type": "code",
   "outputs": [],
   "execution_count": null,
   "source": [
    "# %% [11] Outlier Detection\n",
    "try:\n",
    "    detect_outliers(df, numeric_cols, save=False)  # set save=True and provide save_dir if needed\n",
    "    logger.info(\"Outlier detection completed successfully.\")\n",
    "except Exception as e:\n",
    "    logger.error(f\"Error in outlier detection: {e}\")\n",
    "\n",
    "# %% [12] EDA Notebook Completed\n",
    "logger.info(\"=== EDA Notebook Completed ===\")"
   ],
   "id": "67f4146f4e98458c"
  }
 ],
 "metadata": {
  "kernelspec": {
   "display_name": "geoenv",
   "language": "python",
   "name": "geoenv"
  },
  "language_info": {
   "codemirror_mode": {
    "name": "ipython",
    "version": 3
   },
   "file_extension": ".py",
   "mimetype": "text/x-python",
   "name": "python",
   "nbconvert_exporter": "python",
   "pygments_lexer": "ipython3",
   "version": "3.12.8"
  }
 },
 "nbformat": 4,
 "nbformat_minor": 5
}
