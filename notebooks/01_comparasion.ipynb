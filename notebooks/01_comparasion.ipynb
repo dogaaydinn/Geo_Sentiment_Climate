{
 "cells": [
  {
   "cell_type": "code",
   "execution_count": null,
   "id": "ac73b271-d626-46f7-bbfc-1b50f8f9c04a",
   "metadata": {},
   "outputs": [],
   "source": [
    "# Import necessary libraries\n",
    "import os\n",
    "import pandas as pd\n",
    "import matplotlib.pyplot as plt\n",
    "# Import custom modules\n",
    "from source.utils.config_loader import load_config\n",
    "from source.utils.logger import setup_logger\n",
    "from source.missing_value_comparison import compare_missing_values\n"
   ]
  },
  {
   "cell_type": "code",
   "execution_count": null,
   "id": "864e1b3e-278a-47e4-bd5d-3b8664a7c9bd",
   "metadata": {},
   "outputs": [],
   "source": [
    "# Config and Logger Settings\n",
    "CONFIG_PATH = \"../config/settings.yml\"\n",
    "\n",
    "try:\n",
    "    # Load config file\n",
    "    config = load_config(CONFIG_PATH)\n",
    "    if config is None:\n",
    "        raise ValueError(\"Config file could not be loaded or returned empty.\")\n",
    "\n",
    "    # Get directories from config and convert to absolute paths\n",
    "    RAW_DIR = os.path.abspath(config[\"paths\"][\"raw_dir\"])\n",
    "    PROCESSED_DIR = os.path.abspath(config[\"paths\"][\"processed_dir\"])\n",
    "    LOG_DIR = os.path.abspath(config[\"paths\"].get(\"logs_dir\", \"../logs\"))\n",
    "\n",
    "    # Check and create directories if they don't exist\n",
    "    os.makedirs(LOG_DIR, exist_ok=True)\n",
    "\n",
    "    # Create logger\n",
    "    logger = setup_logger(\n",
    "        name=\"missing_value_comparison\",\n",
    "        log_file=os.path.join(LOG_DIR, \"missing_value_comparison.log\"),\n",
    "        log_level=\"INFO\"\n",
    "    )\n",
    "    logger.info(\"Config file and directories loaded successfully.\")\n",
    "except KeyError as e:\n",
    "    raise ValueError(f\"Missing key in config file: {e}\")\n",
    "except Exception as e:\n",
    "    raise RuntimeError(f\"Error loading config: {e}\")\n"
   ]
  },
  {
   "cell_type": "code",
   "execution_count": null,
   "id": "338863db-5109-4a3a-972d-edb18446fe11",
   "metadata": {},
   "outputs": [],
   "source": [
    "# Function to load data\n",
    "def load_data(file_path):\n",
    "    logger.info(f\"Loading data from {file_path}\")\n",
    "    try:\n",
    "        data = pd.read_csv(file_path)\n",
    "        logger.info(\"Data loaded successfully\")\n",
    "        return data\n",
    "    except Exception as e:\n",
    "        logger.error(f\"Error loading data from {file_path}: {e}\")\n",
    "        raise\n"
   ]
  },
  {
   "cell_type": "code",
   "execution_count": null,
   "id": "1cf5b923-f4aa-445a-9735-7711e03b6d85",
   "metadata": {},
   "outputs": [],
   "source": [
    "# Load original data\n",
    "original_file_path = os.path.join(RAW_DIR, \"epa_long_preprocessed.csv\")  # Adjust as needed\n",
    "try:\n",
    "    original_df = load_data(original_file_path)\n",
    "    logger.info(\"Original data loaded successfully.\")\n",
    "except Exception as e:\n",
    "    logger.critical(f\"Failed to load original data: {e}\")\n",
    "    raise\n",
    "\n",
    "# Load processed data\n",
    "processed_file_path = os.path.join(PROCESSED_DIR, \"epa_preprocessed.csv\")\n",
    "try:\n",
    "    processed_df = load_data(processed_file_path)\n",
    "    logger.info(\"Processed data loaded successfully.\")\n",
    "except Exception as e:\n",
    "    logger.critical(f\"Failed to load processed data: {e}\")\n",
    "    raise\n"
   ]
  },
  {
   "cell_type": "code",
   "execution_count": null,
   "id": "787e309a-e41e-41b4-8695-a69052c8e82c",
   "metadata": {},
   "outputs": [],
   "source": [
    "# Compare missing values between original and processed data\n",
    "try:\n",
    "    comparison_df = compare_missing_values(original_df, processed_df)\n",
    "    logger.info(\"Missing value comparison completed successfully.\")\n",
    "except Exception as e:\n",
    "    logger.critical(f\"Missing value comparison failed: {e}\")\n",
    "    raise\n"
   ]
  },
  {
   "cell_type": "code",
   "execution_count": null,
   "id": "d6100547-4f2e-4362-a86b-2f5366adcb18",
   "metadata": {},
   "outputs": [],
   "source": [
    "# Visualize comparison results\n",
    "def visualize_comparison(comparison_df, save=True, filename=\"missing_value_comparison.png\"):\n",
    "    logger.info(\"Visualizing missing value comparison.\")\n",
    "    try:\n",
    "        comparison_df.plot(kind='bar', figsize=(12, 8))\n",
    "        plt.title(\"Missing Values Comparison: Original vs Processed\")\n",
    "        plt.xlabel(\"Columns\")\n",
    "        plt.ylabel(\"Number of Missing Values\")\n",
    "        plt.xticks(rotation=45, ha='right')\n",
    "        plt.tight_layout()\n",
    "        if save:\n",
    "            filepath = os.path.join(PROCESSED_DIR, filename)\n",
    "            plt.savefig(filepath)\n",
    "            logger.info(f\"Missing value comparison plot saved to {filepath}\")\n",
    "            plt.close()\n",
    "        else:\n",
    "            plt.show()\n",
    "    except Exception as e:\n",
    "        logger.error(f\"Error in visualization of missing value comparison: {e}\")\n",
    "        raise\n",
    "\n",
    "\n",
    "# Visualize the comparison\n",
    "visualize_comparison(comparison_df, save=True, filename=\"missing_value_comparison.png\")\n"
   ]
  },
  {
   "cell_type": "code",
   "execution_count": null,
   "id": "e5544e0c-af7d-439a-93a5-90f052abb5c8",
   "metadata": {},
   "outputs": [],
   "source": [
    "# Display the comparison DataFrame\n",
    "print(\"Missing Value Comparison:\")\n",
    "print(comparison_df)\n"
   ]
  }
 ],
 "metadata": {
  "kernelspec": {
   "display_name": "geoenv",
   "language": "python",
   "name": "geoenv"
  },
  "language_info": {
   "codemirror_mode": {
    "name": "ipython",
    "version": 3
   },
   "file_extension": ".py",
   "mimetype": "text/x-python",
   "name": "python",
   "nbconvert_exporter": "python",
   "pygments_lexer": "ipython3",
   "version": "3.12.8"
  }
 },
 "nbformat": 4,
 "nbformat_minor": 5
}
