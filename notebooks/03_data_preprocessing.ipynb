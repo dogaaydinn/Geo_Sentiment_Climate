{
 "cells": [
  {
   "metadata": {
    "ExecuteTime": {
     "end_time": "2025-01-10T13:27:21.105979Z",
     "start_time": "2025-01-10T13:27:21.103620Z"
    }
   },
   "cell_type": "code",
   "source": [
    "# %% [1] required libraries\n",
    "import os\n",
    "import sys\n",
    "\n",
    "import numpy as np\n"
   ],
   "id": "2cde57d847a4f371",
   "outputs": [],
   "execution_count": 1
  },
  {
   "metadata": {
    "ExecuteTime": {
     "end_time": "2025-01-08T14:20:34.421656Z",
     "start_time": "2025-01-08T14:20:34.380088Z"
    }
   },
   "cell_type": "code",
   "source": [
    "# Add the parent directory of 'source' to the Python path\n",
    "sys.path.append(os.path.abspath(\"../source\"))"
   ],
   "id": "1e8bcf6696d4c983",
   "outputs": [],
   "execution_count": 18
  },
  {
   "metadata": {
    "ExecuteTime": {
     "end_time": "2025-01-08T14:20:35.441236Z",
     "start_time": "2025-01-08T14:20:35.432592Z"
    }
   },
   "cell_type": "code",
   "source": [
    "# Enable IterativeImputer\n",
    "#local script import\n",
    "from source.utils.config_loader import load_config\n",
    "from source.utils.logger import setup_logger\n",
    "from source.data_preprocessing import (\n",
    "    load_data,\n",
    "    fill_missing_values,\n",
    "    scale_features,\n",
    "    visualize_missing_values,\n",
    "    correlation_analysis,\n",
    "    detect_outliers,\n",
    "    basic_info,\n",
    ")\n",
    "\n"
   ],
   "id": "e69dd34a8a8db526",
   "outputs": [],
   "execution_count": 19
  },
  {
   "metadata": {
    "ExecuteTime": {
     "end_time": "2025-01-08T14:20:37.130162Z",
     "start_time": "2025-01-08T14:20:37.089350Z"
    }
   },
   "cell_type": "code",
   "source": [
    "# Paths\n",
    "RAW_DIR = \"../data/raw\"\n",
    "PROCESSED_DIR = \"../data/processed\"\n",
    "PLOTS_DIR = \"../plots/\"\n",
    "LOG_DIR = \"../logs/\""
   ],
   "id": "63be7ef948424bac",
   "outputs": [],
   "execution_count": 20
  },
  {
   "metadata": {
    "ExecuteTime": {
     "end_time": "2025-01-08T14:20:38.240689Z",
     "start_time": "2025-01-08T14:20:38.238014Z"
    }
   },
   "cell_type": "code",
   "source": [
    "# Logger setup\n",
    "logger = setup_logger(name=\"data_preprocessing\", log_file=os.path.join(LOG_DIR, \"data_preprocessing.log\"),\n",
    "                      log_level=\"INFO\")"
   ],
   "id": "aca6da931487e8a6",
   "outputs": [],
   "execution_count": 21
  },
  {
   "metadata": {
    "ExecuteTime": {
     "end_time": "2025-01-08T14:20:39.696340Z",
     "start_time": "2025-01-08T14:20:39.689169Z"
    }
   },
   "cell_type": "code",
   "source": [
    "# Config file path\n",
    "CONFIG_PATH = \"../config/settings.yml\"\n",
    "config = load_config(CONFIG_PATH)\n",
    "\n",
    "#  Load the configuration file\n",
    "RAW_DIR = config[\"paths\"][\"raw_dir\"]\n",
    "PROCESSED_DIR = config[\"paths\"][\"processed_dir\"]\n",
    "PLOTS_DIR = config[\"paths\"].get(\"plots_dir\", \"../plots\")\n"
   ],
   "id": "3e659e76553ab547",
   "outputs": [],
   "execution_count": 22
  },
  {
   "metadata": {
    "ExecuteTime": {
     "end_time": "2025-01-08T14:20:41.152581Z",
     "start_time": "2025-01-08T14:20:41.146195Z"
    }
   },
   "cell_type": "code",
   "source": [
    "#  Check if the directories exist and create them if they don't\n",
    "os.makedirs(PLOTS_DIR, exist_ok=True)\n",
    "os.makedirs(LOG_DIR, exist_ok=True)\n",
    "logger.info(\"Notebook initialized.\")"
   ],
   "id": "3f7d754b831cb783",
   "outputs": [
    {
     "name": "stderr",
     "output_type": "stream",
     "text": [
      "2025-01-08 17:20:41,147 - data_preprocessing - INFO - Notebook initialized.\n",
      "2025-01-08 17:20:41,147 - data_preprocessing - INFO - Notebook initialized.\n",
      "2025-01-08 17:20:41,147 - data_preprocessing - INFO - Notebook initialized.\n",
      "2025-01-08 17:20:41,147 - data_preprocessing - INFO - Notebook initialized.\n",
      "INFO:data_preprocessing:Notebook initialized.\n"
     ]
    }
   ],
   "execution_count": 23
  },
  {
   "metadata": {
    "ExecuteTime": {
     "end_time": "2025-01-08T14:25:10.615820Z",
     "start_time": "2025-01-08T14:25:07.955768Z"
    }
   },
   "cell_type": "code",
   "source": [
    "# %% Data Loading\n",
    "file_path = os.path.join(PROCESSED_DIR, \"combined_data.csv\")\n",
    "\n",
    "try:\n",
    "    df = load_data(file_path)\n",
    "    logger.info(\"Data successfully loaded.\")\n",
    "except Exception as e:\n",
    "    logger.error(f\"Error loading data: {e}\")\n",
    "    raise\n",
    "\n",
    "#  basic information\n",
    "info = basic_info(df)\n",
    "print(info)\n"
   ],
   "id": "da985570b9a3d2d7",
   "outputs": [
    {
     "name": "stderr",
     "output_type": "stream",
     "text": [
      "2025-01-08 17:25:07,956 - data_preprocessing - INFO - Loading data from ../data/processed/combined_data.csv\n",
      "2025-01-08 17:25:07,956 - data_preprocessing - INFO - Loading data from ../data/processed/combined_data.csv\n",
      "2025-01-08 17:25:07,956 - data_preprocessing - INFO - Loading data from ../data/processed/combined_data.csv\n",
      "2025-01-08 17:25:07,956 - data_preprocessing - INFO - Loading data from ../data/processed/combined_data.csv\n",
      "INFO:data_preprocessing:Loading data from ../data/processed/combined_data.csv\n",
      "/Users/dogaaydin/PycharmProjects/Geo_Sentiment_Climate/source/data_preprocessing.py:52: DtypeWarning: Columns (23) have mixed types. Specify dtype option on import or set low_memory=False.\n",
      "  data = pd.read_csv(file_path)\n",
      "2025-01-08 17:25:09,684 - data_preprocessing - INFO - Data loaded successfully\n",
      "2025-01-08 17:25:09,684 - data_preprocessing - INFO - Data loaded successfully\n",
      "2025-01-08 17:25:09,684 - data_preprocessing - INFO - Data loaded successfully\n",
      "2025-01-08 17:25:09,684 - data_preprocessing - INFO - Data loaded successfully\n",
      "INFO:data_preprocessing:Data loaded successfully\n",
      "2025-01-08 17:25:09,686 - data_preprocessing - INFO - Data successfully loaded.\n",
      "2025-01-08 17:25:09,686 - data_preprocessing - INFO - Data successfully loaded.\n",
      "2025-01-08 17:25:09,686 - data_preprocessing - INFO - Data successfully loaded.\n",
      "2025-01-08 17:25:09,686 - data_preprocessing - INFO - Data successfully loaded.\n",
      "INFO:data_preprocessing:Data successfully loaded.\n",
      "2025-01-08 17:25:09,687 - data_preprocessing - INFO - Generating basic info of the dataset at Initial stage\n",
      "2025-01-08 17:25:09,687 - data_preprocessing - INFO - Generating basic info of the dataset at Initial stage\n",
      "2025-01-08 17:25:09,687 - data_preprocessing - INFO - Generating basic info of the dataset at Initial stage\n",
      "2025-01-08 17:25:09,687 - data_preprocessing - INFO - Generating basic info of the dataset at Initial stage\n",
      "INFO:data_preprocessing:Generating basic info of the dataset at Initial stage\n",
      "2025-01-08 17:25:10,613 - data_preprocessing - INFO - Dataset Info (Initial): {'Shape': (1458216, 26), 'Columns': ['Date', 'Source', 'Site ID', 'POC', 'Daily Max 1-hour SO2 Concentration', 'Units', 'Daily AQI Value', 'Local Site Name', 'Daily Obs Count', 'Percent Complete', 'AQS Parameter Code', 'AQS Parameter Description', 'Method Code', 'CBSA Code', 'CBSA Name', 'State FIPS Code', 'State', 'County FIPS Code', 'County', 'Site Latitude', 'Site Longitude', 'Daily Max 8-hour Ozone Concentration', 'Daily Mean PM2.5 Concentration', 'Method Description', 'Daily Max 8-hour CO Concentration', 'Daily Max 1-hour NO2 Concentration'], 'Data Types': {'Date': dtype('O'), 'Source': dtype('O'), 'Site ID': dtype('int64'), 'POC': dtype('int64'), 'Daily Max 1-hour SO2 Concentration': dtype('float64'), 'Units': dtype('O'), 'Daily AQI Value': dtype('int64'), 'Local Site Name': dtype('O'), 'Daily Obs Count': dtype('int64'), 'Percent Complete': dtype('float64'), 'AQS Parameter Code': dtype('int64'), 'AQS Parameter Description': dtype('O'), 'Method Code': dtype('float64'), 'CBSA Code': dtype('float64'), 'CBSA Name': dtype('O'), 'State FIPS Code': dtype('int64'), 'State': dtype('O'), 'County FIPS Code': dtype('int64'), 'County': dtype('O'), 'Site Latitude': dtype('float64'), 'Site Longitude': dtype('float64'), 'Daily Max 8-hour Ozone Concentration': dtype('float64'), 'Daily Mean PM2.5 Concentration': dtype('float64'), 'Method Description': dtype('O'), 'Daily Max 8-hour CO Concentration': dtype('float64'), 'Daily Max 1-hour NO2 Concentration': dtype('float64')}, 'Missing Values': {'Date': 0, 'Source': 0, 'Site ID': 0, 'POC': 0, 'Daily Max 1-hour SO2 Concentration': 1210308, 'Units': 0, 'Daily AQI Value': 0, 'Local Site Name': 49825, 'Daily Obs Count': 0, 'Percent Complete': 0, 'AQS Parameter Code': 0, 'AQS Parameter Description': 0, 'Method Code': 1, 'CBSA Code': 145945, 'CBSA Name': 145945, 'State FIPS Code': 0, 'State': 0, 'County FIPS Code': 0, 'County': 0, 'Site Latitude': 0, 'Site Longitude': 0, 'Daily Max 8-hour Ozone Concentration': 1063933, 'Daily Mean PM2.5 Concentration': 992795, 'Method Description': 992795, 'Daily Max 8-hour CO Concentration': 1319464, 'Daily Max 1-hour NO2 Concentration': 1246364}}\n",
      "2025-01-08 17:25:10,613 - data_preprocessing - INFO - Dataset Info (Initial): {'Shape': (1458216, 26), 'Columns': ['Date', 'Source', 'Site ID', 'POC', 'Daily Max 1-hour SO2 Concentration', 'Units', 'Daily AQI Value', 'Local Site Name', 'Daily Obs Count', 'Percent Complete', 'AQS Parameter Code', 'AQS Parameter Description', 'Method Code', 'CBSA Code', 'CBSA Name', 'State FIPS Code', 'State', 'County FIPS Code', 'County', 'Site Latitude', 'Site Longitude', 'Daily Max 8-hour Ozone Concentration', 'Daily Mean PM2.5 Concentration', 'Method Description', 'Daily Max 8-hour CO Concentration', 'Daily Max 1-hour NO2 Concentration'], 'Data Types': {'Date': dtype('O'), 'Source': dtype('O'), 'Site ID': dtype('int64'), 'POC': dtype('int64'), 'Daily Max 1-hour SO2 Concentration': dtype('float64'), 'Units': dtype('O'), 'Daily AQI Value': dtype('int64'), 'Local Site Name': dtype('O'), 'Daily Obs Count': dtype('int64'), 'Percent Complete': dtype('float64'), 'AQS Parameter Code': dtype('int64'), 'AQS Parameter Description': dtype('O'), 'Method Code': dtype('float64'), 'CBSA Code': dtype('float64'), 'CBSA Name': dtype('O'), 'State FIPS Code': dtype('int64'), 'State': dtype('O'), 'County FIPS Code': dtype('int64'), 'County': dtype('O'), 'Site Latitude': dtype('float64'), 'Site Longitude': dtype('float64'), 'Daily Max 8-hour Ozone Concentration': dtype('float64'), 'Daily Mean PM2.5 Concentration': dtype('float64'), 'Method Description': dtype('O'), 'Daily Max 8-hour CO Concentration': dtype('float64'), 'Daily Max 1-hour NO2 Concentration': dtype('float64')}, 'Missing Values': {'Date': 0, 'Source': 0, 'Site ID': 0, 'POC': 0, 'Daily Max 1-hour SO2 Concentration': 1210308, 'Units': 0, 'Daily AQI Value': 0, 'Local Site Name': 49825, 'Daily Obs Count': 0, 'Percent Complete': 0, 'AQS Parameter Code': 0, 'AQS Parameter Description': 0, 'Method Code': 1, 'CBSA Code': 145945, 'CBSA Name': 145945, 'State FIPS Code': 0, 'State': 0, 'County FIPS Code': 0, 'County': 0, 'Site Latitude': 0, 'Site Longitude': 0, 'Daily Max 8-hour Ozone Concentration': 1063933, 'Daily Mean PM2.5 Concentration': 992795, 'Method Description': 992795, 'Daily Max 8-hour CO Concentration': 1319464, 'Daily Max 1-hour NO2 Concentration': 1246364}}\n",
      "2025-01-08 17:25:10,613 - data_preprocessing - INFO - Dataset Info (Initial): {'Shape': (1458216, 26), 'Columns': ['Date', 'Source', 'Site ID', 'POC', 'Daily Max 1-hour SO2 Concentration', 'Units', 'Daily AQI Value', 'Local Site Name', 'Daily Obs Count', 'Percent Complete', 'AQS Parameter Code', 'AQS Parameter Description', 'Method Code', 'CBSA Code', 'CBSA Name', 'State FIPS Code', 'State', 'County FIPS Code', 'County', 'Site Latitude', 'Site Longitude', 'Daily Max 8-hour Ozone Concentration', 'Daily Mean PM2.5 Concentration', 'Method Description', 'Daily Max 8-hour CO Concentration', 'Daily Max 1-hour NO2 Concentration'], 'Data Types': {'Date': dtype('O'), 'Source': dtype('O'), 'Site ID': dtype('int64'), 'POC': dtype('int64'), 'Daily Max 1-hour SO2 Concentration': dtype('float64'), 'Units': dtype('O'), 'Daily AQI Value': dtype('int64'), 'Local Site Name': dtype('O'), 'Daily Obs Count': dtype('int64'), 'Percent Complete': dtype('float64'), 'AQS Parameter Code': dtype('int64'), 'AQS Parameter Description': dtype('O'), 'Method Code': dtype('float64'), 'CBSA Code': dtype('float64'), 'CBSA Name': dtype('O'), 'State FIPS Code': dtype('int64'), 'State': dtype('O'), 'County FIPS Code': dtype('int64'), 'County': dtype('O'), 'Site Latitude': dtype('float64'), 'Site Longitude': dtype('float64'), 'Daily Max 8-hour Ozone Concentration': dtype('float64'), 'Daily Mean PM2.5 Concentration': dtype('float64'), 'Method Description': dtype('O'), 'Daily Max 8-hour CO Concentration': dtype('float64'), 'Daily Max 1-hour NO2 Concentration': dtype('float64')}, 'Missing Values': {'Date': 0, 'Source': 0, 'Site ID': 0, 'POC': 0, 'Daily Max 1-hour SO2 Concentration': 1210308, 'Units': 0, 'Daily AQI Value': 0, 'Local Site Name': 49825, 'Daily Obs Count': 0, 'Percent Complete': 0, 'AQS Parameter Code': 0, 'AQS Parameter Description': 0, 'Method Code': 1, 'CBSA Code': 145945, 'CBSA Name': 145945, 'State FIPS Code': 0, 'State': 0, 'County FIPS Code': 0, 'County': 0, 'Site Latitude': 0, 'Site Longitude': 0, 'Daily Max 8-hour Ozone Concentration': 1063933, 'Daily Mean PM2.5 Concentration': 992795, 'Method Description': 992795, 'Daily Max 8-hour CO Concentration': 1319464, 'Daily Max 1-hour NO2 Concentration': 1246364}}\n",
      "2025-01-08 17:25:10,613 - data_preprocessing - INFO - Dataset Info (Initial): {'Shape': (1458216, 26), 'Columns': ['Date', 'Source', 'Site ID', 'POC', 'Daily Max 1-hour SO2 Concentration', 'Units', 'Daily AQI Value', 'Local Site Name', 'Daily Obs Count', 'Percent Complete', 'AQS Parameter Code', 'AQS Parameter Description', 'Method Code', 'CBSA Code', 'CBSA Name', 'State FIPS Code', 'State', 'County FIPS Code', 'County', 'Site Latitude', 'Site Longitude', 'Daily Max 8-hour Ozone Concentration', 'Daily Mean PM2.5 Concentration', 'Method Description', 'Daily Max 8-hour CO Concentration', 'Daily Max 1-hour NO2 Concentration'], 'Data Types': {'Date': dtype('O'), 'Source': dtype('O'), 'Site ID': dtype('int64'), 'POC': dtype('int64'), 'Daily Max 1-hour SO2 Concentration': dtype('float64'), 'Units': dtype('O'), 'Daily AQI Value': dtype('int64'), 'Local Site Name': dtype('O'), 'Daily Obs Count': dtype('int64'), 'Percent Complete': dtype('float64'), 'AQS Parameter Code': dtype('int64'), 'AQS Parameter Description': dtype('O'), 'Method Code': dtype('float64'), 'CBSA Code': dtype('float64'), 'CBSA Name': dtype('O'), 'State FIPS Code': dtype('int64'), 'State': dtype('O'), 'County FIPS Code': dtype('int64'), 'County': dtype('O'), 'Site Latitude': dtype('float64'), 'Site Longitude': dtype('float64'), 'Daily Max 8-hour Ozone Concentration': dtype('float64'), 'Daily Mean PM2.5 Concentration': dtype('float64'), 'Method Description': dtype('O'), 'Daily Max 8-hour CO Concentration': dtype('float64'), 'Daily Max 1-hour NO2 Concentration': dtype('float64')}, 'Missing Values': {'Date': 0, 'Source': 0, 'Site ID': 0, 'POC': 0, 'Daily Max 1-hour SO2 Concentration': 1210308, 'Units': 0, 'Daily AQI Value': 0, 'Local Site Name': 49825, 'Daily Obs Count': 0, 'Percent Complete': 0, 'AQS Parameter Code': 0, 'AQS Parameter Description': 0, 'Method Code': 1, 'CBSA Code': 145945, 'CBSA Name': 145945, 'State FIPS Code': 0, 'State': 0, 'County FIPS Code': 0, 'County': 0, 'Site Latitude': 0, 'Site Longitude': 0, 'Daily Max 8-hour Ozone Concentration': 1063933, 'Daily Mean PM2.5 Concentration': 992795, 'Method Description': 992795, 'Daily Max 8-hour CO Concentration': 1319464, 'Daily Max 1-hour NO2 Concentration': 1246364}}\n",
      "INFO:data_preprocessing:Dataset Info (Initial): {'Shape': (1458216, 26), 'Columns': ['Date', 'Source', 'Site ID', 'POC', 'Daily Max 1-hour SO2 Concentration', 'Units', 'Daily AQI Value', 'Local Site Name', 'Daily Obs Count', 'Percent Complete', 'AQS Parameter Code', 'AQS Parameter Description', 'Method Code', 'CBSA Code', 'CBSA Name', 'State FIPS Code', 'State', 'County FIPS Code', 'County', 'Site Latitude', 'Site Longitude', 'Daily Max 8-hour Ozone Concentration', 'Daily Mean PM2.5 Concentration', 'Method Description', 'Daily Max 8-hour CO Concentration', 'Daily Max 1-hour NO2 Concentration'], 'Data Types': {'Date': dtype('O'), 'Source': dtype('O'), 'Site ID': dtype('int64'), 'POC': dtype('int64'), 'Daily Max 1-hour SO2 Concentration': dtype('float64'), 'Units': dtype('O'), 'Daily AQI Value': dtype('int64'), 'Local Site Name': dtype('O'), 'Daily Obs Count': dtype('int64'), 'Percent Complete': dtype('float64'), 'AQS Parameter Code': dtype('int64'), 'AQS Parameter Description': dtype('O'), 'Method Code': dtype('float64'), 'CBSA Code': dtype('float64'), 'CBSA Name': dtype('O'), 'State FIPS Code': dtype('int64'), 'State': dtype('O'), 'County FIPS Code': dtype('int64'), 'County': dtype('O'), 'Site Latitude': dtype('float64'), 'Site Longitude': dtype('float64'), 'Daily Max 8-hour Ozone Concentration': dtype('float64'), 'Daily Mean PM2.5 Concentration': dtype('float64'), 'Method Description': dtype('O'), 'Daily Max 8-hour CO Concentration': dtype('float64'), 'Daily Max 1-hour NO2 Concentration': dtype('float64')}, 'Missing Values': {'Date': 0, 'Source': 0, 'Site ID': 0, 'POC': 0, 'Daily Max 1-hour SO2 Concentration': 1210308, 'Units': 0, 'Daily AQI Value': 0, 'Local Site Name': 49825, 'Daily Obs Count': 0, 'Percent Complete': 0, 'AQS Parameter Code': 0, 'AQS Parameter Description': 0, 'Method Code': 1, 'CBSA Code': 145945, 'CBSA Name': 145945, 'State FIPS Code': 0, 'State': 0, 'County FIPS Code': 0, 'County': 0, 'Site Latitude': 0, 'Site Longitude': 0, 'Daily Max 8-hour Ozone Concentration': 1063933, 'Daily Mean PM2.5 Concentration': 992795, 'Method Description': 992795, 'Daily Max 8-hour CO Concentration': 1319464, 'Daily Max 1-hour NO2 Concentration': 1246364}}\n"
     ]
    },
    {
     "name": "stdout",
     "output_type": "stream",
     "text": [
      "{'Shape': (1458216, 26), 'Columns': ['Date', 'Source', 'Site ID', 'POC', 'Daily Max 1-hour SO2 Concentration', 'Units', 'Daily AQI Value', 'Local Site Name', 'Daily Obs Count', 'Percent Complete', 'AQS Parameter Code', 'AQS Parameter Description', 'Method Code', 'CBSA Code', 'CBSA Name', 'State FIPS Code', 'State', 'County FIPS Code', 'County', 'Site Latitude', 'Site Longitude', 'Daily Max 8-hour Ozone Concentration', 'Daily Mean PM2.5 Concentration', 'Method Description', 'Daily Max 8-hour CO Concentration', 'Daily Max 1-hour NO2 Concentration'], 'Data Types': {'Date': dtype('O'), 'Source': dtype('O'), 'Site ID': dtype('int64'), 'POC': dtype('int64'), 'Daily Max 1-hour SO2 Concentration': dtype('float64'), 'Units': dtype('O'), 'Daily AQI Value': dtype('int64'), 'Local Site Name': dtype('O'), 'Daily Obs Count': dtype('int64'), 'Percent Complete': dtype('float64'), 'AQS Parameter Code': dtype('int64'), 'AQS Parameter Description': dtype('O'), 'Method Code': dtype('float64'), 'CBSA Code': dtype('float64'), 'CBSA Name': dtype('O'), 'State FIPS Code': dtype('int64'), 'State': dtype('O'), 'County FIPS Code': dtype('int64'), 'County': dtype('O'), 'Site Latitude': dtype('float64'), 'Site Longitude': dtype('float64'), 'Daily Max 8-hour Ozone Concentration': dtype('float64'), 'Daily Mean PM2.5 Concentration': dtype('float64'), 'Method Description': dtype('O'), 'Daily Max 8-hour CO Concentration': dtype('float64'), 'Daily Max 1-hour NO2 Concentration': dtype('float64')}, 'Missing Values': {'Date': 0, 'Source': 0, 'Site ID': 0, 'POC': 0, 'Daily Max 1-hour SO2 Concentration': 1210308, 'Units': 0, 'Daily AQI Value': 0, 'Local Site Name': 49825, 'Daily Obs Count': 0, 'Percent Complete': 0, 'AQS Parameter Code': 0, 'AQS Parameter Description': 0, 'Method Code': 1, 'CBSA Code': 145945, 'CBSA Name': 145945, 'State FIPS Code': 0, 'State': 0, 'County FIPS Code': 0, 'County': 0, 'Site Latitude': 0, 'Site Longitude': 0, 'Daily Max 8-hour Ozone Concentration': 1063933, 'Daily Mean PM2.5 Concentration': 992795, 'Method Description': 992795, 'Daily Max 8-hour CO Concentration': 1319464, 'Daily Max 1-hour NO2 Concentration': 1246364}}\n"
     ]
    }
   ],
   "execution_count": 25
  },
  {
   "metadata": {
    "ExecuteTime": {
     "end_time": "2025-01-08T14:25:18.279710Z",
     "start_time": "2025-01-08T14:25:15.556020Z"
    }
   },
   "cell_type": "code",
   "source": [
    "# %%  Visualizing Missing Values\n",
    "logger.info(\"Visualizing missing values.\")\n",
    "visualize_missing_values(df)\n"
   ],
   "id": "298fd060fc2df199",
   "outputs": [
    {
     "name": "stderr",
     "output_type": "stream",
     "text": [
      "2025-01-08 17:25:15,556 - data_preprocessing - INFO - Visualizing missing values.\n",
      "2025-01-08 17:25:15,556 - data_preprocessing - INFO - Visualizing missing values.\n",
      "2025-01-08 17:25:15,556 - data_preprocessing - INFO - Visualizing missing values.\n",
      "2025-01-08 17:25:15,556 - data_preprocessing - INFO - Visualizing missing values.\n",
      "INFO:data_preprocessing:Visualizing missing values.\n",
      "2025-01-08 17:25:15,559 - data_preprocessing - INFO - Visualizing missing values.\n",
      "2025-01-08 17:25:15,559 - data_preprocessing - INFO - Visualizing missing values.\n",
      "2025-01-08 17:25:15,559 - data_preprocessing - INFO - Visualizing missing values.\n",
      "2025-01-08 17:25:15,559 - data_preprocessing - INFO - Visualizing missing values.\n",
      "INFO:data_preprocessing:Visualizing missing values.\n",
      "/Users/dogaaydin/PycharmProjects/Geo_Sentiment_Climate/.venv/lib/python3.9/site-packages/missingno/missingno.py:61: UserWarning: Plotting a sparkline on an existing axis is not currently supported. To remove this warning, set sparkline=False.\n",
      "  warnings.warn(\n",
      "2025-01-08 17:25:18,277 - data_preprocessing - INFO - Plot saved to /Users/dogaaydin/PycharmProjects/Geo_Sentiment_Climate/plots/missing_values_matrix.png\n",
      "2025-01-08 17:25:18,277 - data_preprocessing - INFO - Plot saved to /Users/dogaaydin/PycharmProjects/Geo_Sentiment_Climate/plots/missing_values_matrix.png\n",
      "2025-01-08 17:25:18,277 - data_preprocessing - INFO - Plot saved to /Users/dogaaydin/PycharmProjects/Geo_Sentiment_Climate/plots/missing_values_matrix.png\n",
      "2025-01-08 17:25:18,277 - data_preprocessing - INFO - Plot saved to /Users/dogaaydin/PycharmProjects/Geo_Sentiment_Climate/plots/missing_values_matrix.png\n",
      "INFO:data_preprocessing:Plot saved to /Users/dogaaydin/PycharmProjects/Geo_Sentiment_Climate/plots/missing_values_matrix.png\n"
     ]
    }
   ],
   "execution_count": 26
  },
  {
   "metadata": {
    "ExecuteTime": {
     "end_time": "2025-01-08T14:25:24.683750Z",
     "start_time": "2025-01-08T14:25:23.400097Z"
    }
   },
   "cell_type": "code",
   "source": [
    "# %%  Filling Missing Values\n",
    "logger.info(\"Filling missing values using mean method.\")\n",
    "df = fill_missing_values(df, method=\"mean\")\n",
    "\n",
    "#  basic information\n",
    "info_after_filling = basic_info(df)\n",
    "print(info_after_filling)\n"
   ],
   "id": "5fdccf6926f4a138",
   "outputs": [
    {
     "name": "stderr",
     "output_type": "stream",
     "text": [
      "2025-01-08 17:25:23,401 - data_preprocessing - INFO - Filling missing values using mean method.\n",
      "2025-01-08 17:25:23,401 - data_preprocessing - INFO - Filling missing values using mean method.\n",
      "2025-01-08 17:25:23,401 - data_preprocessing - INFO - Filling missing values using mean method.\n",
      "2025-01-08 17:25:23,401 - data_preprocessing - INFO - Filling missing values using mean method.\n",
      "INFO:data_preprocessing:Filling missing values using mean method.\n",
      "2025-01-08 17:25:23,404 - data_preprocessing - INFO - Filling missing values using method: mean\n",
      "2025-01-08 17:25:23,404 - data_preprocessing - INFO - Filling missing values using method: mean\n",
      "2025-01-08 17:25:23,404 - data_preprocessing - INFO - Filling missing values using method: mean\n",
      "2025-01-08 17:25:23,404 - data_preprocessing - INFO - Filling missing values using method: mean\n",
      "INFO:data_preprocessing:Filling missing values using method: mean\n",
      "2025-01-08 17:25:23,745 - data_preprocessing - INFO - Missing values filled successfully.\n",
      "2025-01-08 17:25:23,745 - data_preprocessing - INFO - Missing values filled successfully.\n",
      "2025-01-08 17:25:23,745 - data_preprocessing - INFO - Missing values filled successfully.\n",
      "2025-01-08 17:25:23,745 - data_preprocessing - INFO - Missing values filled successfully.\n",
      "INFO:data_preprocessing:Missing values filled successfully.\n",
      "2025-01-08 17:25:23,747 - data_preprocessing - INFO - Generating basic info of the dataset at Initial stage\n",
      "2025-01-08 17:25:23,747 - data_preprocessing - INFO - Generating basic info of the dataset at Initial stage\n",
      "2025-01-08 17:25:23,747 - data_preprocessing - INFO - Generating basic info of the dataset at Initial stage\n",
      "2025-01-08 17:25:23,747 - data_preprocessing - INFO - Generating basic info of the dataset at Initial stage\n",
      "INFO:data_preprocessing:Generating basic info of the dataset at Initial stage\n",
      "2025-01-08 17:25:24,680 - data_preprocessing - INFO - Dataset Info (Initial): {'Shape': (1458216, 26), 'Columns': ['Date', 'Source', 'Site ID', 'POC', 'Daily Max 1-hour SO2 Concentration', 'Units', 'Daily AQI Value', 'Local Site Name', 'Daily Obs Count', 'Percent Complete', 'AQS Parameter Code', 'AQS Parameter Description', 'Method Code', 'CBSA Code', 'CBSA Name', 'State FIPS Code', 'State', 'County FIPS Code', 'County', 'Site Latitude', 'Site Longitude', 'Daily Max 8-hour Ozone Concentration', 'Daily Mean PM2.5 Concentration', 'Method Description', 'Daily Max 8-hour CO Concentration', 'Daily Max 1-hour NO2 Concentration'], 'Data Types': {'Date': dtype('O'), 'Source': dtype('O'), 'Site ID': dtype('int64'), 'POC': dtype('int64'), 'Daily Max 1-hour SO2 Concentration': dtype('float64'), 'Units': dtype('O'), 'Daily AQI Value': dtype('int64'), 'Local Site Name': dtype('O'), 'Daily Obs Count': dtype('int64'), 'Percent Complete': dtype('float64'), 'AQS Parameter Code': dtype('int64'), 'AQS Parameter Description': dtype('O'), 'Method Code': dtype('float64'), 'CBSA Code': dtype('float64'), 'CBSA Name': dtype('O'), 'State FIPS Code': dtype('int64'), 'State': dtype('O'), 'County FIPS Code': dtype('int64'), 'County': dtype('O'), 'Site Latitude': dtype('float64'), 'Site Longitude': dtype('float64'), 'Daily Max 8-hour Ozone Concentration': dtype('float64'), 'Daily Mean PM2.5 Concentration': dtype('float64'), 'Method Description': dtype('O'), 'Daily Max 8-hour CO Concentration': dtype('float64'), 'Daily Max 1-hour NO2 Concentration': dtype('float64')}, 'Missing Values': {'Date': 0, 'Source': 0, 'Site ID': 0, 'POC': 0, 'Daily Max 1-hour SO2 Concentration': 0, 'Units': 0, 'Daily AQI Value': 0, 'Local Site Name': 49825, 'Daily Obs Count': 0, 'Percent Complete': 0, 'AQS Parameter Code': 0, 'AQS Parameter Description': 0, 'Method Code': 0, 'CBSA Code': 0, 'CBSA Name': 145945, 'State FIPS Code': 0, 'State': 0, 'County FIPS Code': 0, 'County': 0, 'Site Latitude': 0, 'Site Longitude': 0, 'Daily Max 8-hour Ozone Concentration': 0, 'Daily Mean PM2.5 Concentration': 0, 'Method Description': 992795, 'Daily Max 8-hour CO Concentration': 0, 'Daily Max 1-hour NO2 Concentration': 0}}\n",
      "2025-01-08 17:25:24,680 - data_preprocessing - INFO - Dataset Info (Initial): {'Shape': (1458216, 26), 'Columns': ['Date', 'Source', 'Site ID', 'POC', 'Daily Max 1-hour SO2 Concentration', 'Units', 'Daily AQI Value', 'Local Site Name', 'Daily Obs Count', 'Percent Complete', 'AQS Parameter Code', 'AQS Parameter Description', 'Method Code', 'CBSA Code', 'CBSA Name', 'State FIPS Code', 'State', 'County FIPS Code', 'County', 'Site Latitude', 'Site Longitude', 'Daily Max 8-hour Ozone Concentration', 'Daily Mean PM2.5 Concentration', 'Method Description', 'Daily Max 8-hour CO Concentration', 'Daily Max 1-hour NO2 Concentration'], 'Data Types': {'Date': dtype('O'), 'Source': dtype('O'), 'Site ID': dtype('int64'), 'POC': dtype('int64'), 'Daily Max 1-hour SO2 Concentration': dtype('float64'), 'Units': dtype('O'), 'Daily AQI Value': dtype('int64'), 'Local Site Name': dtype('O'), 'Daily Obs Count': dtype('int64'), 'Percent Complete': dtype('float64'), 'AQS Parameter Code': dtype('int64'), 'AQS Parameter Description': dtype('O'), 'Method Code': dtype('float64'), 'CBSA Code': dtype('float64'), 'CBSA Name': dtype('O'), 'State FIPS Code': dtype('int64'), 'State': dtype('O'), 'County FIPS Code': dtype('int64'), 'County': dtype('O'), 'Site Latitude': dtype('float64'), 'Site Longitude': dtype('float64'), 'Daily Max 8-hour Ozone Concentration': dtype('float64'), 'Daily Mean PM2.5 Concentration': dtype('float64'), 'Method Description': dtype('O'), 'Daily Max 8-hour CO Concentration': dtype('float64'), 'Daily Max 1-hour NO2 Concentration': dtype('float64')}, 'Missing Values': {'Date': 0, 'Source': 0, 'Site ID': 0, 'POC': 0, 'Daily Max 1-hour SO2 Concentration': 0, 'Units': 0, 'Daily AQI Value': 0, 'Local Site Name': 49825, 'Daily Obs Count': 0, 'Percent Complete': 0, 'AQS Parameter Code': 0, 'AQS Parameter Description': 0, 'Method Code': 0, 'CBSA Code': 0, 'CBSA Name': 145945, 'State FIPS Code': 0, 'State': 0, 'County FIPS Code': 0, 'County': 0, 'Site Latitude': 0, 'Site Longitude': 0, 'Daily Max 8-hour Ozone Concentration': 0, 'Daily Mean PM2.5 Concentration': 0, 'Method Description': 992795, 'Daily Max 8-hour CO Concentration': 0, 'Daily Max 1-hour NO2 Concentration': 0}}\n",
      "2025-01-08 17:25:24,680 - data_preprocessing - INFO - Dataset Info (Initial): {'Shape': (1458216, 26), 'Columns': ['Date', 'Source', 'Site ID', 'POC', 'Daily Max 1-hour SO2 Concentration', 'Units', 'Daily AQI Value', 'Local Site Name', 'Daily Obs Count', 'Percent Complete', 'AQS Parameter Code', 'AQS Parameter Description', 'Method Code', 'CBSA Code', 'CBSA Name', 'State FIPS Code', 'State', 'County FIPS Code', 'County', 'Site Latitude', 'Site Longitude', 'Daily Max 8-hour Ozone Concentration', 'Daily Mean PM2.5 Concentration', 'Method Description', 'Daily Max 8-hour CO Concentration', 'Daily Max 1-hour NO2 Concentration'], 'Data Types': {'Date': dtype('O'), 'Source': dtype('O'), 'Site ID': dtype('int64'), 'POC': dtype('int64'), 'Daily Max 1-hour SO2 Concentration': dtype('float64'), 'Units': dtype('O'), 'Daily AQI Value': dtype('int64'), 'Local Site Name': dtype('O'), 'Daily Obs Count': dtype('int64'), 'Percent Complete': dtype('float64'), 'AQS Parameter Code': dtype('int64'), 'AQS Parameter Description': dtype('O'), 'Method Code': dtype('float64'), 'CBSA Code': dtype('float64'), 'CBSA Name': dtype('O'), 'State FIPS Code': dtype('int64'), 'State': dtype('O'), 'County FIPS Code': dtype('int64'), 'County': dtype('O'), 'Site Latitude': dtype('float64'), 'Site Longitude': dtype('float64'), 'Daily Max 8-hour Ozone Concentration': dtype('float64'), 'Daily Mean PM2.5 Concentration': dtype('float64'), 'Method Description': dtype('O'), 'Daily Max 8-hour CO Concentration': dtype('float64'), 'Daily Max 1-hour NO2 Concentration': dtype('float64')}, 'Missing Values': {'Date': 0, 'Source': 0, 'Site ID': 0, 'POC': 0, 'Daily Max 1-hour SO2 Concentration': 0, 'Units': 0, 'Daily AQI Value': 0, 'Local Site Name': 49825, 'Daily Obs Count': 0, 'Percent Complete': 0, 'AQS Parameter Code': 0, 'AQS Parameter Description': 0, 'Method Code': 0, 'CBSA Code': 0, 'CBSA Name': 145945, 'State FIPS Code': 0, 'State': 0, 'County FIPS Code': 0, 'County': 0, 'Site Latitude': 0, 'Site Longitude': 0, 'Daily Max 8-hour Ozone Concentration': 0, 'Daily Mean PM2.5 Concentration': 0, 'Method Description': 992795, 'Daily Max 8-hour CO Concentration': 0, 'Daily Max 1-hour NO2 Concentration': 0}}\n",
      "2025-01-08 17:25:24,680 - data_preprocessing - INFO - Dataset Info (Initial): {'Shape': (1458216, 26), 'Columns': ['Date', 'Source', 'Site ID', 'POC', 'Daily Max 1-hour SO2 Concentration', 'Units', 'Daily AQI Value', 'Local Site Name', 'Daily Obs Count', 'Percent Complete', 'AQS Parameter Code', 'AQS Parameter Description', 'Method Code', 'CBSA Code', 'CBSA Name', 'State FIPS Code', 'State', 'County FIPS Code', 'County', 'Site Latitude', 'Site Longitude', 'Daily Max 8-hour Ozone Concentration', 'Daily Mean PM2.5 Concentration', 'Method Description', 'Daily Max 8-hour CO Concentration', 'Daily Max 1-hour NO2 Concentration'], 'Data Types': {'Date': dtype('O'), 'Source': dtype('O'), 'Site ID': dtype('int64'), 'POC': dtype('int64'), 'Daily Max 1-hour SO2 Concentration': dtype('float64'), 'Units': dtype('O'), 'Daily AQI Value': dtype('int64'), 'Local Site Name': dtype('O'), 'Daily Obs Count': dtype('int64'), 'Percent Complete': dtype('float64'), 'AQS Parameter Code': dtype('int64'), 'AQS Parameter Description': dtype('O'), 'Method Code': dtype('float64'), 'CBSA Code': dtype('float64'), 'CBSA Name': dtype('O'), 'State FIPS Code': dtype('int64'), 'State': dtype('O'), 'County FIPS Code': dtype('int64'), 'County': dtype('O'), 'Site Latitude': dtype('float64'), 'Site Longitude': dtype('float64'), 'Daily Max 8-hour Ozone Concentration': dtype('float64'), 'Daily Mean PM2.5 Concentration': dtype('float64'), 'Method Description': dtype('O'), 'Daily Max 8-hour CO Concentration': dtype('float64'), 'Daily Max 1-hour NO2 Concentration': dtype('float64')}, 'Missing Values': {'Date': 0, 'Source': 0, 'Site ID': 0, 'POC': 0, 'Daily Max 1-hour SO2 Concentration': 0, 'Units': 0, 'Daily AQI Value': 0, 'Local Site Name': 49825, 'Daily Obs Count': 0, 'Percent Complete': 0, 'AQS Parameter Code': 0, 'AQS Parameter Description': 0, 'Method Code': 0, 'CBSA Code': 0, 'CBSA Name': 145945, 'State FIPS Code': 0, 'State': 0, 'County FIPS Code': 0, 'County': 0, 'Site Latitude': 0, 'Site Longitude': 0, 'Daily Max 8-hour Ozone Concentration': 0, 'Daily Mean PM2.5 Concentration': 0, 'Method Description': 992795, 'Daily Max 8-hour CO Concentration': 0, 'Daily Max 1-hour NO2 Concentration': 0}}\n",
      "INFO:data_preprocessing:Dataset Info (Initial): {'Shape': (1458216, 26), 'Columns': ['Date', 'Source', 'Site ID', 'POC', 'Daily Max 1-hour SO2 Concentration', 'Units', 'Daily AQI Value', 'Local Site Name', 'Daily Obs Count', 'Percent Complete', 'AQS Parameter Code', 'AQS Parameter Description', 'Method Code', 'CBSA Code', 'CBSA Name', 'State FIPS Code', 'State', 'County FIPS Code', 'County', 'Site Latitude', 'Site Longitude', 'Daily Max 8-hour Ozone Concentration', 'Daily Mean PM2.5 Concentration', 'Method Description', 'Daily Max 8-hour CO Concentration', 'Daily Max 1-hour NO2 Concentration'], 'Data Types': {'Date': dtype('O'), 'Source': dtype('O'), 'Site ID': dtype('int64'), 'POC': dtype('int64'), 'Daily Max 1-hour SO2 Concentration': dtype('float64'), 'Units': dtype('O'), 'Daily AQI Value': dtype('int64'), 'Local Site Name': dtype('O'), 'Daily Obs Count': dtype('int64'), 'Percent Complete': dtype('float64'), 'AQS Parameter Code': dtype('int64'), 'AQS Parameter Description': dtype('O'), 'Method Code': dtype('float64'), 'CBSA Code': dtype('float64'), 'CBSA Name': dtype('O'), 'State FIPS Code': dtype('int64'), 'State': dtype('O'), 'County FIPS Code': dtype('int64'), 'County': dtype('O'), 'Site Latitude': dtype('float64'), 'Site Longitude': dtype('float64'), 'Daily Max 8-hour Ozone Concentration': dtype('float64'), 'Daily Mean PM2.5 Concentration': dtype('float64'), 'Method Description': dtype('O'), 'Daily Max 8-hour CO Concentration': dtype('float64'), 'Daily Max 1-hour NO2 Concentration': dtype('float64')}, 'Missing Values': {'Date': 0, 'Source': 0, 'Site ID': 0, 'POC': 0, 'Daily Max 1-hour SO2 Concentration': 0, 'Units': 0, 'Daily AQI Value': 0, 'Local Site Name': 49825, 'Daily Obs Count': 0, 'Percent Complete': 0, 'AQS Parameter Code': 0, 'AQS Parameter Description': 0, 'Method Code': 0, 'CBSA Code': 0, 'CBSA Name': 145945, 'State FIPS Code': 0, 'State': 0, 'County FIPS Code': 0, 'County': 0, 'Site Latitude': 0, 'Site Longitude': 0, 'Daily Max 8-hour Ozone Concentration': 0, 'Daily Mean PM2.5 Concentration': 0, 'Method Description': 992795, 'Daily Max 8-hour CO Concentration': 0, 'Daily Max 1-hour NO2 Concentration': 0}}\n"
     ]
    },
    {
     "name": "stdout",
     "output_type": "stream",
     "text": [
      "{'Shape': (1458216, 26), 'Columns': ['Date', 'Source', 'Site ID', 'POC', 'Daily Max 1-hour SO2 Concentration', 'Units', 'Daily AQI Value', 'Local Site Name', 'Daily Obs Count', 'Percent Complete', 'AQS Parameter Code', 'AQS Parameter Description', 'Method Code', 'CBSA Code', 'CBSA Name', 'State FIPS Code', 'State', 'County FIPS Code', 'County', 'Site Latitude', 'Site Longitude', 'Daily Max 8-hour Ozone Concentration', 'Daily Mean PM2.5 Concentration', 'Method Description', 'Daily Max 8-hour CO Concentration', 'Daily Max 1-hour NO2 Concentration'], 'Data Types': {'Date': dtype('O'), 'Source': dtype('O'), 'Site ID': dtype('int64'), 'POC': dtype('int64'), 'Daily Max 1-hour SO2 Concentration': dtype('float64'), 'Units': dtype('O'), 'Daily AQI Value': dtype('int64'), 'Local Site Name': dtype('O'), 'Daily Obs Count': dtype('int64'), 'Percent Complete': dtype('float64'), 'AQS Parameter Code': dtype('int64'), 'AQS Parameter Description': dtype('O'), 'Method Code': dtype('float64'), 'CBSA Code': dtype('float64'), 'CBSA Name': dtype('O'), 'State FIPS Code': dtype('int64'), 'State': dtype('O'), 'County FIPS Code': dtype('int64'), 'County': dtype('O'), 'Site Latitude': dtype('float64'), 'Site Longitude': dtype('float64'), 'Daily Max 8-hour Ozone Concentration': dtype('float64'), 'Daily Mean PM2.5 Concentration': dtype('float64'), 'Method Description': dtype('O'), 'Daily Max 8-hour CO Concentration': dtype('float64'), 'Daily Max 1-hour NO2 Concentration': dtype('float64')}, 'Missing Values': {'Date': 0, 'Source': 0, 'Site ID': 0, 'POC': 0, 'Daily Max 1-hour SO2 Concentration': 0, 'Units': 0, 'Daily AQI Value': 0, 'Local Site Name': 49825, 'Daily Obs Count': 0, 'Percent Complete': 0, 'AQS Parameter Code': 0, 'AQS Parameter Description': 0, 'Method Code': 0, 'CBSA Code': 0, 'CBSA Name': 145945, 'State FIPS Code': 0, 'State': 0, 'County FIPS Code': 0, 'County': 0, 'Site Latitude': 0, 'Site Longitude': 0, 'Daily Max 8-hour Ozone Concentration': 0, 'Daily Mean PM2.5 Concentration': 0, 'Method Description': 992795, 'Daily Max 8-hour CO Concentration': 0, 'Daily Max 1-hour NO2 Concentration': 0}}\n"
     ]
    }
   ],
   "execution_count": 27
  },
  {
   "metadata": {
    "ExecuteTime": {
     "end_time": "2025-01-08T14:25:29.258915Z",
     "start_time": "2025-01-08T14:25:28.841189Z"
    }
   },
   "cell_type": "code",
   "source": [
    "# Scaling Numeric Columns\n",
    "numeric_cols = df.select_dtypes(include=[np.number]).columns.tolist()\n",
    "\n",
    "logger.info(\"Scaling numeric columns using standard method.\")\n",
    "df = scale_features(df, numeric_cols, method=\"standard\")\n"
   ],
   "id": "913942101058d128",
   "outputs": [
    {
     "name": "stderr",
     "output_type": "stream",
     "text": [
      "2025-01-08 17:25:28,906 - data_preprocessing - INFO - Scaling numeric columns using standard method.\n",
      "2025-01-08 17:25:28,906 - data_preprocessing - INFO - Scaling numeric columns using standard method.\n",
      "2025-01-08 17:25:28,906 - data_preprocessing - INFO - Scaling numeric columns using standard method.\n",
      "2025-01-08 17:25:28,906 - data_preprocessing - INFO - Scaling numeric columns using standard method.\n",
      "INFO:data_preprocessing:Scaling numeric columns using standard method.\n",
      "2025-01-08 17:25:28,909 - data_preprocessing - INFO - Scaling features: ['Site ID', 'POC', 'Daily Max 1-hour SO2 Concentration', 'Daily AQI Value', 'Daily Obs Count', 'Percent Complete', 'AQS Parameter Code', 'Method Code', 'CBSA Code', 'State FIPS Code', 'County FIPS Code', 'Site Latitude', 'Site Longitude', 'Daily Max 8-hour Ozone Concentration', 'Daily Mean PM2.5 Concentration', 'Daily Max 8-hour CO Concentration', 'Daily Max 1-hour NO2 Concentration'] using method: standard\n",
      "2025-01-08 17:25:28,909 - data_preprocessing - INFO - Scaling features: ['Site ID', 'POC', 'Daily Max 1-hour SO2 Concentration', 'Daily AQI Value', 'Daily Obs Count', 'Percent Complete', 'AQS Parameter Code', 'Method Code', 'CBSA Code', 'State FIPS Code', 'County FIPS Code', 'Site Latitude', 'Site Longitude', 'Daily Max 8-hour Ozone Concentration', 'Daily Mean PM2.5 Concentration', 'Daily Max 8-hour CO Concentration', 'Daily Max 1-hour NO2 Concentration'] using method: standard\n",
      "2025-01-08 17:25:28,909 - data_preprocessing - INFO - Scaling features: ['Site ID', 'POC', 'Daily Max 1-hour SO2 Concentration', 'Daily AQI Value', 'Daily Obs Count', 'Percent Complete', 'AQS Parameter Code', 'Method Code', 'CBSA Code', 'State FIPS Code', 'County FIPS Code', 'Site Latitude', 'Site Longitude', 'Daily Max 8-hour Ozone Concentration', 'Daily Mean PM2.5 Concentration', 'Daily Max 8-hour CO Concentration', 'Daily Max 1-hour NO2 Concentration'] using method: standard\n",
      "2025-01-08 17:25:28,909 - data_preprocessing - INFO - Scaling features: ['Site ID', 'POC', 'Daily Max 1-hour SO2 Concentration', 'Daily AQI Value', 'Daily Obs Count', 'Percent Complete', 'AQS Parameter Code', 'Method Code', 'CBSA Code', 'State FIPS Code', 'County FIPS Code', 'Site Latitude', 'Site Longitude', 'Daily Max 8-hour Ozone Concentration', 'Daily Mean PM2.5 Concentration', 'Daily Max 8-hour CO Concentration', 'Daily Max 1-hour NO2 Concentration'] using method: standard\n",
      "INFO:data_preprocessing:Scaling features: ['Site ID', 'POC', 'Daily Max 1-hour SO2 Concentration', 'Daily AQI Value', 'Daily Obs Count', 'Percent Complete', 'AQS Parameter Code', 'Method Code', 'CBSA Code', 'State FIPS Code', 'County FIPS Code', 'Site Latitude', 'Site Longitude', 'Daily Max 8-hour Ozone Concentration', 'Daily Mean PM2.5 Concentration', 'Daily Max 8-hour CO Concentration', 'Daily Max 1-hour NO2 Concentration'] using method: standard\n",
      "2025-01-08 17:25:29,256 - data_preprocessing - INFO - Features scaled successfully.\n",
      "2025-01-08 17:25:29,256 - data_preprocessing - INFO - Features scaled successfully.\n",
      "2025-01-08 17:25:29,256 - data_preprocessing - INFO - Features scaled successfully.\n",
      "2025-01-08 17:25:29,256 - data_preprocessing - INFO - Features scaled successfully.\n",
      "INFO:data_preprocessing:Features scaled successfully.\n"
     ]
    }
   ],
   "execution_count": 28
  },
  {
   "metadata": {
    "ExecuteTime": {
     "end_time": "2025-01-08T14:25:33.578822Z",
     "start_time": "2025-01-08T14:25:32.524237Z"
    }
   },
   "cell_type": "code",
   "source": [
    "#  Correlation Analysis\n",
    "logger.info(\"Performing correlation analysis.\")\n",
    "correlation_analysis(df, numeric_cols)\n"
   ],
   "id": "1074a799dfcbb3f7",
   "outputs": [
    {
     "name": "stderr",
     "output_type": "stream",
     "text": [
      "2025-01-08 17:25:32,525 - data_preprocessing - INFO - Performing correlation analysis.\n",
      "2025-01-08 17:25:32,525 - data_preprocessing - INFO - Performing correlation analysis.\n",
      "2025-01-08 17:25:32,525 - data_preprocessing - INFO - Performing correlation analysis.\n",
      "2025-01-08 17:25:32,525 - data_preprocessing - INFO - Performing correlation analysis.\n",
      "INFO:data_preprocessing:Performing correlation analysis.\n",
      "2025-01-08 17:25:32,528 - data_preprocessing - INFO - Performing correlation analysis.\n",
      "2025-01-08 17:25:32,528 - data_preprocessing - INFO - Performing correlation analysis.\n",
      "2025-01-08 17:25:32,528 - data_preprocessing - INFO - Performing correlation analysis.\n",
      "2025-01-08 17:25:32,528 - data_preprocessing - INFO - Performing correlation analysis.\n",
      "INFO:data_preprocessing:Performing correlation analysis.\n",
      "2025-01-08 17:25:33,573 - data_preprocessing - INFO - Plot saved to /Users/dogaaydin/PycharmProjects/Geo_Sentiment_Climate/plots/correlation_matrix.png\n",
      "2025-01-08 17:25:33,573 - data_preprocessing - INFO - Plot saved to /Users/dogaaydin/PycharmProjects/Geo_Sentiment_Climate/plots/correlation_matrix.png\n",
      "2025-01-08 17:25:33,573 - data_preprocessing - INFO - Plot saved to /Users/dogaaydin/PycharmProjects/Geo_Sentiment_Climate/plots/correlation_matrix.png\n",
      "2025-01-08 17:25:33,573 - data_preprocessing - INFO - Plot saved to /Users/dogaaydin/PycharmProjects/Geo_Sentiment_Climate/plots/correlation_matrix.png\n",
      "INFO:data_preprocessing:Plot saved to /Users/dogaaydin/PycharmProjects/Geo_Sentiment_Climate/plots/correlation_matrix.png\n"
     ]
    }
   ],
   "execution_count": 29
  },
  {
   "metadata": {
    "ExecuteTime": {
     "end_time": "2025-01-08T14:25:37.700811Z",
     "start_time": "2025-01-08T14:25:35.443196Z"
    }
   },
   "cell_type": "code",
   "source": [
    "# Detecting Outliers\n",
    "logger.info(\"Detecting outliers in numeric columns.\")\n",
    "detect_outliers(df, numeric_cols)\n"
   ],
   "id": "2ec9a1d647f107f4",
   "outputs": [
    {
     "name": "stderr",
     "output_type": "stream",
     "text": [
      "2025-01-08 17:25:35,444 - data_preprocessing - INFO - Detecting outliers in numeric columns.\n",
      "2025-01-08 17:25:35,444 - data_preprocessing - INFO - Detecting outliers in numeric columns.\n",
      "2025-01-08 17:25:35,444 - data_preprocessing - INFO - Detecting outliers in numeric columns.\n",
      "2025-01-08 17:25:35,444 - data_preprocessing - INFO - Detecting outliers in numeric columns.\n",
      "INFO:data_preprocessing:Detecting outliers in numeric columns.\n",
      "2025-01-08 17:25:35,448 - data_preprocessing - INFO - Detecting outliers in numeric columns.\n",
      "2025-01-08 17:25:35,448 - data_preprocessing - INFO - Detecting outliers in numeric columns.\n",
      "2025-01-08 17:25:35,448 - data_preprocessing - INFO - Detecting outliers in numeric columns.\n",
      "2025-01-08 17:25:35,448 - data_preprocessing - INFO - Detecting outliers in numeric columns.\n",
      "INFO:data_preprocessing:Detecting outliers in numeric columns.\n",
      "2025-01-08 17:25:35,526 - data_preprocessing - INFO - Plot saved to /Users/dogaaydin/PycharmProjects/Geo_Sentiment_Climate/plots/outliers_Site ID.png\n",
      "2025-01-08 17:25:35,526 - data_preprocessing - INFO - Plot saved to /Users/dogaaydin/PycharmProjects/Geo_Sentiment_Climate/plots/outliers_Site ID.png\n",
      "2025-01-08 17:25:35,526 - data_preprocessing - INFO - Plot saved to /Users/dogaaydin/PycharmProjects/Geo_Sentiment_Climate/plots/outliers_Site ID.png\n",
      "2025-01-08 17:25:35,526 - data_preprocessing - INFO - Plot saved to /Users/dogaaydin/PycharmProjects/Geo_Sentiment_Climate/plots/outliers_Site ID.png\n",
      "INFO:data_preprocessing:Plot saved to /Users/dogaaydin/PycharmProjects/Geo_Sentiment_Climate/plots/outliers_Site ID.png\n",
      "2025-01-08 17:25:35,631 - data_preprocessing - INFO - Plot saved to /Users/dogaaydin/PycharmProjects/Geo_Sentiment_Climate/plots/outliers_POC.png\n",
      "2025-01-08 17:25:35,631 - data_preprocessing - INFO - Plot saved to /Users/dogaaydin/PycharmProjects/Geo_Sentiment_Climate/plots/outliers_POC.png\n",
      "2025-01-08 17:25:35,631 - data_preprocessing - INFO - Plot saved to /Users/dogaaydin/PycharmProjects/Geo_Sentiment_Climate/plots/outliers_POC.png\n",
      "2025-01-08 17:25:35,631 - data_preprocessing - INFO - Plot saved to /Users/dogaaydin/PycharmProjects/Geo_Sentiment_Climate/plots/outliers_POC.png\n",
      "INFO:data_preprocessing:Plot saved to /Users/dogaaydin/PycharmProjects/Geo_Sentiment_Climate/plots/outliers_POC.png\n",
      "2025-01-08 17:25:35,806 - data_preprocessing - INFO - Plot saved to /Users/dogaaydin/PycharmProjects/Geo_Sentiment_Climate/plots/outliers_Daily Max 1-hour SO2 Concentration.png\n",
      "2025-01-08 17:25:35,806 - data_preprocessing - INFO - Plot saved to /Users/dogaaydin/PycharmProjects/Geo_Sentiment_Climate/plots/outliers_Daily Max 1-hour SO2 Concentration.png\n",
      "2025-01-08 17:25:35,806 - data_preprocessing - INFO - Plot saved to /Users/dogaaydin/PycharmProjects/Geo_Sentiment_Climate/plots/outliers_Daily Max 1-hour SO2 Concentration.png\n",
      "2025-01-08 17:25:35,806 - data_preprocessing - INFO - Plot saved to /Users/dogaaydin/PycharmProjects/Geo_Sentiment_Climate/plots/outliers_Daily Max 1-hour SO2 Concentration.png\n",
      "INFO:data_preprocessing:Plot saved to /Users/dogaaydin/PycharmProjects/Geo_Sentiment_Climate/plots/outliers_Daily Max 1-hour SO2 Concentration.png\n",
      "2025-01-08 17:25:35,896 - data_preprocessing - INFO - Plot saved to /Users/dogaaydin/PycharmProjects/Geo_Sentiment_Climate/plots/outliers_Daily AQI Value.png\n",
      "2025-01-08 17:25:35,896 - data_preprocessing - INFO - Plot saved to /Users/dogaaydin/PycharmProjects/Geo_Sentiment_Climate/plots/outliers_Daily AQI Value.png\n",
      "2025-01-08 17:25:35,896 - data_preprocessing - INFO - Plot saved to /Users/dogaaydin/PycharmProjects/Geo_Sentiment_Climate/plots/outliers_Daily AQI Value.png\n",
      "2025-01-08 17:25:35,896 - data_preprocessing - INFO - Plot saved to /Users/dogaaydin/PycharmProjects/Geo_Sentiment_Climate/plots/outliers_Daily AQI Value.png\n",
      "INFO:data_preprocessing:Plot saved to /Users/dogaaydin/PycharmProjects/Geo_Sentiment_Climate/plots/outliers_Daily AQI Value.png\n",
      "2025-01-08 17:25:35,981 - data_preprocessing - INFO - Plot saved to /Users/dogaaydin/PycharmProjects/Geo_Sentiment_Climate/plots/outliers_Daily Obs Count.png\n",
      "2025-01-08 17:25:35,981 - data_preprocessing - INFO - Plot saved to /Users/dogaaydin/PycharmProjects/Geo_Sentiment_Climate/plots/outliers_Daily Obs Count.png\n",
      "2025-01-08 17:25:35,981 - data_preprocessing - INFO - Plot saved to /Users/dogaaydin/PycharmProjects/Geo_Sentiment_Climate/plots/outliers_Daily Obs Count.png\n",
      "2025-01-08 17:25:35,981 - data_preprocessing - INFO - Plot saved to /Users/dogaaydin/PycharmProjects/Geo_Sentiment_Climate/plots/outliers_Daily Obs Count.png\n",
      "INFO:data_preprocessing:Plot saved to /Users/dogaaydin/PycharmProjects/Geo_Sentiment_Climate/plots/outliers_Daily Obs Count.png\n",
      "2025-01-08 17:25:36,153 - data_preprocessing - INFO - Plot saved to /Users/dogaaydin/PycharmProjects/Geo_Sentiment_Climate/plots/outliers_Percent Complete.png\n",
      "2025-01-08 17:25:36,153 - data_preprocessing - INFO - Plot saved to /Users/dogaaydin/PycharmProjects/Geo_Sentiment_Climate/plots/outliers_Percent Complete.png\n",
      "2025-01-08 17:25:36,153 - data_preprocessing - INFO - Plot saved to /Users/dogaaydin/PycharmProjects/Geo_Sentiment_Climate/plots/outliers_Percent Complete.png\n",
      "2025-01-08 17:25:36,153 - data_preprocessing - INFO - Plot saved to /Users/dogaaydin/PycharmProjects/Geo_Sentiment_Climate/plots/outliers_Percent Complete.png\n",
      "INFO:data_preprocessing:Plot saved to /Users/dogaaydin/PycharmProjects/Geo_Sentiment_Climate/plots/outliers_Percent Complete.png\n",
      "2025-01-08 17:25:36,230 - data_preprocessing - INFO - Plot saved to /Users/dogaaydin/PycharmProjects/Geo_Sentiment_Climate/plots/outliers_AQS Parameter Code.png\n",
      "2025-01-08 17:25:36,230 - data_preprocessing - INFO - Plot saved to /Users/dogaaydin/PycharmProjects/Geo_Sentiment_Climate/plots/outliers_AQS Parameter Code.png\n",
      "2025-01-08 17:25:36,230 - data_preprocessing - INFO - Plot saved to /Users/dogaaydin/PycharmProjects/Geo_Sentiment_Climate/plots/outliers_AQS Parameter Code.png\n",
      "2025-01-08 17:25:36,230 - data_preprocessing - INFO - Plot saved to /Users/dogaaydin/PycharmProjects/Geo_Sentiment_Climate/plots/outliers_AQS Parameter Code.png\n",
      "INFO:data_preprocessing:Plot saved to /Users/dogaaydin/PycharmProjects/Geo_Sentiment_Climate/plots/outliers_AQS Parameter Code.png\n",
      "2025-01-08 17:25:36,438 - data_preprocessing - INFO - Plot saved to /Users/dogaaydin/PycharmProjects/Geo_Sentiment_Climate/plots/outliers_Method Code.png\n",
      "2025-01-08 17:25:36,438 - data_preprocessing - INFO - Plot saved to /Users/dogaaydin/PycharmProjects/Geo_Sentiment_Climate/plots/outliers_Method Code.png\n",
      "2025-01-08 17:25:36,438 - data_preprocessing - INFO - Plot saved to /Users/dogaaydin/PycharmProjects/Geo_Sentiment_Climate/plots/outliers_Method Code.png\n",
      "2025-01-08 17:25:36,438 - data_preprocessing - INFO - Plot saved to /Users/dogaaydin/PycharmProjects/Geo_Sentiment_Climate/plots/outliers_Method Code.png\n",
      "INFO:data_preprocessing:Plot saved to /Users/dogaaydin/PycharmProjects/Geo_Sentiment_Climate/plots/outliers_Method Code.png\n",
      "2025-01-08 17:25:36,511 - data_preprocessing - INFO - Plot saved to /Users/dogaaydin/PycharmProjects/Geo_Sentiment_Climate/plots/outliers_CBSA Code.png\n",
      "2025-01-08 17:25:36,511 - data_preprocessing - INFO - Plot saved to /Users/dogaaydin/PycharmProjects/Geo_Sentiment_Climate/plots/outliers_CBSA Code.png\n",
      "2025-01-08 17:25:36,511 - data_preprocessing - INFO - Plot saved to /Users/dogaaydin/PycharmProjects/Geo_Sentiment_Climate/plots/outliers_CBSA Code.png\n",
      "2025-01-08 17:25:36,511 - data_preprocessing - INFO - Plot saved to /Users/dogaaydin/PycharmProjects/Geo_Sentiment_Climate/plots/outliers_CBSA Code.png\n",
      "INFO:data_preprocessing:Plot saved to /Users/dogaaydin/PycharmProjects/Geo_Sentiment_Climate/plots/outliers_CBSA Code.png\n",
      "2025-01-08 17:25:36,580 - data_preprocessing - INFO - Plot saved to /Users/dogaaydin/PycharmProjects/Geo_Sentiment_Climate/plots/outliers_State FIPS Code.png\n",
      "2025-01-08 17:25:36,580 - data_preprocessing - INFO - Plot saved to /Users/dogaaydin/PycharmProjects/Geo_Sentiment_Climate/plots/outliers_State FIPS Code.png\n",
      "2025-01-08 17:25:36,580 - data_preprocessing - INFO - Plot saved to /Users/dogaaydin/PycharmProjects/Geo_Sentiment_Climate/plots/outliers_State FIPS Code.png\n",
      "2025-01-08 17:25:36,580 - data_preprocessing - INFO - Plot saved to /Users/dogaaydin/PycharmProjects/Geo_Sentiment_Climate/plots/outliers_State FIPS Code.png\n",
      "INFO:data_preprocessing:Plot saved to /Users/dogaaydin/PycharmProjects/Geo_Sentiment_Climate/plots/outliers_State FIPS Code.png\n",
      "2025-01-08 17:25:36,686 - data_preprocessing - INFO - Plot saved to /Users/dogaaydin/PycharmProjects/Geo_Sentiment_Climate/plots/outliers_County FIPS Code.png\n",
      "2025-01-08 17:25:36,686 - data_preprocessing - INFO - Plot saved to /Users/dogaaydin/PycharmProjects/Geo_Sentiment_Climate/plots/outliers_County FIPS Code.png\n",
      "2025-01-08 17:25:36,686 - data_preprocessing - INFO - Plot saved to /Users/dogaaydin/PycharmProjects/Geo_Sentiment_Climate/plots/outliers_County FIPS Code.png\n",
      "2025-01-08 17:25:36,686 - data_preprocessing - INFO - Plot saved to /Users/dogaaydin/PycharmProjects/Geo_Sentiment_Climate/plots/outliers_County FIPS Code.png\n",
      "INFO:data_preprocessing:Plot saved to /Users/dogaaydin/PycharmProjects/Geo_Sentiment_Climate/plots/outliers_County FIPS Code.png\n",
      "2025-01-08 17:25:36,773 - data_preprocessing - INFO - Plot saved to /Users/dogaaydin/PycharmProjects/Geo_Sentiment_Climate/plots/outliers_Site Latitude.png\n",
      "2025-01-08 17:25:36,773 - data_preprocessing - INFO - Plot saved to /Users/dogaaydin/PycharmProjects/Geo_Sentiment_Climate/plots/outliers_Site Latitude.png\n",
      "2025-01-08 17:25:36,773 - data_preprocessing - INFO - Plot saved to /Users/dogaaydin/PycharmProjects/Geo_Sentiment_Climate/plots/outliers_Site Latitude.png\n",
      "2025-01-08 17:25:36,773 - data_preprocessing - INFO - Plot saved to /Users/dogaaydin/PycharmProjects/Geo_Sentiment_Climate/plots/outliers_Site Latitude.png\n",
      "INFO:data_preprocessing:Plot saved to /Users/dogaaydin/PycharmProjects/Geo_Sentiment_Climate/plots/outliers_Site Latitude.png\n",
      "2025-01-08 17:25:36,855 - data_preprocessing - INFO - Plot saved to /Users/dogaaydin/PycharmProjects/Geo_Sentiment_Climate/plots/outliers_Site Longitude.png\n",
      "2025-01-08 17:25:36,855 - data_preprocessing - INFO - Plot saved to /Users/dogaaydin/PycharmProjects/Geo_Sentiment_Climate/plots/outliers_Site Longitude.png\n",
      "2025-01-08 17:25:36,855 - data_preprocessing - INFO - Plot saved to /Users/dogaaydin/PycharmProjects/Geo_Sentiment_Climate/plots/outliers_Site Longitude.png\n",
      "2025-01-08 17:25:36,855 - data_preprocessing - INFO - Plot saved to /Users/dogaaydin/PycharmProjects/Geo_Sentiment_Climate/plots/outliers_Site Longitude.png\n",
      "INFO:data_preprocessing:Plot saved to /Users/dogaaydin/PycharmProjects/Geo_Sentiment_Climate/plots/outliers_Site Longitude.png\n",
      "2025-01-08 17:25:37,170 - data_preprocessing - INFO - Plot saved to /Users/dogaaydin/PycharmProjects/Geo_Sentiment_Climate/plots/outliers_Daily Max 8-hour Ozone Concentration.png\n",
      "2025-01-08 17:25:37,170 - data_preprocessing - INFO - Plot saved to /Users/dogaaydin/PycharmProjects/Geo_Sentiment_Climate/plots/outliers_Daily Max 8-hour Ozone Concentration.png\n",
      "2025-01-08 17:25:37,170 - data_preprocessing - INFO - Plot saved to /Users/dogaaydin/PycharmProjects/Geo_Sentiment_Climate/plots/outliers_Daily Max 8-hour Ozone Concentration.png\n",
      "2025-01-08 17:25:37,170 - data_preprocessing - INFO - Plot saved to /Users/dogaaydin/PycharmProjects/Geo_Sentiment_Climate/plots/outliers_Daily Max 8-hour Ozone Concentration.png\n",
      "INFO:data_preprocessing:Plot saved to /Users/dogaaydin/PycharmProjects/Geo_Sentiment_Climate/plots/outliers_Daily Max 8-hour Ozone Concentration.png\n",
      "2025-01-08 17:25:37,422 - data_preprocessing - INFO - Plot saved to /Users/dogaaydin/PycharmProjects/Geo_Sentiment_Climate/plots/outliers_Daily Mean PM2.5 Concentration.png\n",
      "2025-01-08 17:25:37,422 - data_preprocessing - INFO - Plot saved to /Users/dogaaydin/PycharmProjects/Geo_Sentiment_Climate/plots/outliers_Daily Mean PM2.5 Concentration.png\n",
      "2025-01-08 17:25:37,422 - data_preprocessing - INFO - Plot saved to /Users/dogaaydin/PycharmProjects/Geo_Sentiment_Climate/plots/outliers_Daily Mean PM2.5 Concentration.png\n",
      "2025-01-08 17:25:37,422 - data_preprocessing - INFO - Plot saved to /Users/dogaaydin/PycharmProjects/Geo_Sentiment_Climate/plots/outliers_Daily Mean PM2.5 Concentration.png\n",
      "INFO:data_preprocessing:Plot saved to /Users/dogaaydin/PycharmProjects/Geo_Sentiment_Climate/plots/outliers_Daily Mean PM2.5 Concentration.png\n",
      "2025-01-08 17:25:37,543 - data_preprocessing - INFO - Plot saved to /Users/dogaaydin/PycharmProjects/Geo_Sentiment_Climate/plots/outliers_Daily Max 8-hour CO Concentration.png\n",
      "2025-01-08 17:25:37,543 - data_preprocessing - INFO - Plot saved to /Users/dogaaydin/PycharmProjects/Geo_Sentiment_Climate/plots/outliers_Daily Max 8-hour CO Concentration.png\n",
      "2025-01-08 17:25:37,543 - data_preprocessing - INFO - Plot saved to /Users/dogaaydin/PycharmProjects/Geo_Sentiment_Climate/plots/outliers_Daily Max 8-hour CO Concentration.png\n",
      "2025-01-08 17:25:37,543 - data_preprocessing - INFO - Plot saved to /Users/dogaaydin/PycharmProjects/Geo_Sentiment_Climate/plots/outliers_Daily Max 8-hour CO Concentration.png\n",
      "INFO:data_preprocessing:Plot saved to /Users/dogaaydin/PycharmProjects/Geo_Sentiment_Climate/plots/outliers_Daily Max 8-hour CO Concentration.png\n",
      "2025-01-08 17:25:37,696 - data_preprocessing - INFO - Plot saved to /Users/dogaaydin/PycharmProjects/Geo_Sentiment_Climate/plots/outliers_Daily Max 1-hour NO2 Concentration.png\n",
      "2025-01-08 17:25:37,696 - data_preprocessing - INFO - Plot saved to /Users/dogaaydin/PycharmProjects/Geo_Sentiment_Climate/plots/outliers_Daily Max 1-hour NO2 Concentration.png\n",
      "2025-01-08 17:25:37,696 - data_preprocessing - INFO - Plot saved to /Users/dogaaydin/PycharmProjects/Geo_Sentiment_Climate/plots/outliers_Daily Max 1-hour NO2 Concentration.png\n",
      "2025-01-08 17:25:37,696 - data_preprocessing - INFO - Plot saved to /Users/dogaaydin/PycharmProjects/Geo_Sentiment_Climate/plots/outliers_Daily Max 1-hour NO2 Concentration.png\n",
      "INFO:data_preprocessing:Plot saved to /Users/dogaaydin/PycharmProjects/Geo_Sentiment_Climate/plots/outliers_Daily Max 1-hour NO2 Concentration.png\n"
     ]
    }
   ],
   "execution_count": 30
  },
  {
   "metadata": {
    "ExecuteTime": {
     "end_time": "2025-01-08T14:25:58.441507Z",
     "start_time": "2025-01-08T14:25:40.910046Z"
    }
   },
   "cell_type": "code",
   "source": [
    "#  Data Preprocessing\n",
    "output_file = os.path.join(PROCESSED_DIR, \"epa_preprocessed.csv\")\n",
    "\n",
    "try:\n",
    "    df.to_csv(output_file, index=False)\n",
    "    logger.info(f\"Preprocessed data saved successfully at: {output_file}\")\n",
    "except Exception as e:\n",
    "    logger.error(f\"Error saving preprocessed data: {e}\")\n",
    "    raise\n"
   ],
   "id": "50a2164f5373a83c",
   "outputs": [
    {
     "name": "stderr",
     "output_type": "stream",
     "text": [
      "2025-01-08 17:25:58,438 - data_preprocessing - INFO - Preprocessed data saved successfully at: ../data/processed/epa_preprocessed.csv\n",
      "2025-01-08 17:25:58,438 - data_preprocessing - INFO - Preprocessed data saved successfully at: ../data/processed/epa_preprocessed.csv\n",
      "2025-01-08 17:25:58,438 - data_preprocessing - INFO - Preprocessed data saved successfully at: ../data/processed/epa_preprocessed.csv\n",
      "2025-01-08 17:25:58,438 - data_preprocessing - INFO - Preprocessed data saved successfully at: ../data/processed/epa_preprocessed.csv\n",
      "INFO:data_preprocessing:Preprocessed data saved successfully at: ../data/processed/epa_preprocessed.csv\n"
     ]
    }
   ],
   "execution_count": 31
  }
 ],
 "metadata": {
  "kernelspec": {
   "name": "python3",
   "language": "python",
   "display_name": "Python 3 (ipykernel)"
  }
 },
 "nbformat": 5,
 "nbformat_minor": 9
}
