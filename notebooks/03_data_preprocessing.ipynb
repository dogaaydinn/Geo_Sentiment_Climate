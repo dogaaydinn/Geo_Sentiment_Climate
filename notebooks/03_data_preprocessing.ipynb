{
 "cells": [
  {
   "metadata": {},
   "cell_type": "code",
   "outputs": [],
   "execution_count": null,
   "source": [
    "# %% [1] required libraries\n",
    "import os\n",
    "import sys\n",
    "\n",
    "import numpy as np\n"
   ],
   "id": "2cde57d847a4f371"
  },
  {
   "metadata": {},
   "cell_type": "code",
   "outputs": [],
   "execution_count": null,
   "source": [
    "# Add the parent directory of 'source' to the Python path\n",
    "sys.path.append(os.path.abspath(\"../source\"))"
   ],
   "id": "1e8bcf6696d4c983"
  },
  {
   "metadata": {},
   "cell_type": "code",
   "outputs": [],
   "execution_count": null,
   "source": [
    "#local script import\n",
    "from source.utils.config_loader import load_config\n",
    "from source.utils.logger import setup_logger\n",
    "from source.data_preprocessing import (\n",
    "    load_data,\n",
    "    fill_missing_values,\n",
    "    scale_features,\n",
    "    visualize_missing_values,\n",
    "    correlation_analysis,\n",
    "    detect_outliers,\n",
    "    basic_info,\n",
    ")\n"
   ],
   "id": "e69dd34a8a8db526"
  },
  {
   "metadata": {},
   "cell_type": "code",
   "outputs": [],
   "execution_count": null,
   "source": [
    "# Paths\n",
    "RAW_DIR = \"../data/raw\"\n",
    "PROCESSED_DIR = \"../data/processed\"\n",
    "PLOTS_DIR = \"../plots/\"\n",
    "LOG_DIR = \"../logs/\""
   ],
   "id": "63be7ef948424bac"
  },
  {
   "metadata": {},
   "cell_type": "code",
   "outputs": [],
   "execution_count": null,
   "source": [
    "# Logger setup\n",
    "logger = setup_logger(name=\"data_preprocessing\", log_file=os.path.join(LOG_DIR, \"data_preprocessing.log\"),\n",
    "                      log_level=\"INFO\")"
   ],
   "id": "aca6da931487e8a6"
  },
  {
   "metadata": {},
   "cell_type": "code",
   "outputs": [],
   "execution_count": null,
   "source": [
    "# Config file path\n",
    "CONFIG_PATH = \"../config/settings.yml\"\n",
    "config = load_config(CONFIG_PATH)\n",
    "\n",
    "#  Load the configuration file\n",
    "RAW_DIR = config[\"paths\"][\"raw_dir\"]\n",
    "PROCESSED_DIR = config[\"paths\"][\"processed_dir\"]\n",
    "PLOTS_DIR = config[\"paths\"].get(\"plots_dir\", \"../plots\")\n"
   ],
   "id": "3e659e76553ab547"
  },
  {
   "metadata": {},
   "cell_type": "code",
   "outputs": [],
   "execution_count": null,
   "source": [
    "#  Check if the directories exist and create them if they don't\n",
    "os.makedirs(PLOTS_DIR, exist_ok=True)\n",
    "os.makedirs(LOG_DIR, exist_ok=True)\n",
    "logger.info(\"Notebook initialized.\")"
   ],
   "id": "3f7d754b831cb783"
  },
  {
   "metadata": {},
   "cell_type": "code",
   "outputs": [],
   "execution_count": null,
   "source": [
    "# %% Data Loading\n",
    "file_path = os.path.join(PROCESSED_DIR, \"epa_long_preprocessed.csv\")\n",
    "\n",
    "try:\n",
    "    df = load_data(file_path)\n",
    "    logger.info(\"Data successfully loaded.\")\n",
    "except Exception as e:\n",
    "    logger.error(f\"Error loading data: {e}\")\n",
    "    raise\n",
    "\n",
    "#  basic information\n",
    "info = basic_info(df)\n",
    "print(info)\n"
   ],
   "id": "da985570b9a3d2d7"
  },
  {
   "metadata": {},
   "cell_type": "code",
   "outputs": [],
   "execution_count": null,
   "source": [
    "# %%  Visualizing Missing Values\n",
    "logger.info(\"Visualizing missing values.\")\n",
    "visualize_missing_values(df)\n"
   ],
   "id": "298fd060fc2df199"
  },
  {
   "metadata": {},
   "cell_type": "code",
   "outputs": [],
   "execution_count": null,
   "source": [
    "# %%  Filling Missing Values\n",
    "logger.info(\"Filling missing values using mean method.\")\n",
    "df = fill_missing_values(df, method=\"mean\")\n",
    "\n",
    "#  basic information\n",
    "info_after_filling = basic_info(df)\n",
    "print(info_after_filling)\n"
   ],
   "id": "5fdccf6926f4a138"
  },
  {
   "metadata": {},
   "cell_type": "code",
   "outputs": [],
   "execution_count": null,
   "source": [
    "# Scaling Numeric Columns\n",
    "numeric_cols = df.select_dtypes(include=[np.number]).columns.tolist()\n",
    "\n",
    "logger.info(\"Scaling numeric columns using standard method.\")\n",
    "df = scale_features(df, numeric_cols, method=\"standard\")\n"
   ],
   "id": "913942101058d128"
  },
  {
   "metadata": {},
   "cell_type": "code",
   "outputs": [],
   "execution_count": null,
   "source": [
    "#  Correlation Analysis\n",
    "logger.info(\"Performing correlation analysis.\")\n",
    "correlation_analysis(df, numeric_cols)\n"
   ],
   "id": "1074a799dfcbb3f7"
  },
  {
   "metadata": {},
   "cell_type": "code",
   "outputs": [],
   "execution_count": null,
   "source": [
    "# Detecting Outliers\n",
    "logger.info(\"Detecting outliers in numeric columns.\")\n",
    "detect_outliers(df, numeric_cols)\n"
   ],
   "id": "2ec9a1d647f107f4"
  },
  {
   "metadata": {},
   "cell_type": "code",
   "outputs": [],
   "execution_count": null,
   "source": [
    "#  Data Preprocessing\n",
    "output_file = os.path.join(PROCESSED_DIR, \"epa_preprocessed.csv\")\n",
    "\n",
    "try:\n",
    "    df.to_csv(output_file, index=False)\n",
    "    logger.info(f\"Preprocessed data saved successfully at: {output_file}\")\n",
    "except Exception as e:\n",
    "    logger.error(f\"Error saving preprocessed data: {e}\")\n",
    "    raise\n"
   ],
   "id": "50a2164f5373a83c"
  }
 ],
 "metadata": {
  "kernelspec": {
   "name": "python3",
   "language": "python",
   "display_name": "Python 3 (ipykernel)"
  }
 },
 "nbformat": 5,
 "nbformat_minor": 9
}
