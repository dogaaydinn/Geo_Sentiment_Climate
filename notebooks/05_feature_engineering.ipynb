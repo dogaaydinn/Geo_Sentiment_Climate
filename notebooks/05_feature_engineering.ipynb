{
 "cells": [
  {
   "metadata": {},
   "cell_type": "code",
   "outputs": [],
   "execution_count": null,
   "source": [
    "import os\n",
    "import sys\n",
    "\n",
    "# Required Libraries\n",
    "import pandas as pd\n"
   ],
   "id": "9f79d94e04873d5e"
  },
  {
   "metadata": {},
   "cell_type": "code",
   "outputs": [],
   "execution_count": null,
   "source": [
    "# Add the parent directory of 'source' to the Python path\n",
    "sys.path.append(os.path.abspath(\"../src/utils\"))\n",
    "sys.path.append(os.path.abspath(\"../src\"))"
   ],
   "id": "ff449237bc4acb0d"
  },
  {
   "metadata": {},
   "cell_type": "code",
   "outputs": [],
   "execution_count": null,
   "source": [
    "# Local imports\n",
    "from source.utils.logger import setup_logger\n",
    "from source.feature_engineering import scale_features, create_interaction_terms\n"
   ],
   "id": "a87b3b05834033af"
  },
  {
   "metadata": {},
   "cell_type": "code",
   "outputs": [],
   "execution_count": null,
   "source": [
    "print(\"[INFO] Veri seti sütunları:\", df.columns.tolist())\n",
    "print(\"[INFO] Veri seti boyutu:\", df.shape)\n",
    "print(\"[INFO] İlk birkaç satır:\")\n",
    "print(df.head())\n"
   ],
   "id": "25c426f363b67f49"
  },
  {
   "metadata": {},
   "cell_type": "code",
   "outputs": [],
   "execution_count": null,
   "source": [
    "# Feature Scaling\n",
    "file_path = \"../data/processed/epa_long_preprocessed.csv\"\n",
    "df = pd.read_csv(file_path)\n",
    "logger = setup_logger(name=\"feature_engineering\", log_file=\"../logs/feature_engineering.log\", log_level=\"INFO\")"
   ],
   "id": "2296729958770d5c"
  },
  {
   "metadata": {},
   "cell_type": "code",
   "outputs": [],
   "execution_count": null,
   "source": [
    "# %% [4] Feature Scaling\n",
    "logger.info(\"Feature scaling started\")\n",
    "scaled_df = scale_features(df, cols=[\"feature1\", \"feature2\"], method=\"standard\")\n",
    "logger.info(\"Feature scaling completed\")"
   ],
   "id": "40559369eb88452d"
  },
  {
   "metadata": {},
   "cell_type": "code",
   "outputs": [],
   "execution_count": null,
   "source": [
    "# %% [5] Interaction Term\n",
    "logger.info(\"Interaction term start\")\n",
    "interaction_term = create_interaction_terms(df, col1=\"feature1\", col2=\"feature2\", operation=\"multiply\")\n",
    "df[\"interaction_term\"] = interaction_term\n",
    "logger.info(\"Interaction term completed\")"
   ],
   "id": "234ae4983711591b"
  },
  {
   "metadata": {},
   "cell_type": "code",
   "outputs": [],
   "execution_count": null,
   "source": [
    "# %% [6] Save the Engineered Features\n",
    "output_path = \"../data/processed/epa_features.csv\"\n",
    "df.to_csv(output_path, index=False)\n",
    "logger.info(f\"Feature engineered data saved to {output_path}\")"
   ],
   "id": "d03510d0f4fd0d30"
  },
  {
   "metadata": {},
   "cell_type": "code",
   "outputs": [],
   "execution_count": null,
   "source": [
    "# %% [7] Display the Engineered Features\n",
    "display(df.head())"
   ],
   "id": "5b63cb9add9f8f45"
  }
 ],
 "metadata": {
  "kernelspec": {
   "name": "python3",
   "language": "python",
   "display_name": "Python 3 (ipykernel)"
  }
 },
 "nbformat": 5,
 "nbformat_minor": 9
}
