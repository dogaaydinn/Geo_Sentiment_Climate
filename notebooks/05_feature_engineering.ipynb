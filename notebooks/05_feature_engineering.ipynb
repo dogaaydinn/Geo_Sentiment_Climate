{
 "cells": [
  {
   "metadata": {
    "ExecuteTime": {
     "end_time": "2024-12-31T11:07:25.852753Z",
     "start_time": "2024-12-31T11:07:25.848915Z"
    }
   },
   "cell_type": "code",
   "source": [
    "# %% [1] Import Modülleri\n",
    "import pandas as pd\n",
    "import sys\n",
    "import os\n",
    "from source.utils.logger import setup_logger\n",
    "\n"
   ],
   "id": "964e009d5cbf24af",
   "outputs": [],
   "execution_count": 40
  },
  {
   "metadata": {
    "ExecuteTime": {
     "end_time": "2024-12-31T11:08:01.525372Z",
     "start_time": "2024-12-31T11:08:01.521703Z"
    }
   },
   "cell_type": "code",
   "source": [
    "# Projeye özel local script import:\n",
    "\n",
    "sys.path.append(os.path.abspath(\"../src/utils\"))\n",
    "sys.path.append(os.path.abspath(\"../src\"))"
   ],
   "id": "39674cd43c982000",
   "outputs": [],
   "execution_count": 44
  },
  {
   "metadata": {
    "ExecuteTime": {
     "end_time": "2024-12-31T11:09:49.128238Z",
     "start_time": "2024-12-31T11:09:49.125635Z"
    }
   },
   "cell_type": "code",
   "source": [
    "# Proje modüllerini import et\n",
    "from source.utils.logger import setup_logger\n",
    "from source.feature_engineering import scale_features, create_interaction_terms\n"
   ],
   "id": "17c0ae67e9e721b7",
   "outputs": [],
   "execution_count": 47
  },
  {
   "metadata": {
    "ExecuteTime": {
     "end_time": "2024-12-31T11:16:28.499595Z",
     "start_time": "2024-12-31T11:16:28.496030Z"
    }
   },
   "cell_type": "code",
   "source": [
    "print(\"[INFO] Veri seti sütunları:\", df.columns.tolist())\n",
    "print(\"[INFO] Veri seti boyutu:\", df.shape)\n",
    "print(\"[INFO] İlk birkaç satır:\")\n",
    "print(df.head())\n"
   ],
   "id": "a8cdb2029be8a660",
   "outputs": [
    {
     "name": "stdout",
     "output_type": "stream",
     "text": [
      "/Users/dogaaydin/PycharmProjects/Geo_Sentiment_Climate/notebooks\n"
     ]
    }
   ],
   "execution_count": 55
  },
  {
   "metadata": {
    "ExecuteTime": {
     "end_time": "2024-12-31T11:10:01.685020Z",
     "start_time": "2024-12-31T11:10:01.051112Z"
    }
   },
   "cell_type": "code",
   "source": [
    "# %% [3] Veri Yükleme\n",
    "file_path = \"../data/processed/epa_long_preprocessed.csv\"\n",
    "df = pd.read_csv(file_path)\n",
    "logger = setup_logger(name=\"feature_engineering\", log_file=\"../logs/feature_engineering.log\", log_level=\"INFO\")"
   ],
   "id": "6395d58ff7bf76da",
   "outputs": [
    {
     "name": "stderr",
     "output_type": "stream",
     "text": [
      "/var/folders/3d/pcm3nnt50014458st0w8xnyh0000gn/T/ipykernel_1881/2885895775.py:3: DtypeWarning: Columns (24) have mixed types. Specify dtype option on import or set low_memory=False.\n",
      "  df = pd.read_csv(file_path)\n"
     ]
    }
   ],
   "execution_count": 49
  },
  {
   "metadata": {
    "ExecuteTime": {
     "end_time": "2024-12-31T11:10:06.713215Z",
     "start_time": "2024-12-31T11:10:06.297302Z"
    }
   },
   "cell_type": "code",
   "source": [
    "\n",
    "# %% [4] Feature Scaling\n",
    "logger.info(\"Özellik ölçeklendirme başlıyor\")\n",
    "scaled_df = scale_features(df, cols=[\"feature1\", \"feature2\"], method=\"standard\")\n",
    "logger.info(\"Özellik ölçeklendirme tamamlandı\")"
   ],
   "id": "303d90a0c256b8c1",
   "outputs": [
    {
     "name": "stderr",
     "output_type": "stream",
     "text": [
      "2024-12-31 14:10:06,298 - feature_engineering - INFO - Özellik ölçeklendirme başlıyor\n",
      "2024-12-31 14:10:06,300 - feature_engineering - INFO - Özellik ölçeklendirme başlıyor: ['feature1', 'feature2'], Yöntem: standard\n",
      "2024-12-31 14:10:06,302 - feature_engineering - ERROR - Hata: \"None of [Index(['feature1', 'feature2'], dtype='object')] are in the [columns]\"\n"
     ]
    },
    {
     "ename": "KeyError",
     "evalue": "\"None of [Index(['feature1', 'feature2'], dtype='object')] are in the [columns]\"",
     "output_type": "error",
     "traceback": [
      "\u001B[0;31m---------------------------------------------------------------------------\u001B[0m",
      "\u001B[0;31mKeyError\u001B[0m                                  Traceback (most recent call last)",
      "Cell \u001B[0;32mIn[50], line 3\u001B[0m\n\u001B[1;32m      1\u001B[0m \u001B[38;5;66;03m# %% [4] Feature Scaling\u001B[39;00m\n\u001B[1;32m      2\u001B[0m logger\u001B[38;5;241m.\u001B[39minfo(\u001B[38;5;124m\"\u001B[39m\u001B[38;5;124mÖzellik ölçeklendirme başlıyor\u001B[39m\u001B[38;5;124m\"\u001B[39m)\n\u001B[0;32m----> 3\u001B[0m scaled_df \u001B[38;5;241m=\u001B[39m \u001B[43mscale_features\u001B[49m\u001B[43m(\u001B[49m\u001B[43mdf\u001B[49m\u001B[43m,\u001B[49m\u001B[43m \u001B[49m\u001B[43mcols\u001B[49m\u001B[38;5;241;43m=\u001B[39;49m\u001B[43m[\u001B[49m\u001B[38;5;124;43m\"\u001B[39;49m\u001B[38;5;124;43mfeature1\u001B[39;49m\u001B[38;5;124;43m\"\u001B[39;49m\u001B[43m,\u001B[49m\u001B[43m \u001B[49m\u001B[38;5;124;43m\"\u001B[39;49m\u001B[38;5;124;43mfeature2\u001B[39;49m\u001B[38;5;124;43m\"\u001B[39;49m\u001B[43m]\u001B[49m\u001B[43m,\u001B[49m\u001B[43m \u001B[49m\u001B[43mmethod\u001B[49m\u001B[38;5;241;43m=\u001B[39;49m\u001B[38;5;124;43m\"\u001B[39;49m\u001B[38;5;124;43mstandard\u001B[39;49m\u001B[38;5;124;43m\"\u001B[39;49m\u001B[43m)\u001B[49m\n\u001B[1;32m      4\u001B[0m logger\u001B[38;5;241m.\u001B[39minfo(\u001B[38;5;124m\"\u001B[39m\u001B[38;5;124mÖzellik ölçeklendirme tamamlandı\u001B[39m\u001B[38;5;124m\"\u001B[39m)\n",
      "File \u001B[0;32m~/PycharmProjects/Geo_Sentiment_Climate/source/feature_engineering.py:29\u001B[0m, in \u001B[0;36mscale_features\u001B[0;34m(df, cols, method)\u001B[0m\n\u001B[1;32m     27\u001B[0m \u001B[38;5;28;01melse\u001B[39;00m:\n\u001B[1;32m     28\u001B[0m     \u001B[38;5;28;01mraise\u001B[39;00m \u001B[38;5;167;01mValueError\u001B[39;00m(\u001B[38;5;124m\"\u001B[39m\u001B[38;5;124mmethod must be \u001B[39m\u001B[38;5;124m'\u001B[39m\u001B[38;5;124mstandard\u001B[39m\u001B[38;5;124m'\u001B[39m\u001B[38;5;124m or \u001B[39m\u001B[38;5;124m'\u001B[39m\u001B[38;5;124mminmax\u001B[39m\u001B[38;5;124m'\u001B[39m\u001B[38;5;124m\"\u001B[39m)\n\u001B[0;32m---> 29\u001B[0m df[cols] \u001B[38;5;241m=\u001B[39m scaler\u001B[38;5;241m.\u001B[39mfit_transform(\u001B[43mdf\u001B[49m\u001B[43m[\u001B[49m\u001B[43mcols\u001B[49m\u001B[43m]\u001B[49m)\n\u001B[1;32m     30\u001B[0m logger\u001B[38;5;241m.\u001B[39minfo(\u001B[38;5;124m\"\u001B[39m\u001B[38;5;124mÖzellik ölçeklendirme tamamlandı\u001B[39m\u001B[38;5;124m\"\u001B[39m)\n\u001B[1;32m     31\u001B[0m \u001B[38;5;28;01mreturn\u001B[39;00m df\n",
      "File \u001B[0;32m~/PycharmProjects/Geo_Sentiment_Climate/.venv/lib/python3.9/site-packages/pandas/core/frame.py:3813\u001B[0m, in \u001B[0;36mDataFrame.__getitem__\u001B[0;34m(self, key)\u001B[0m\n\u001B[1;32m   3811\u001B[0m     \u001B[38;5;28;01mif\u001B[39;00m is_iterator(key):\n\u001B[1;32m   3812\u001B[0m         key \u001B[38;5;241m=\u001B[39m \u001B[38;5;28mlist\u001B[39m(key)\n\u001B[0;32m-> 3813\u001B[0m     indexer \u001B[38;5;241m=\u001B[39m \u001B[38;5;28;43mself\u001B[39;49m\u001B[38;5;241;43m.\u001B[39;49m\u001B[43mcolumns\u001B[49m\u001B[38;5;241;43m.\u001B[39;49m\u001B[43m_get_indexer_strict\u001B[49m\u001B[43m(\u001B[49m\u001B[43mkey\u001B[49m\u001B[43m,\u001B[49m\u001B[43m \u001B[49m\u001B[38;5;124;43m\"\u001B[39;49m\u001B[38;5;124;43mcolumns\u001B[39;49m\u001B[38;5;124;43m\"\u001B[39;49m\u001B[43m)\u001B[49m[\u001B[38;5;241m1\u001B[39m]\n\u001B[1;32m   3815\u001B[0m \u001B[38;5;66;03m# take() does not accept boolean indexers\u001B[39;00m\n\u001B[1;32m   3816\u001B[0m \u001B[38;5;28;01mif\u001B[39;00m \u001B[38;5;28mgetattr\u001B[39m(indexer, \u001B[38;5;124m\"\u001B[39m\u001B[38;5;124mdtype\u001B[39m\u001B[38;5;124m\"\u001B[39m, \u001B[38;5;28;01mNone\u001B[39;00m) \u001B[38;5;241m==\u001B[39m \u001B[38;5;28mbool\u001B[39m:\n",
      "File \u001B[0;32m~/PycharmProjects/Geo_Sentiment_Climate/.venv/lib/python3.9/site-packages/pandas/core/indexes/base.py:6070\u001B[0m, in \u001B[0;36mIndex._get_indexer_strict\u001B[0;34m(self, key, axis_name)\u001B[0m\n\u001B[1;32m   6067\u001B[0m \u001B[38;5;28;01melse\u001B[39;00m:\n\u001B[1;32m   6068\u001B[0m     keyarr, indexer, new_indexer \u001B[38;5;241m=\u001B[39m \u001B[38;5;28mself\u001B[39m\u001B[38;5;241m.\u001B[39m_reindex_non_unique(keyarr)\n\u001B[0;32m-> 6070\u001B[0m \u001B[38;5;28;43mself\u001B[39;49m\u001B[38;5;241;43m.\u001B[39;49m\u001B[43m_raise_if_missing\u001B[49m\u001B[43m(\u001B[49m\u001B[43mkeyarr\u001B[49m\u001B[43m,\u001B[49m\u001B[43m \u001B[49m\u001B[43mindexer\u001B[49m\u001B[43m,\u001B[49m\u001B[43m \u001B[49m\u001B[43maxis_name\u001B[49m\u001B[43m)\u001B[49m\n\u001B[1;32m   6072\u001B[0m keyarr \u001B[38;5;241m=\u001B[39m \u001B[38;5;28mself\u001B[39m\u001B[38;5;241m.\u001B[39mtake(indexer)\n\u001B[1;32m   6073\u001B[0m \u001B[38;5;28;01mif\u001B[39;00m \u001B[38;5;28misinstance\u001B[39m(key, Index):\n\u001B[1;32m   6074\u001B[0m     \u001B[38;5;66;03m# GH 42790 - Preserve name from an Index\u001B[39;00m\n",
      "File \u001B[0;32m~/PycharmProjects/Geo_Sentiment_Climate/.venv/lib/python3.9/site-packages/pandas/core/indexes/base.py:6130\u001B[0m, in \u001B[0;36mIndex._raise_if_missing\u001B[0;34m(self, key, indexer, axis_name)\u001B[0m\n\u001B[1;32m   6128\u001B[0m     \u001B[38;5;28;01mif\u001B[39;00m use_interval_msg:\n\u001B[1;32m   6129\u001B[0m         key \u001B[38;5;241m=\u001B[39m \u001B[38;5;28mlist\u001B[39m(key)\n\u001B[0;32m-> 6130\u001B[0m     \u001B[38;5;28;01mraise\u001B[39;00m \u001B[38;5;167;01mKeyError\u001B[39;00m(\u001B[38;5;124mf\u001B[39m\u001B[38;5;124m\"\u001B[39m\u001B[38;5;124mNone of [\u001B[39m\u001B[38;5;132;01m{\u001B[39;00mkey\u001B[38;5;132;01m}\u001B[39;00m\u001B[38;5;124m] are in the [\u001B[39m\u001B[38;5;132;01m{\u001B[39;00maxis_name\u001B[38;5;132;01m}\u001B[39;00m\u001B[38;5;124m]\u001B[39m\u001B[38;5;124m\"\u001B[39m)\n\u001B[1;32m   6132\u001B[0m not_found \u001B[38;5;241m=\u001B[39m \u001B[38;5;28mlist\u001B[39m(ensure_index(key)[missing_mask\u001B[38;5;241m.\u001B[39mnonzero()[\u001B[38;5;241m0\u001B[39m]]\u001B[38;5;241m.\u001B[39munique())\n\u001B[1;32m   6133\u001B[0m \u001B[38;5;28;01mraise\u001B[39;00m \u001B[38;5;167;01mKeyError\u001B[39;00m(\u001B[38;5;124mf\u001B[39m\u001B[38;5;124m\"\u001B[39m\u001B[38;5;132;01m{\u001B[39;00mnot_found\u001B[38;5;132;01m}\u001B[39;00m\u001B[38;5;124m not in index\u001B[39m\u001B[38;5;124m\"\u001B[39m)\n",
      "\u001B[0;31mKeyError\u001B[0m: \"None of [Index(['feature1', 'feature2'], dtype='object')] are in the [columns]\""
     ]
    }
   ],
   "execution_count": 50
  },
  {
   "metadata": {
    "ExecuteTime": {
     "end_time": "2024-12-31T11:10:12.049679Z",
     "start_time": "2024-12-31T11:10:11.944824Z"
    }
   },
   "cell_type": "code",
   "source": [
    "# %% [5] Interaction Term Oluşturma\n",
    "logger.info(\"Etkileşim terimi oluşturuluyor\")\n",
    "interaction_term = create_interaction_terms(df, col1=\"feature1\", col2=\"feature2\", operation=\"multiply\")\n",
    "df[\"interaction_term\"] = interaction_term\n",
    "logger.info(\"Etkileşim terimi başarıyla oluşturuldu\")"
   ],
   "id": "257e2ccdc989f202",
   "outputs": [
    {
     "name": "stderr",
     "output_type": "stream",
     "text": [
      "2024-12-31 14:10:11,946 - feature_engineering - INFO - Etkileşim terimi oluşturuluyor\n",
      "2024-12-31 14:10:11,948 - feature_engineering - INFO - Etkileşim terimi oluşturuluyor: feature1, feature2, İşlem: multiply\n",
      "2024-12-31 14:10:11,949 - feature_engineering - ERROR - Etkileşim terimi oluşturulurken hata: 'feature1'\n"
     ]
    },
    {
     "ename": "KeyError",
     "evalue": "'feature1'",
     "output_type": "error",
     "traceback": [
      "\u001B[0;31m---------------------------------------------------------------------------\u001B[0m",
      "\u001B[0;31mKeyError\u001B[0m                                  Traceback (most recent call last)",
      "File \u001B[0;32m~/PycharmProjects/Geo_Sentiment_Climate/.venv/lib/python3.9/site-packages/pandas/core/indexes/base.py:3802\u001B[0m, in \u001B[0;36mIndex.get_loc\u001B[0;34m(self, key, method, tolerance)\u001B[0m\n\u001B[1;32m   3801\u001B[0m \u001B[38;5;28;01mtry\u001B[39;00m:\n\u001B[0;32m-> 3802\u001B[0m     \u001B[38;5;28;01mreturn\u001B[39;00m \u001B[38;5;28;43mself\u001B[39;49m\u001B[38;5;241;43m.\u001B[39;49m\u001B[43m_engine\u001B[49m\u001B[38;5;241;43m.\u001B[39;49m\u001B[43mget_loc\u001B[49m\u001B[43m(\u001B[49m\u001B[43mcasted_key\u001B[49m\u001B[43m)\u001B[49m\n\u001B[1;32m   3803\u001B[0m \u001B[38;5;28;01mexcept\u001B[39;00m \u001B[38;5;167;01mKeyError\u001B[39;00m \u001B[38;5;28;01mas\u001B[39;00m err:\n",
      "File \u001B[0;32m~/PycharmProjects/Geo_Sentiment_Climate/.venv/lib/python3.9/site-packages/pandas/_libs/index.pyx:138\u001B[0m, in \u001B[0;36mpandas._libs.index.IndexEngine.get_loc\u001B[0;34m()\u001B[0m\n",
      "File \u001B[0;32m~/PycharmProjects/Geo_Sentiment_Climate/.venv/lib/python3.9/site-packages/pandas/_libs/index.pyx:165\u001B[0m, in \u001B[0;36mpandas._libs.index.IndexEngine.get_loc\u001B[0;34m()\u001B[0m\n",
      "File \u001B[0;32mpandas/_libs/hashtable_class_helper.pxi:5745\u001B[0m, in \u001B[0;36mpandas._libs.hashtable.PyObjectHashTable.get_item\u001B[0;34m()\u001B[0m\n",
      "File \u001B[0;32mpandas/_libs/hashtable_class_helper.pxi:5753\u001B[0m, in \u001B[0;36mpandas._libs.hashtable.PyObjectHashTable.get_item\u001B[0;34m()\u001B[0m\n",
      "\u001B[0;31mKeyError\u001B[0m: 'feature1'",
      "\nThe above exception was the direct cause of the following exception:\n",
      "\u001B[0;31mKeyError\u001B[0m                                  Traceback (most recent call last)",
      "Cell \u001B[0;32mIn[51], line 3\u001B[0m\n\u001B[1;32m      1\u001B[0m \u001B[38;5;66;03m# %% [5] Interaction Term Oluşturma\u001B[39;00m\n\u001B[1;32m      2\u001B[0m logger\u001B[38;5;241m.\u001B[39minfo(\u001B[38;5;124m\"\u001B[39m\u001B[38;5;124mEtkileşim terimi oluşturuluyor\u001B[39m\u001B[38;5;124m\"\u001B[39m)\n\u001B[0;32m----> 3\u001B[0m interaction_term \u001B[38;5;241m=\u001B[39m \u001B[43mcreate_interaction_terms\u001B[49m\u001B[43m(\u001B[49m\u001B[43mdf\u001B[49m\u001B[43m,\u001B[49m\u001B[43m \u001B[49m\u001B[43mcol1\u001B[49m\u001B[38;5;241;43m=\u001B[39;49m\u001B[38;5;124;43m\"\u001B[39;49m\u001B[38;5;124;43mfeature1\u001B[39;49m\u001B[38;5;124;43m\"\u001B[39;49m\u001B[43m,\u001B[49m\u001B[43m \u001B[49m\u001B[43mcol2\u001B[49m\u001B[38;5;241;43m=\u001B[39;49m\u001B[38;5;124;43m\"\u001B[39;49m\u001B[38;5;124;43mfeature2\u001B[39;49m\u001B[38;5;124;43m\"\u001B[39;49m\u001B[43m,\u001B[49m\u001B[43m \u001B[49m\u001B[43moperation\u001B[49m\u001B[38;5;241;43m=\u001B[39;49m\u001B[38;5;124;43m\"\u001B[39;49m\u001B[38;5;124;43mmultiply\u001B[39;49m\u001B[38;5;124;43m\"\u001B[39;49m\u001B[43m)\u001B[49m\n\u001B[1;32m      4\u001B[0m df[\u001B[38;5;124m\"\u001B[39m\u001B[38;5;124minteraction_term\u001B[39m\u001B[38;5;124m\"\u001B[39m] \u001B[38;5;241m=\u001B[39m interaction_term\n\u001B[1;32m      5\u001B[0m logger\u001B[38;5;241m.\u001B[39minfo(\u001B[38;5;124m\"\u001B[39m\u001B[38;5;124mEtkileşim terimi başarıyla oluşturuldu\u001B[39m\u001B[38;5;124m\"\u001B[39m)\n",
      "File \u001B[0;32m~/PycharmProjects/Geo_Sentiment_Climate/source/feature_engineering.py:52\u001B[0m, in \u001B[0;36mcreate_interaction_terms\u001B[0;34m(df, col1, col2, operation)\u001B[0m\n\u001B[1;32m     50\u001B[0m \u001B[38;5;28;01mtry\u001B[39;00m:\n\u001B[1;32m     51\u001B[0m     \u001B[38;5;28;01mif\u001B[39;00m operation \u001B[38;5;241m==\u001B[39m \u001B[38;5;124m\"\u001B[39m\u001B[38;5;124mmultiply\u001B[39m\u001B[38;5;124m\"\u001B[39m:\n\u001B[0;32m---> 52\u001B[0m         \u001B[38;5;28;01mreturn\u001B[39;00m \u001B[43mdf\u001B[49m\u001B[43m[\u001B[49m\u001B[43mcol1\u001B[49m\u001B[43m]\u001B[49m \u001B[38;5;241m*\u001B[39m df[col2]\n\u001B[1;32m     53\u001B[0m     \u001B[38;5;28;01melif\u001B[39;00m operation \u001B[38;5;241m==\u001B[39m \u001B[38;5;124m\"\u001B[39m\u001B[38;5;124madd\u001B[39m\u001B[38;5;124m\"\u001B[39m:\n\u001B[1;32m     54\u001B[0m         \u001B[38;5;28;01mreturn\u001B[39;00m df[col1] \u001B[38;5;241m+\u001B[39m df[col2]\n",
      "File \u001B[0;32m~/PycharmProjects/Geo_Sentiment_Climate/.venv/lib/python3.9/site-packages/pandas/core/frame.py:3807\u001B[0m, in \u001B[0;36mDataFrame.__getitem__\u001B[0;34m(self, key)\u001B[0m\n\u001B[1;32m   3805\u001B[0m \u001B[38;5;28;01mif\u001B[39;00m \u001B[38;5;28mself\u001B[39m\u001B[38;5;241m.\u001B[39mcolumns\u001B[38;5;241m.\u001B[39mnlevels \u001B[38;5;241m>\u001B[39m \u001B[38;5;241m1\u001B[39m:\n\u001B[1;32m   3806\u001B[0m     \u001B[38;5;28;01mreturn\u001B[39;00m \u001B[38;5;28mself\u001B[39m\u001B[38;5;241m.\u001B[39m_getitem_multilevel(key)\n\u001B[0;32m-> 3807\u001B[0m indexer \u001B[38;5;241m=\u001B[39m \u001B[38;5;28;43mself\u001B[39;49m\u001B[38;5;241;43m.\u001B[39;49m\u001B[43mcolumns\u001B[49m\u001B[38;5;241;43m.\u001B[39;49m\u001B[43mget_loc\u001B[49m\u001B[43m(\u001B[49m\u001B[43mkey\u001B[49m\u001B[43m)\u001B[49m\n\u001B[1;32m   3808\u001B[0m \u001B[38;5;28;01mif\u001B[39;00m is_integer(indexer):\n\u001B[1;32m   3809\u001B[0m     indexer \u001B[38;5;241m=\u001B[39m [indexer]\n",
      "File \u001B[0;32m~/PycharmProjects/Geo_Sentiment_Climate/.venv/lib/python3.9/site-packages/pandas/core/indexes/base.py:3804\u001B[0m, in \u001B[0;36mIndex.get_loc\u001B[0;34m(self, key, method, tolerance)\u001B[0m\n\u001B[1;32m   3802\u001B[0m     \u001B[38;5;28;01mreturn\u001B[39;00m \u001B[38;5;28mself\u001B[39m\u001B[38;5;241m.\u001B[39m_engine\u001B[38;5;241m.\u001B[39mget_loc(casted_key)\n\u001B[1;32m   3803\u001B[0m \u001B[38;5;28;01mexcept\u001B[39;00m \u001B[38;5;167;01mKeyError\u001B[39;00m \u001B[38;5;28;01mas\u001B[39;00m err:\n\u001B[0;32m-> 3804\u001B[0m     \u001B[38;5;28;01mraise\u001B[39;00m \u001B[38;5;167;01mKeyError\u001B[39;00m(key) \u001B[38;5;28;01mfrom\u001B[39;00m \u001B[38;5;21;01merr\u001B[39;00m\n\u001B[1;32m   3805\u001B[0m \u001B[38;5;28;01mexcept\u001B[39;00m \u001B[38;5;167;01mTypeError\u001B[39;00m:\n\u001B[1;32m   3806\u001B[0m     \u001B[38;5;66;03m# If we have a listlike key, _check_indexing_error will raise\u001B[39;00m\n\u001B[1;32m   3807\u001B[0m     \u001B[38;5;66;03m#  InvalidIndexError. Otherwise we fall through and re-raise\u001B[39;00m\n\u001B[1;32m   3808\u001B[0m     \u001B[38;5;66;03m#  the TypeError.\u001B[39;00m\n\u001B[1;32m   3809\u001B[0m     \u001B[38;5;28mself\u001B[39m\u001B[38;5;241m.\u001B[39m_check_indexing_error(key)\n",
      "\u001B[0;31mKeyError\u001B[0m: 'feature1'"
     ]
    }
   ],
   "execution_count": 51
  },
  {
   "metadata": {
    "ExecuteTime": {
     "end_time": "2024-12-31T11:10:17.129494Z",
     "start_time": "2024-12-31T11:10:14.484277Z"
    }
   },
   "cell_type": "code",
   "source": [
    "# %% [6] Kaydet\n",
    "output_path = \"../data/processed/epa_features.csv\"\n",
    "df.to_csv(output_path, index=False)\n",
    "logger.info(f\"Feature engineered veri kaydedildi: {output_path}\")"
   ],
   "id": "fc0fe8ff40a967cf",
   "outputs": [
    {
     "name": "stderr",
     "output_type": "stream",
     "text": [
      "2024-12-31 14:10:17,128 - feature_engineering - INFO - Feature engineered veri kaydedildi: ../data/processed/epa_features.csv\n"
     ]
    }
   ],
   "execution_count": 52
  },
  {
   "metadata": {
    "ExecuteTime": {
     "end_time": "2024-12-31T11:10:19.568209Z",
     "start_time": "2024-12-31T11:10:19.551703Z"
    }
   },
   "cell_type": "code",
   "source": [
    "# %% [4] Özellikleri Görüntüle\n",
    "display(df.head())"
   ],
   "id": "8c695c2349090c3f",
   "outputs": [
    {
     "data": {
      "text/plain": [
       "         Date Source    Site ID  POC  Daily Max 1-hour SO2 Concentration  \\\n",
       "0  01/01/2023    AQS  510360002    1                                 0.1   \n",
       "1  01/02/2023    AQS  510360002    1                                 0.3   \n",
       "2  01/03/2023    AQS  510360002    1                                 1.4   \n",
       "3  01/04/2023    AQS  510360002    1                                 0.8   \n",
       "4  01/05/2023    AQS  510360002    1                                 0.1   \n",
       "\n",
       "  Units  Daily AQI Value     Local Site Name  Daily Obs Count  \\\n",
       "0   ppb                0  Shirley Plantation               24   \n",
       "1   ppb                0  Shirley Plantation               24   \n",
       "2   ppb                1  Shirley Plantation               23   \n",
       "3   ppb                0  Shirley Plantation               23   \n",
       "4   ppb                0  Shirley Plantation               24   \n",
       "\n",
       "   Percent Complete  ...  County FIPS Code   County  Site Latitude  \\\n",
       "0             100.0  ...                36  Charles       37.34438   \n",
       "1             100.0  ...                36  Charles       37.34438   \n",
       "2              96.0  ...                36  Charles       37.34438   \n",
       "3              96.0  ...                36  Charles       37.34438   \n",
       "4             100.0  ...                36  Charles       37.34438   \n",
       "\n",
       "   Site Longitude                source_file  \\\n",
       "0       -77.25925  epa_so2_virginia_2023.csv   \n",
       "1       -77.25925  epa_so2_virginia_2023.csv   \n",
       "2       -77.25925  epa_so2_virginia_2023.csv   \n",
       "3       -77.25925  epa_so2_virginia_2023.csv   \n",
       "4       -77.25925  epa_so2_virginia_2023.csv   \n",
       "\n",
       "   Daily Max 8-hour Ozone Concentration Daily Mean PM2.5 Concentration  \\\n",
       "0                                   NaN                            NaN   \n",
       "1                                   NaN                            NaN   \n",
       "2                                   NaN                            NaN   \n",
       "3                                   NaN                            NaN   \n",
       "4                                   NaN                            NaN   \n",
       "\n",
       "   Method Description Daily Max 8-hour CO Concentration  \\\n",
       "0                 NaN                               NaN   \n",
       "1                 NaN                               NaN   \n",
       "2                 NaN                               NaN   \n",
       "3                 NaN                               NaN   \n",
       "4                 NaN                               NaN   \n",
       "\n",
       "   Daily Max 1-hour NO2 Concentration  \n",
       "0                                 NaN  \n",
       "1                                 NaN  \n",
       "2                                 NaN  \n",
       "3                                 NaN  \n",
       "4                                 NaN  \n",
       "\n",
       "[5 rows x 27 columns]"
      ],
      "text/html": [
       "<div>\n",
       "<style scoped>\n",
       "    .dataframe tbody tr th:only-of-type {\n",
       "        vertical-align: middle;\n",
       "    }\n",
       "\n",
       "    .dataframe tbody tr th {\n",
       "        vertical-align: top;\n",
       "    }\n",
       "\n",
       "    .dataframe thead th {\n",
       "        text-align: right;\n",
       "    }\n",
       "</style>\n",
       "<table border=\"1\" class=\"dataframe\">\n",
       "  <thead>\n",
       "    <tr style=\"text-align: right;\">\n",
       "      <th></th>\n",
       "      <th>Date</th>\n",
       "      <th>Source</th>\n",
       "      <th>Site ID</th>\n",
       "      <th>POC</th>\n",
       "      <th>Daily Max 1-hour SO2 Concentration</th>\n",
       "      <th>Units</th>\n",
       "      <th>Daily AQI Value</th>\n",
       "      <th>Local Site Name</th>\n",
       "      <th>Daily Obs Count</th>\n",
       "      <th>Percent Complete</th>\n",
       "      <th>...</th>\n",
       "      <th>County FIPS Code</th>\n",
       "      <th>County</th>\n",
       "      <th>Site Latitude</th>\n",
       "      <th>Site Longitude</th>\n",
       "      <th>source_file</th>\n",
       "      <th>Daily Max 8-hour Ozone Concentration</th>\n",
       "      <th>Daily Mean PM2.5 Concentration</th>\n",
       "      <th>Method Description</th>\n",
       "      <th>Daily Max 8-hour CO Concentration</th>\n",
       "      <th>Daily Max 1-hour NO2 Concentration</th>\n",
       "    </tr>\n",
       "  </thead>\n",
       "  <tbody>\n",
       "    <tr>\n",
       "      <th>0</th>\n",
       "      <td>01/01/2023</td>\n",
       "      <td>AQS</td>\n",
       "      <td>510360002</td>\n",
       "      <td>1</td>\n",
       "      <td>0.1</td>\n",
       "      <td>ppb</td>\n",
       "      <td>0</td>\n",
       "      <td>Shirley Plantation</td>\n",
       "      <td>24</td>\n",
       "      <td>100.0</td>\n",
       "      <td>...</td>\n",
       "      <td>36</td>\n",
       "      <td>Charles</td>\n",
       "      <td>37.34438</td>\n",
       "      <td>-77.25925</td>\n",
       "      <td>epa_so2_virginia_2023.csv</td>\n",
       "      <td>NaN</td>\n",
       "      <td>NaN</td>\n",
       "      <td>NaN</td>\n",
       "      <td>NaN</td>\n",
       "      <td>NaN</td>\n",
       "    </tr>\n",
       "    <tr>\n",
       "      <th>1</th>\n",
       "      <td>01/02/2023</td>\n",
       "      <td>AQS</td>\n",
       "      <td>510360002</td>\n",
       "      <td>1</td>\n",
       "      <td>0.3</td>\n",
       "      <td>ppb</td>\n",
       "      <td>0</td>\n",
       "      <td>Shirley Plantation</td>\n",
       "      <td>24</td>\n",
       "      <td>100.0</td>\n",
       "      <td>...</td>\n",
       "      <td>36</td>\n",
       "      <td>Charles</td>\n",
       "      <td>37.34438</td>\n",
       "      <td>-77.25925</td>\n",
       "      <td>epa_so2_virginia_2023.csv</td>\n",
       "      <td>NaN</td>\n",
       "      <td>NaN</td>\n",
       "      <td>NaN</td>\n",
       "      <td>NaN</td>\n",
       "      <td>NaN</td>\n",
       "    </tr>\n",
       "    <tr>\n",
       "      <th>2</th>\n",
       "      <td>01/03/2023</td>\n",
       "      <td>AQS</td>\n",
       "      <td>510360002</td>\n",
       "      <td>1</td>\n",
       "      <td>1.4</td>\n",
       "      <td>ppb</td>\n",
       "      <td>1</td>\n",
       "      <td>Shirley Plantation</td>\n",
       "      <td>23</td>\n",
       "      <td>96.0</td>\n",
       "      <td>...</td>\n",
       "      <td>36</td>\n",
       "      <td>Charles</td>\n",
       "      <td>37.34438</td>\n",
       "      <td>-77.25925</td>\n",
       "      <td>epa_so2_virginia_2023.csv</td>\n",
       "      <td>NaN</td>\n",
       "      <td>NaN</td>\n",
       "      <td>NaN</td>\n",
       "      <td>NaN</td>\n",
       "      <td>NaN</td>\n",
       "    </tr>\n",
       "    <tr>\n",
       "      <th>3</th>\n",
       "      <td>01/04/2023</td>\n",
       "      <td>AQS</td>\n",
       "      <td>510360002</td>\n",
       "      <td>1</td>\n",
       "      <td>0.8</td>\n",
       "      <td>ppb</td>\n",
       "      <td>0</td>\n",
       "      <td>Shirley Plantation</td>\n",
       "      <td>23</td>\n",
       "      <td>96.0</td>\n",
       "      <td>...</td>\n",
       "      <td>36</td>\n",
       "      <td>Charles</td>\n",
       "      <td>37.34438</td>\n",
       "      <td>-77.25925</td>\n",
       "      <td>epa_so2_virginia_2023.csv</td>\n",
       "      <td>NaN</td>\n",
       "      <td>NaN</td>\n",
       "      <td>NaN</td>\n",
       "      <td>NaN</td>\n",
       "      <td>NaN</td>\n",
       "    </tr>\n",
       "    <tr>\n",
       "      <th>4</th>\n",
       "      <td>01/05/2023</td>\n",
       "      <td>AQS</td>\n",
       "      <td>510360002</td>\n",
       "      <td>1</td>\n",
       "      <td>0.1</td>\n",
       "      <td>ppb</td>\n",
       "      <td>0</td>\n",
       "      <td>Shirley Plantation</td>\n",
       "      <td>24</td>\n",
       "      <td>100.0</td>\n",
       "      <td>...</td>\n",
       "      <td>36</td>\n",
       "      <td>Charles</td>\n",
       "      <td>37.34438</td>\n",
       "      <td>-77.25925</td>\n",
       "      <td>epa_so2_virginia_2023.csv</td>\n",
       "      <td>NaN</td>\n",
       "      <td>NaN</td>\n",
       "      <td>NaN</td>\n",
       "      <td>NaN</td>\n",
       "      <td>NaN</td>\n",
       "    </tr>\n",
       "  </tbody>\n",
       "</table>\n",
       "<p>5 rows × 27 columns</p>\n",
       "</div>"
      ]
     },
     "metadata": {},
     "output_type": "display_data"
    }
   ],
   "execution_count": 53
  }
 ],
 "metadata": {
  "kernelspec": {
   "name": "python3",
   "language": "python",
   "display_name": "Python 3 (ipykernel)"
  }
 },
 "nbformat": 5,
 "nbformat_minor": 9
}
