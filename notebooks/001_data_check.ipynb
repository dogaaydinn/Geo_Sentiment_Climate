{
 "cells": [
  {
   "metadata": {},
   "cell_type": "code",
   "outputs": [],
   "execution_count": null,
   "source": [
    "# Import custom modules\n",
    "import os\n",
    "import re\n",
    "import sys\n",
    "import glob\n",
    "import logging\n",
    "import pandas as pd\n",
    "import seaborn as sns\n",
    "import matplotlib.pyplot as plt"
   ],
   "id": "326ab28da5912d6a"
  },
  {
   "metadata": {},
   "cell_type": "code",
   "outputs": [],
   "execution_count": null,
   "source": [
    "# Plotların notebook içinde gözükmesi için:\n",
    "%matplotlib inline"
   ],
   "id": "887c3088f701e4c0"
  },
  {
   "metadata": {
    "ExecuteTime": {
     "end_time": "2025-01-19T10:32:03.967948Z",
     "start_time": "2025-01-19T10:32:03.965441Z"
    }
   },
   "cell_type": "code",
   "source": [
    "# %%\n",
    "# Projeye özel local script import:\n",
    "sys.path.append(os.path.abspath(\"../source\"))"
   ],
   "id": "3d3aba07c71f2e19",
   "outputs": [],
   "execution_count": 5
  },
  {
   "metadata": {},
   "cell_type": "code",
   "outputs": [],
   "execution_count": null,
   "source": [
    "# %%\n",
    "from source.data_check import check_raw_data\n",
    "from source.utils.logger import setup_logger\n",
    "from source.config.config_loader import load_config"
   ],
   "id": "b88ed7dbedae1492"
  },
  {
   "metadata": {},
   "cell_type": "code",
   "outputs": [],
   "execution_count": null,
   "source": [
    "# %%\n",
    "config_path = os.path.join(os.path.abspath(\"../config\"), \"settings.yml\")\n",
    "config = load_config(config_path)\n",
    "\n",
    "if config is None:\n",
    "    logging.error(\"Failed to load configuration. Terminating notebook.\")\n",
    "    sys.exit(1)\n",
    "\n",
    "RAW_DIR = os.path.abspath(config[\"paths\"][\"raw_dir\"])\n",
    "LOG_DIR = config[\"paths\"].get(\"logs_dir\", \"../logs\")\n",
    "\n",
    "print(LOG_DIR)\n",
    "\n",
    "os.makedirs(LOG_DIR, exist_ok=True)"
   ],
   "id": "89c397dbccf3135c"
  },
  {
   "metadata": {},
   "cell_type": "code",
   "outputs": [],
   "execution_count": null,
   "source": [
    "logger = setup_logger(\n",
    "    name=\"data_check_notebook\",\n",
    "    log_file=os.path.join(LOG_DIR, \"data_check_notebook.log\"),\n",
    "    log_level=config.get(\"logging\", {}).get(\"level\", \"INFO\").upper()\n",
    ")\n",
    "\n",
    "logger.info(\"=== Data Check Notebook Initialized ===\")\n",
    "print(f\"Log directory is set to: {LOG_DIR}\")\n",
    "print(f\"Raw data directory is set to: {RAW_DIR}\")"
   ],
   "id": "487f46d4d7932b43"
  },
  {
   "metadata": {},
   "cell_type": "code",
   "outputs": [],
   "execution_count": null,
   "source": [
    "# %%\n",
    "check_raw_data(raw_dir=RAW_DIR)"
   ],
   "id": "7f1b0dca1e34235f"
  },
  {
   "metadata": {},
   "cell_type": "code",
   "outputs": [],
   "execution_count": null,
   "source": [
    "# %%\n",
    "# Find the latest report in the processed directory\n",
    "processed_dir = os.path.abspath(config[\"paths\"][\"processed_dir\"])\n",
    "report_files = glob.glob(os.path.join(processed_dir, \"data_check_report_*.csv\"))\n",
    "\n",
    "df_report = None\n",
    "if not report_files:\n",
    "    logger.warning(\"No report files found in the processed directory.\")\n",
    "    df_report = pd.DataFrame()\n",
    "    print(\"No data check reports found.\")\n",
    "else:\n",
    "    latest_report = max(report_files, key=os.path.getctime)\n",
    "    logger.info(f\"Loading the latest report: {latest_report}\")\n",
    "    print(f\"Loading the latest report: {latest_report}\")\n",
    "    df_report = pd.read_csv(latest_report)\n",
    "    display(df_report.head(10))"
   ],
   "id": "538dcb9976b6c233"
  },
  {
   "metadata": {},
   "cell_type": "code",
   "outputs": [],
   "execution_count": null,
   "source": [
    "# %%\n",
    "if df_report is not None and not df_report.empty:\n",
    "    summary = df_report.describe(include='all').transpose()\n",
    "    display(summary)\n",
    "    print(\"Preview of the Data Check Report:\")\n",
    "    display(df_report.head())\n",
    "else:\n",
    "    print(\"DataFrame is empty. No summary available.\")"
   ],
   "id": "29a20a3b8c3a4b4a"
  },
  {
   "metadata": {},
   "cell_type": "code",
   "outputs": [],
   "execution_count": null,
   "source": [
    "# %%\n",
    "if df_report is not None and not df_report.empty:\n",
    "    # Histogram of row_counts\n",
    "    plt.figure(figsize=(10, 6))\n",
    "    sns.histplot(df_report['row_count'], bins=10, kde=True)\n",
    "    plt.title(\"Distribution of Row Counts\")\n",
    "    plt.xlabel(\"Row Count\")\n",
    "    plt.ylabel(\"Frequency\")\n",
    "    plt.show()\n",
    "\n",
    "    # Histogram of col_counts\n",
    "    plt.figure(figsize=(10, 6))\n",
    "    sns.histplot(df_report['col_count'], bins=10, kde=True)\n",
    "    plt.title(\"Distribution of Column Counts\")\n",
    "    plt.xlabel(\"Column Count\")\n",
    "    plt.ylabel(\"Frequency\")\n",
    "    plt.show()"
   ],
   "id": "57da0a9f347747fb"
  },
  {
   "metadata": {},
   "cell_type": "code",
   "outputs": [],
   "execution_count": null,
   "source": [
    "# Ensure plots are rendered inline\n",
    "%matplotlib inline"
   ],
   "id": "48660bd719b0715c"
  },
  {
   "metadata": {},
   "cell_type": "code",
   "outputs": [],
   "execution_count": null,
   "source": [
    "# Histogram of row counts\n",
    "plt.figure(figsize=(10, 6))\n",
    "sns.histplot(df_report['row_count'], bins=5, kde=True)\n",
    "plt.title(\"Distribution of Row Counts\")\n",
    "plt.xlabel(\"Row Count\")\n",
    "plt.ylabel(\"Frequency\")\n",
    "\n",
    "plt.figure(figsize=(10, 6))\n",
    "sns.histplot(df_report['col_count'], bins=2, kde=True)\n",
    "plt.title(\"Distribution of Column Counts\")\n",
    "plt.xlabel(\"Column Count\")\n",
    "plt.ylabel(\"Frequency\")\n",
    "\n",
    "plt.show()"
   ],
   "id": "f9811996246ff229"
  },
  {
   "metadata": {},
   "cell_type": "code",
   "outputs": [],
   "execution_count": null,
   "source": [
    "# %%\n",
    "if df_report is not None and not df_report.empty and \"pollutant\" in df_report.columns:\n",
    "    plt.figure(figsize=(8, 5))\n",
    "    sns.countplot(data=df_report, x=\"pollutant\", hue=\"test_pass\")\n",
    "    plt.title(\"Files by Pollutant (Test Pass or Fail)\")\n",
    "    plt.xlabel(\"Pollutant\")\n",
    "    plt.ylabel(\"Number of Files\")\n",
    "    plt.show()\n",
    "else:\n",
    "    print(\"No 'pollutant' column or empty df_report to analyze pollutant distribution.\")"
   ],
   "id": "30beec34850bb7d"
  },
  {
   "metadata": {},
   "cell_type": "code",
   "outputs": [],
   "execution_count": null,
   "source": [
    "# %% [markdown]\n",
    "# ### 6.2 Quick Check Eksik Kolon Analizi\n",
    "#\n",
    "# Bazı projelerde `quick_check_limit` gibi bir değişken ile ilk birkaç dosyada ekstra log alınır.\n",
    "# Eğer `notes` sütununda “Missing columns: […]” mesajı varsa, bunu regex ile yakalayarak eksik kolonların hangileri olduğunu tespit edebiliriz."
   ],
   "id": "d01dc690bd54fb9e"
  },
  {
   "metadata": {},
   "cell_type": "code",
   "outputs": [],
   "execution_count": null,
   "source": [
    "# %%\n",
    "if df_report is not None and not df_report.empty and \"notes\" in df_report.columns:\n",
    "    # quick_check_limit\n",
    "    quick_n = config.get(\"data_check\", {}).get(\"quick_check_limit\", 5)\n",
    "    quick_check_df = df_report.head(quick_n).copy()\n",
    "\n",
    "    # 'notes' sütununu string'e çevirip NaN / None durumlarını temizleyelim\n",
    "    quick_check_df['notes'] = quick_check_df['notes'].astype(str).fillna('')\n",
    "\n",
    "    # Eksik kolonları yakalama (regex)\n",
    "    missing_values = quick_check_df['notes'].apply(\n",
    "        lambda x: re.findall(r\"Missing columns: \\[(.*?)\\]\", x)\n",
    "    ).explode().dropna()\n",
    "\n",
    "    # Her kayıtta birden çok kolon varsa, split edip patlatalım\n",
    "    missing_values = missing_values.apply(lambda x: [col.strip() for col in x.split(',')])\n",
    "    missing_columns_series = missing_values.explode().value_counts()\n",
    "\n",
    "    if not missing_columns_series.empty:\n",
    "        plt.figure(figsize=(10, 6))\n",
    "        sns.barplot(x=missing_columns_series.values, y=missing_columns_series.index)\n",
    "        plt.title(\"Missing Columns Frequency (Quick Check)\")\n",
    "        plt.xlabel(\"Count\")\n",
    "        plt.ylabel(\"Column Names\")\n",
    "        plt.show()\n",
    "    else:\n",
    "        print(\"No missing columns found in quick check files.\")\n",
    "else:\n",
    "    print(\"No 'notes' column or empty df_report. Skipping quick check analysis.\")\n",
    "\n"
   ],
   "id": "d72e8be0a53e5fba"
  },
  {
   "metadata": {},
   "cell_type": "code",
   "outputs": [],
   "execution_count": null,
   "source": [
    "\n",
    "# %%\n",
    "if df_report is not None and not df_report.empty:\n",
    "    if \"test_pass\" in df_report.columns:\n",
    "        pivot_df = df_report.copy()\n",
    "        pivot_df['test_pass_numeric'] = pivot_df['test_pass'].apply(lambda x: 1 if x else 0)\n",
    "\n",
    "        pivot_table = pivot_df.pivot_table(\n",
    "            index='file_path',\n",
    "            values=['row_count', 'col_count', 'test_pass_numeric'],\n",
    "            aggfunc='mean'\n",
    "        )\n",
    "\n",
    "        plt.figure(figsize=(8, 6))\n",
    "        sns.heatmap(pivot_table, annot=True, cmap=\"YlGnBu\")\n",
    "        plt.title(\"Heatmap of Row/Col Counts & Test Pass Status by File\")\n",
    "        plt.show()\n",
    "    else:\n",
    "        print(\"'test_pass' column not found in df_report.\")\n",
    "else:\n",
    "    print(\"No data in df_report to create a heatmap.\")"
   ],
   "id": "8ed313560fd6bf99"
  },
  {
   "metadata": {},
   "cell_type": "code",
   "outputs": [],
   "execution_count": null,
   "source": [
    "# %%\n",
    "log_file_path = os.path.join(LOG_DIR, \"data_check_notebook.log\")\n",
    "if os.path.exists(log_file_path):\n",
    "    with open(log_file_path, \"r\", encoding=\"utf-8\") as f:\n",
    "        logs = f.readlines()\n",
    "    print(f\"Log file contains {len(logs)} lines.\")\n",
    "else:\n",
    "    print(\"No log file found to analyze.\")"
   ],
   "id": "9aa0cb39119ca184"
  }
 ],
 "metadata": {
  "kernelspec": {
   "display_name": "geoenv",
   "language": "python",
   "name": "geoenv"
  },
  "language_info": {
   "codemirror_mode": {
    "name": "ipython",
    "version": 3
   },
   "file_extension": ".py",
   "mimetype": "text/x-python",
   "name": "python",
   "nbconvert_exporter": "python",
   "pygments_lexer": "ipython3",
   "version": "3.12.8"
  }
 },
 "nbformat": 4,
 "nbformat_minor": 5
}
