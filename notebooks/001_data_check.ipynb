{
 "cells": [
  {
   "cell_type": "code",
   "execution_count": 1,
   "id": "95409295-a96c-4bfc-b3b8-fb87010ed4af",
   "metadata": {},
   "outputs": [],
   "source": [
    "import logging\n",
    "import os\n",
    "import sys\n",
    "\n",
    "# Define ANSI escape codes for green color\n",
    "GREEN = \"\\033[92m\"\n",
    "RESET = \"\\033[0m\"\n",
    "\n",
    "\n",
    "# Custom logging formatter to include green color\n",
    "class CustomFormatter(logging.Formatter):\n",
    "    def format(self, record):\n",
    "        log_msg = super().format(record)\n",
    "        return f\"{GREEN}{log_msg}{RESET}\"\n",
    "\n",
    "\n",
    "# Configure logging with the custom formatter\n",
    "handler = logging.StreamHandler()\n",
    "handler.setFormatter(CustomFormatter(\"%(asctime)s [%(levelname)s] %(message)s\"))\n",
    "logging.basicConfig(level=logging.INFO, handlers=[handler])"
   ]
  },
  {
   "cell_type": "code",
   "execution_count": null,
   "id": "d9f77691-825a-476e-89b5-0bc0122e029a",
   "metadata": {},
   "outputs": [],
   "source": []
  }
 ],
 "metadata": {
  "kernelspec": {
   "display_name": "geoenv",
   "language": "python",
   "name": "geoenv"
  },
  "language_info": {
   "codemirror_mode": {
    "name": "ipython",
    "version": 3
   },
   "file_extension": ".py",
   "mimetype": "text/x-python",
   "name": "python",
   "nbconvert_exporter": "python",
   "pygments_lexer": "ipython3",
   "version": "3.12.8"
  }
 },
 "nbformat": 4,
 "nbformat_minor": 5
}
