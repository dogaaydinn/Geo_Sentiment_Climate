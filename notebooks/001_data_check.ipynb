{
 "cells": [
  {
   "metadata": {
    "ExecuteTime": {
     "end_time": "2025-01-10T15:30:53.076384Z",
     "start_time": "2025-01-10T15:30:53.073616Z"
    }
   },
   "cell_type": "code",
   "source": [
    "# %% [markdown]\n",
    "# # Data Check Analysis\n",
    "#\n",
    "# Bu notebook, `data_check` modülünü kullanarak ham veri setlerinin kalitesini kontrol eder ve raporlar."
   ],
   "id": "1e0e8c2be6889fc4",
   "outputs": [],
   "execution_count": 43
  },
  {
   "metadata": {
    "ExecuteTime": {
     "end_time": "2025-01-10T15:30:54.213172Z",
     "start_time": "2025-01-10T15:30:54.210960Z"
    }
   },
   "cell_type": "code",
   "source": [
    "# %%\n",
    "import logging\n",
    "import os\n",
    "import sys\n",
    "import pandas as pd\n",
    "import glob\n",
    "import re"
   ],
   "id": "9d89e01beb9b0ad4",
   "outputs": [],
   "execution_count": 44
  },
  {
   "metadata": {
    "ExecuteTime": {
     "end_time": "2025-01-10T15:30:54.869812Z",
     "start_time": "2025-01-10T15:30:54.867678Z"
    }
   },
   "cell_type": "code",
   "source": [
    "# %%\n",
    "# Projeye özel local script import:\n",
    "sys.path.append(os.path.abspath(\"../source\"))"
   ],
   "id": "3d3aba07c71f2e19",
   "outputs": [],
   "execution_count": 45
  },
  {
   "metadata": {
    "ExecuteTime": {
     "end_time": "2025-01-10T15:30:56.356856Z",
     "start_time": "2025-01-10T15:30:56.354570Z"
    }
   },
   "cell_type": "code",
   "source": [
    "# %%\n",
    "from source.data_check import check_raw_data\n",
    "from source.utils.config_loader import load_config\n",
    "from source.utils.logger import setup_logger"
   ],
   "id": "3b12a0917ee7e17",
   "outputs": [],
   "execution_count": 46
  },
  {
   "metadata": {
    "ExecuteTime": {
     "end_time": "2025-01-10T15:30:57.058191Z",
     "start_time": "2025-01-10T15:30:57.056224Z"
    }
   },
   "cell_type": "code",
   "source": [
    "# %%\n",
    "# %% [markdown]\n",
    "# ## Load Configuration"
   ],
   "id": "2e641670f47dc26e",
   "outputs": [],
   "execution_count": 47
  },
  {
   "metadata": {
    "ExecuteTime": {
     "end_time": "2025-01-10T15:30:58.454922Z",
     "start_time": "2025-01-10T15:30:58.448447Z"
    }
   },
   "cell_type": "code",
   "source": [
    "# %%\n",
    "config_path = os.path.join(os.path.abspath(\"../config\"), \"settings.yml\")\n",
    "config = load_config(config_path)\n",
    "\n",
    "if config is None:\n",
    "    logging.error(\"Failed to load configuration. Terminating notebook.\")\n",
    "    sys.exit(1)\n",
    "\n",
    "RAW_DIR = os.path.abspath(config[\"paths\"][\"raw_dir\"])\n",
    "LOG_DIR = config[\"paths\"].get(\"logs_dir\", \"../logs\")\n",
    "\n",
    "os.makedirs(LOG_DIR, exist_ok=True)\n",
    "\n",
    "logger = setup_logger(\n",
    "    name=\"data_check_notebook\",\n",
    "    log_file=os.path.join(LOG_DIR, \"data_check_notebook.log\"),\n",
    "    log_level=config.get(\"logging\", {}).get(\"level\", \"INFO\").upper()\n",
    ")\n",
    "\n",
    "logger.info(\"=== Data Check Notebook Initialized ===\")"
   ],
   "id": "4242deddad71e187",
   "outputs": [
    {
     "name": "stderr",
     "output_type": "stream",
     "text": [
      "\u001B[32m2025-01-10 18:30:58,453 - data_check_notebook - INFO - === Data Check Notebook Initialized ===\u001B[0m\n"
     ]
    }
   ],
   "execution_count": 48
  },
  {
   "metadata": {
    "ExecuteTime": {
     "end_time": "2025-01-10T15:30:59.748468Z",
     "start_time": "2025-01-10T15:30:59.746554Z"
    }
   },
   "cell_type": "code",
   "source": [
    "# %%\n",
    "# %% [markdown]\n",
    "# ## Perform Data Check"
   ],
   "id": "3cf4e91eedad2ba7",
   "outputs": [],
   "execution_count": 49
  },
  {
   "metadata": {
    "ExecuteTime": {
     "end_time": "2025-01-10T15:31:02.723019Z",
     "start_time": "2025-01-10T15:31:00.708770Z"
    }
   },
   "cell_type": "code",
   "source": [
    "# %%\n",
    "check_raw_data(raw_dir=RAW_DIR)"
   ],
   "id": "c305a24233db8398",
   "outputs": [
    {
     "name": "stderr",
     "output_type": "stream",
     "text": [
      "\u001B[32m2025-01-10 18:31:00,709 - data_check - INFO - === Starting data check ===\u001B[0m\n",
      "\u001B[32m2025-01-10 18:31:00,719 - data_check - INFO - [QuickCheck] File=/Users/dogaaydin/PycharmProjects/Geo_Sentiment_Climate/data/raw/epa-so2-2023/epa_so2_virginia_2023.csv, Shape=(2877, 21), Missing={'Date': 0, 'Source': 0, 'Site ID': 0, 'POC': 0, 'Daily Max 1-hour SO2 Concentration': 0, 'Units': 0, 'Daily AQI Value': 0, 'Local Site Name': 352, 'Daily Obs Count': 0, 'Percent Complete': 0, 'AQS Parameter Code': 0, 'AQS Parameter Description': 0, 'Method Code': 0, 'CBSA Code': 0, 'CBSA Name': 0, 'State FIPS Code': 0, 'State': 0, 'County FIPS Code': 0, 'County': 0, 'Site Latitude': 0, 'Site Longitude': 0}\u001B[0m\n",
      "\u001B[32m2025-01-10 18:31:00,723 - data_check - INFO - [QuickCheck] File=/Users/dogaaydin/PycharmProjects/Geo_Sentiment_Climate/data/raw/epa-so2-2023/epa_so2_kansas_2023.csv, Shape=(1350, 21), Missing={'Date': 0, 'Source': 0, 'Site ID': 0, 'POC': 0, 'Daily Max 1-hour SO2 Concentration': 0, 'Units': 0, 'Daily AQI Value': 0, 'Local Site Name': 0, 'Daily Obs Count': 0, 'Percent Complete': 0, 'AQS Parameter Code': 0, 'AQS Parameter Description': 0, 'Method Code': 0, 'CBSA Code': 654, 'CBSA Name': 654, 'State FIPS Code': 0, 'State': 0, 'County FIPS Code': 0, 'County': 0, 'Site Latitude': 0, 'Site Longitude': 0}\u001B[0m\n",
      "\u001B[32m2025-01-10 18:31:00,728 - data_check - INFO - [QuickCheck] File=/Users/dogaaydin/PycharmProjects/Geo_Sentiment_Climate/data/raw/epa-so2-2023/epa_so2_iowa_2023.csv, Shape=(2327, 21), Missing={'Date': 0, 'Source': 0, 'Site ID': 0, 'POC': 0, 'Daily Max 1-hour SO2 Concentration': 0, 'Units': 0, 'Daily AQI Value': 0, 'Local Site Name': 0, 'Daily Obs Count': 0, 'Percent Complete': 0, 'AQS Parameter Code': 0, 'AQS Parameter Description': 0, 'Method Code': 0, 'CBSA Code': 347, 'CBSA Name': 347, 'State FIPS Code': 0, 'State': 0, 'County FIPS Code': 0, 'County': 0, 'Site Latitude': 0, 'Site Longitude': 0}\u001B[0m\n",
      "\u001B[32m2025-01-10 18:31:00,731 - data_check - INFO - [QuickCheck] File=/Users/dogaaydin/PycharmProjects/Geo_Sentiment_Climate/data/raw/epa-so2-2023/epa_so2_arkansas_2023.csv, Shape=(360, 21), Missing={'Date': 0, 'Source': 0, 'Site ID': 0, 'POC': 0, 'Daily Max 1-hour SO2 Concentration': 0, 'Units': 0, 'Daily AQI Value': 0, 'Local Site Name': 0, 'Daily Obs Count': 0, 'Percent Complete': 0, 'AQS Parameter Code': 0, 'AQS Parameter Description': 0, 'Method Code': 0, 'CBSA Code': 0, 'CBSA Name': 0, 'State FIPS Code': 0, 'State': 0, 'County FIPS Code': 0, 'County': 0, 'Site Latitude': 0, 'Site Longitude': 0}\u001B[0m\n",
      "\u001B[32m2025-01-10 18:31:00,736 - data_check - INFO - [QuickCheck] File=/Users/dogaaydin/PycharmProjects/Geo_Sentiment_Climate/data/raw/epa-so2-2023/epa_so2_new_hampshire_2023.csv, Shape=(1398, 21), Missing={'Date': 0, 'Source': 0, 'Site ID': 0, 'POC': 0, 'Daily Max 1-hour SO2 Concentration': 0, 'Units': 0, 'Daily AQI Value': 0, 'Local Site Name': 0, 'Daily Obs Count': 0, 'Percent Complete': 0, 'AQS Parameter Code': 0, 'AQS Parameter Description': 0, 'Method Code': 0, 'CBSA Code': 0, 'CBSA Name': 0, 'State FIPS Code': 0, 'State': 0, 'County FIPS Code': 0, 'County': 0, 'Site Latitude': 0, 'Site Longitude': 0}\u001B[0m\n",
      "\u001B[32m2025-01-10 18:31:02,721 - data_check - INFO - Data check report created at ../data/processed/data_check_report_20250110_183102.csv\u001B[0m\n",
      "\u001B[32m2025-01-10 18:31:02,721 - data_check - INFO - === Data check completed ===\u001B[0m\n"
     ]
    }
   ],
   "execution_count": 50
  },
  {
   "metadata": {
    "ExecuteTime": {
     "end_time": "2025-01-10T15:31:05.037060Z",
     "start_time": "2025-01-10T15:31:05.035164Z"
    }
   },
   "cell_type": "code",
   "source": [
    "# %%\n",
    "# %% [markdown]\n",
    "# ## Load and Display Report"
   ],
   "id": "a11c5ec4728561d2",
   "outputs": [],
   "execution_count": 51
  },
  {
   "metadata": {
    "ExecuteTime": {
     "end_time": "2025-01-10T15:31:06.395311Z",
     "start_time": "2025-01-10T15:31:06.385565Z"
    }
   },
   "cell_type": "code",
   "source": [
    "# %%\n",
    "# Find the latest report in the processed directory\n",
    "processed_dir = os.path.abspath(config[\"paths\"][\"processed_dir\"])\n",
    "report_files = glob.glob(os.path.join(processed_dir, \"data_check_report_*.csv\"))\n",
    "\n",
    "if not report_files:\n",
    "    logger.warning(\"No report files found in the processed directory.\")\n",
    "else:\n",
    "    latest_report = max(report_files, key=os.path.getctime)\n",
    "    logger.info(f\"Loading the latest report: {latest_report}\")\n",
    "    df_report = pd.read_csv(latest_report)\n",
    "    display(df_report)"
   ],
   "id": "20e01616d7758328",
   "outputs": [
    {
     "name": "stderr",
     "output_type": "stream",
     "text": [
      "\u001B[32m2025-01-10 18:31:06,387 - data_check_notebook - INFO - Loading the latest report: /Users/dogaaydin/PycharmProjects/Geo_Sentiment_Climate/data/processed/data_check_report_20250110_183102.csv\u001B[0m\n"
     ]
    },
    {
     "data": {
      "text/plain": [
       "                                             file_path  row_count  col_count  \\\n",
       "0    /Users/dogaaydin/PycharmProjects/Geo_Sentiment...       2877         21   \n",
       "1    /Users/dogaaydin/PycharmProjects/Geo_Sentiment...       1350         21   \n",
       "2    /Users/dogaaydin/PycharmProjects/Geo_Sentiment...       2327         21   \n",
       "3    /Users/dogaaydin/PycharmProjects/Geo_Sentiment...        360         21   \n",
       "4    /Users/dogaaydin/PycharmProjects/Geo_Sentiment...       1398         21   \n",
       "..                                                 ...        ...        ...   \n",
       "510  /Users/dogaaydin/PycharmProjects/Geo_Sentiment...       1019         21   \n",
       "511  /Users/dogaaydin/PycharmProjects/Geo_Sentiment...       5000         21   \n",
       "512  /Users/dogaaydin/PycharmProjects/Geo_Sentiment...       1065         21   \n",
       "513  /Users/dogaaydin/PycharmProjects/Geo_Sentiment...       2381         21   \n",
       "514  /Users/dogaaydin/PycharmProjects/Geo_Sentiment...        351         21   \n",
       "\n",
       "                                               columns  empty_file  test_pass  \\\n",
       "0    Date, Source, Site ID, POC, Daily Max 1-hour S...       False       True   \n",
       "1    Date, Source, Site ID, POC, Daily Max 1-hour S...       False       True   \n",
       "2    Date, Source, Site ID, POC, Daily Max 1-hour S...       False       True   \n",
       "3    Date, Source, Site ID, POC, Daily Max 1-hour S...       False       True   \n",
       "4    Date, Source, Site ID, POC, Daily Max 1-hour S...       False       True   \n",
       "..                                                 ...         ...        ...   \n",
       "510  Date, Source, Site ID, POC, Daily Max 1-hour N...       False      False   \n",
       "511  Date, Source, Site ID, POC, Daily Max 1-hour N...       False      False   \n",
       "512  Date, Source, Site ID, POC, Daily Max 1-hour N...       False      False   \n",
       "513  Date, Source, Site ID, POC, Daily Max 1-hour N...       False      False   \n",
       "514  Date, Source, Site ID, POC, Daily Max 1-hour N...       False      False   \n",
       "\n",
       "                                                 notes  \n",
       "0                                                  NaN  \n",
       "1                                                  NaN  \n",
       "2                                                  NaN  \n",
       "3                                                  NaN  \n",
       "4                                                  NaN  \n",
       "..                                                 ...  \n",
       "510   Missing columns: ['Daily Max 1-hour SO2 Conce...  \n",
       "511   Missing columns: ['Daily Max 1-hour SO2 Conce...  \n",
       "512   Missing columns: ['Daily Max 1-hour SO2 Conce...  \n",
       "513   Missing columns: ['Daily Max 1-hour SO2 Conce...  \n",
       "514   Missing columns: ['Daily Max 1-hour SO2 Conce...  \n",
       "\n",
       "[515 rows x 7 columns]"
      ],
      "text/html": [
       "<div>\n",
       "<style scoped>\n",
       "    .dataframe tbody tr th:only-of-type {\n",
       "        vertical-align: middle;\n",
       "    }\n",
       "\n",
       "    .dataframe tbody tr th {\n",
       "        vertical-align: top;\n",
       "    }\n",
       "\n",
       "    .dataframe thead th {\n",
       "        text-align: right;\n",
       "    }\n",
       "</style>\n",
       "<table border=\"1\" class=\"dataframe\">\n",
       "  <thead>\n",
       "    <tr style=\"text-align: right;\">\n",
       "      <th></th>\n",
       "      <th>file_path</th>\n",
       "      <th>row_count</th>\n",
       "      <th>col_count</th>\n",
       "      <th>columns</th>\n",
       "      <th>empty_file</th>\n",
       "      <th>test_pass</th>\n",
       "      <th>notes</th>\n",
       "    </tr>\n",
       "  </thead>\n",
       "  <tbody>\n",
       "    <tr>\n",
       "      <th>0</th>\n",
       "      <td>/Users/dogaaydin/PycharmProjects/Geo_Sentiment...</td>\n",
       "      <td>2877</td>\n",
       "      <td>21</td>\n",
       "      <td>Date, Source, Site ID, POC, Daily Max 1-hour S...</td>\n",
       "      <td>False</td>\n",
       "      <td>True</td>\n",
       "      <td>NaN</td>\n",
       "    </tr>\n",
       "    <tr>\n",
       "      <th>1</th>\n",
       "      <td>/Users/dogaaydin/PycharmProjects/Geo_Sentiment...</td>\n",
       "      <td>1350</td>\n",
       "      <td>21</td>\n",
       "      <td>Date, Source, Site ID, POC, Daily Max 1-hour S...</td>\n",
       "      <td>False</td>\n",
       "      <td>True</td>\n",
       "      <td>NaN</td>\n",
       "    </tr>\n",
       "    <tr>\n",
       "      <th>2</th>\n",
       "      <td>/Users/dogaaydin/PycharmProjects/Geo_Sentiment...</td>\n",
       "      <td>2327</td>\n",
       "      <td>21</td>\n",
       "      <td>Date, Source, Site ID, POC, Daily Max 1-hour S...</td>\n",
       "      <td>False</td>\n",
       "      <td>True</td>\n",
       "      <td>NaN</td>\n",
       "    </tr>\n",
       "    <tr>\n",
       "      <th>3</th>\n",
       "      <td>/Users/dogaaydin/PycharmProjects/Geo_Sentiment...</td>\n",
       "      <td>360</td>\n",
       "      <td>21</td>\n",
       "      <td>Date, Source, Site ID, POC, Daily Max 1-hour S...</td>\n",
       "      <td>False</td>\n",
       "      <td>True</td>\n",
       "      <td>NaN</td>\n",
       "    </tr>\n",
       "    <tr>\n",
       "      <th>4</th>\n",
       "      <td>/Users/dogaaydin/PycharmProjects/Geo_Sentiment...</td>\n",
       "      <td>1398</td>\n",
       "      <td>21</td>\n",
       "      <td>Date, Source, Site ID, POC, Daily Max 1-hour S...</td>\n",
       "      <td>False</td>\n",
       "      <td>True</td>\n",
       "      <td>NaN</td>\n",
       "    </tr>\n",
       "    <tr>\n",
       "      <th>...</th>\n",
       "      <td>...</td>\n",
       "      <td>...</td>\n",
       "      <td>...</td>\n",
       "      <td>...</td>\n",
       "      <td>...</td>\n",
       "      <td>...</td>\n",
       "      <td>...</td>\n",
       "    </tr>\n",
       "    <tr>\n",
       "      <th>510</th>\n",
       "      <td>/Users/dogaaydin/PycharmProjects/Geo_Sentiment...</td>\n",
       "      <td>1019</td>\n",
       "      <td>21</td>\n",
       "      <td>Date, Source, Site ID, POC, Daily Max 1-hour N...</td>\n",
       "      <td>False</td>\n",
       "      <td>False</td>\n",
       "      <td>Missing columns: ['Daily Max 1-hour SO2 Conce...</td>\n",
       "    </tr>\n",
       "    <tr>\n",
       "      <th>511</th>\n",
       "      <td>/Users/dogaaydin/PycharmProjects/Geo_Sentiment...</td>\n",
       "      <td>5000</td>\n",
       "      <td>21</td>\n",
       "      <td>Date, Source, Site ID, POC, Daily Max 1-hour N...</td>\n",
       "      <td>False</td>\n",
       "      <td>False</td>\n",
       "      <td>Missing columns: ['Daily Max 1-hour SO2 Conce...</td>\n",
       "    </tr>\n",
       "    <tr>\n",
       "      <th>512</th>\n",
       "      <td>/Users/dogaaydin/PycharmProjects/Geo_Sentiment...</td>\n",
       "      <td>1065</td>\n",
       "      <td>21</td>\n",
       "      <td>Date, Source, Site ID, POC, Daily Max 1-hour N...</td>\n",
       "      <td>False</td>\n",
       "      <td>False</td>\n",
       "      <td>Missing columns: ['Daily Max 1-hour SO2 Conce...</td>\n",
       "    </tr>\n",
       "    <tr>\n",
       "      <th>513</th>\n",
       "      <td>/Users/dogaaydin/PycharmProjects/Geo_Sentiment...</td>\n",
       "      <td>2381</td>\n",
       "      <td>21</td>\n",
       "      <td>Date, Source, Site ID, POC, Daily Max 1-hour N...</td>\n",
       "      <td>False</td>\n",
       "      <td>False</td>\n",
       "      <td>Missing columns: ['Daily Max 1-hour SO2 Conce...</td>\n",
       "    </tr>\n",
       "    <tr>\n",
       "      <th>514</th>\n",
       "      <td>/Users/dogaaydin/PycharmProjects/Geo_Sentiment...</td>\n",
       "      <td>351</td>\n",
       "      <td>21</td>\n",
       "      <td>Date, Source, Site ID, POC, Daily Max 1-hour N...</td>\n",
       "      <td>False</td>\n",
       "      <td>False</td>\n",
       "      <td>Missing columns: ['Daily Max 1-hour SO2 Conce...</td>\n",
       "    </tr>\n",
       "  </tbody>\n",
       "</table>\n",
       "<p>515 rows × 7 columns</p>\n",
       "</div>"
      ]
     },
     "metadata": {},
     "output_type": "display_data"
    }
   ],
   "execution_count": 52
  },
  {
   "metadata": {
    "ExecuteTime": {
     "end_time": "2025-01-10T15:31:09.258752Z",
     "start_time": "2025-01-10T15:31:09.256821Z"
    }
   },
   "cell_type": "code",
   "source": [
    "# %%\n",
    "# %% [markdown]\n",
    "# ## Summary Statistics"
   ],
   "id": "891ea7056d0d6634",
   "outputs": [],
   "execution_count": 53
  },
  {
   "metadata": {
    "ExecuteTime": {
     "end_time": "2025-01-10T15:31:10.968567Z",
     "start_time": "2025-01-10T15:31:10.958593Z"
    }
   },
   "cell_type": "code",
   "source": [
    "# %%\n",
    "if not df_report.empty:\n",
    "    summary = df_report.describe(include='all').transpose()\n",
    "    display(summary)\n"
   ],
   "id": "3b3f275bd1529788",
   "outputs": [
    {
     "data": {
      "text/plain": [
       "            count unique                                                top  \\\n",
       "file_path     515    515  /Users/dogaaydin/PycharmProjects/Geo_Sentiment...   \n",
       "row_count   515.0    NaN                                                NaN   \n",
       "col_count   515.0    NaN                                                NaN   \n",
       "columns       515      5  Date, Source, Site ID, POC, Daily Mean PM2.5 C...   \n",
       "empty_file    515      1                                              False   \n",
       "test_pass     515      2                                              False   \n",
       "notes         411      1   Missing columns: ['Daily Max 1-hour SO2 Conce...   \n",
       "\n",
       "           freq         mean          std   min     25%     50%     75%  \\\n",
       "file_path     1          NaN          NaN   NaN     NaN     NaN     NaN   \n",
       "row_count   NaN  2841.196117  1797.826766  46.0  1023.0  2617.0  5000.0   \n",
       "col_count   NaN    21.205825     0.404696  21.0    21.0    21.0    21.0   \n",
       "columns     106          NaN          NaN   NaN     NaN     NaN     NaN   \n",
       "empty_file  515          NaN          NaN   NaN     NaN     NaN     NaN   \n",
       "test_pass   411          NaN          NaN   NaN     NaN     NaN     NaN   \n",
       "notes       411          NaN          NaN   NaN     NaN     NaN     NaN   \n",
       "\n",
       "               max  \n",
       "file_path      NaN  \n",
       "row_count   5000.0  \n",
       "col_count     22.0  \n",
       "columns        NaN  \n",
       "empty_file     NaN  \n",
       "test_pass      NaN  \n",
       "notes          NaN  "
      ],
      "text/html": [
       "<div>\n",
       "<style scoped>\n",
       "    .dataframe tbody tr th:only-of-type {\n",
       "        vertical-align: middle;\n",
       "    }\n",
       "\n",
       "    .dataframe tbody tr th {\n",
       "        vertical-align: top;\n",
       "    }\n",
       "\n",
       "    .dataframe thead th {\n",
       "        text-align: right;\n",
       "    }\n",
       "</style>\n",
       "<table border=\"1\" class=\"dataframe\">\n",
       "  <thead>\n",
       "    <tr style=\"text-align: right;\">\n",
       "      <th></th>\n",
       "      <th>count</th>\n",
       "      <th>unique</th>\n",
       "      <th>top</th>\n",
       "      <th>freq</th>\n",
       "      <th>mean</th>\n",
       "      <th>std</th>\n",
       "      <th>min</th>\n",
       "      <th>25%</th>\n",
       "      <th>50%</th>\n",
       "      <th>75%</th>\n",
       "      <th>max</th>\n",
       "    </tr>\n",
       "  </thead>\n",
       "  <tbody>\n",
       "    <tr>\n",
       "      <th>file_path</th>\n",
       "      <td>515</td>\n",
       "      <td>515</td>\n",
       "      <td>/Users/dogaaydin/PycharmProjects/Geo_Sentiment...</td>\n",
       "      <td>1</td>\n",
       "      <td>NaN</td>\n",
       "      <td>NaN</td>\n",
       "      <td>NaN</td>\n",
       "      <td>NaN</td>\n",
       "      <td>NaN</td>\n",
       "      <td>NaN</td>\n",
       "      <td>NaN</td>\n",
       "    </tr>\n",
       "    <tr>\n",
       "      <th>row_count</th>\n",
       "      <td>515.0</td>\n",
       "      <td>NaN</td>\n",
       "      <td>NaN</td>\n",
       "      <td>NaN</td>\n",
       "      <td>2841.196117</td>\n",
       "      <td>1797.826766</td>\n",
       "      <td>46.0</td>\n",
       "      <td>1023.0</td>\n",
       "      <td>2617.0</td>\n",
       "      <td>5000.0</td>\n",
       "      <td>5000.0</td>\n",
       "    </tr>\n",
       "    <tr>\n",
       "      <th>col_count</th>\n",
       "      <td>515.0</td>\n",
       "      <td>NaN</td>\n",
       "      <td>NaN</td>\n",
       "      <td>NaN</td>\n",
       "      <td>21.205825</td>\n",
       "      <td>0.404696</td>\n",
       "      <td>21.0</td>\n",
       "      <td>21.0</td>\n",
       "      <td>21.0</td>\n",
       "      <td>21.0</td>\n",
       "      <td>22.0</td>\n",
       "    </tr>\n",
       "    <tr>\n",
       "      <th>columns</th>\n",
       "      <td>515</td>\n",
       "      <td>5</td>\n",
       "      <td>Date, Source, Site ID, POC, Daily Mean PM2.5 C...</td>\n",
       "      <td>106</td>\n",
       "      <td>NaN</td>\n",
       "      <td>NaN</td>\n",
       "      <td>NaN</td>\n",
       "      <td>NaN</td>\n",
       "      <td>NaN</td>\n",
       "      <td>NaN</td>\n",
       "      <td>NaN</td>\n",
       "    </tr>\n",
       "    <tr>\n",
       "      <th>empty_file</th>\n",
       "      <td>515</td>\n",
       "      <td>1</td>\n",
       "      <td>False</td>\n",
       "      <td>515</td>\n",
       "      <td>NaN</td>\n",
       "      <td>NaN</td>\n",
       "      <td>NaN</td>\n",
       "      <td>NaN</td>\n",
       "      <td>NaN</td>\n",
       "      <td>NaN</td>\n",
       "      <td>NaN</td>\n",
       "    </tr>\n",
       "    <tr>\n",
       "      <th>test_pass</th>\n",
       "      <td>515</td>\n",
       "      <td>2</td>\n",
       "      <td>False</td>\n",
       "      <td>411</td>\n",
       "      <td>NaN</td>\n",
       "      <td>NaN</td>\n",
       "      <td>NaN</td>\n",
       "      <td>NaN</td>\n",
       "      <td>NaN</td>\n",
       "      <td>NaN</td>\n",
       "      <td>NaN</td>\n",
       "    </tr>\n",
       "    <tr>\n",
       "      <th>notes</th>\n",
       "      <td>411</td>\n",
       "      <td>1</td>\n",
       "      <td>Missing columns: ['Daily Max 1-hour SO2 Conce...</td>\n",
       "      <td>411</td>\n",
       "      <td>NaN</td>\n",
       "      <td>NaN</td>\n",
       "      <td>NaN</td>\n",
       "      <td>NaN</td>\n",
       "      <td>NaN</td>\n",
       "      <td>NaN</td>\n",
       "      <td>NaN</td>\n",
       "    </tr>\n",
       "  </tbody>\n",
       "</table>\n",
       "</div>"
      ]
     },
     "metadata": {},
     "output_type": "display_data"
    }
   ],
   "execution_count": 54
  },
  {
   "metadata": {
    "ExecuteTime": {
     "end_time": "2025-01-10T15:31:13.722310Z",
     "start_time": "2025-01-10T15:31:13.720297Z"
    }
   },
   "cell_type": "code",
   "source": [
    "# %%\n",
    "# %% [markdown]\n",
    "# ## Visualization"
   ],
   "id": "e50845e08f02f1a1",
   "outputs": [],
   "execution_count": 55
  },
  {
   "metadata": {
    "ExecuteTime": {
     "end_time": "2025-01-10T15:31:14.782431Z",
     "start_time": "2025-01-10T15:31:14.780038Z"
    }
   },
   "cell_type": "code",
   "source": [
    "# %%\n",
    "import matplotlib.pyplot as plt\n",
    "import seaborn as sns"
   ],
   "id": "b10587ba5faf449",
   "outputs": [],
   "execution_count": 56
  },
  {
   "metadata": {
    "ExecuteTime": {
     "end_time": "2025-01-10T15:31:16.099509Z",
     "start_time": "2025-01-10T15:31:16.097219Z"
    }
   },
   "cell_type": "code",
   "source": [
    "# Ensure plots are rendered inline\n",
    "%matplotlib inline"
   ],
   "id": "5c214a779a1d0b81",
   "outputs": [],
   "execution_count": 57
  },
  {
   "metadata": {
    "ExecuteTime": {
     "end_time": "2025-01-10T15:31:17.266242Z",
     "start_time": "2025-01-10T15:31:17.161998Z"
    }
   },
   "cell_type": "code",
   "source": [
    "# Histogram of row counts\n",
    "plt.figure(figsize=(10, 6))\n",
    "sns.histplot(df_report['row_count'].dropna(), bins=30, kde=True)\n",
    "plt.title(\"Distribution of Row Counts\")\n",
    "plt.xlabel(\"Row Count\")\n",
    "plt.ylabel(\"Frequency\")\n",
    "plt.show()"
   ],
   "id": "954cd0992a39716d",
   "outputs": [
    {
     "data": {
      "text/plain": [
       "<Figure size 1000x600 with 1 Axes>"
      ],
      "image/png": "[encoded data removed]"
     },
     "metadata": {},
     "output_type": "display_data"
    }
   ],
   "execution_count": 58
  },
  {
   "metadata": {
    "ExecuteTime": {
     "end_time": "2025-01-10T15:38:32.176533Z",
     "start_time": "2025-01-10T15:38:32.137482Z"
    }
   },
   "cell_type": "code",
   "source": [
    "# %%\n",
    "# Boxplot of missing values in the first few files\n",
    "quick_check = df_report[df_report.index < config[\"data_check\"].get(\"quick_check_limit\", 5)]\n",
    "missing_values = quick_check['notes'].str.extractall(r\"Missing columns: \\[(.*?)\\]\")\n",
    "missing_values.columns = ['missing_columns']\n",
    "missing_values = missing_values['missing_columns'].dropna().str.split(',', expand=True).stack().str.strip().value_counts()"
   ],
   "id": "3e2373e837d7687a",
   "outputs": [
    {
     "ename": "AttributeError",
     "evalue": "Can only use .str accessor with string values!",
     "output_type": "error",
     "traceback": [
      "\u001B[0;31m---------------------------------------------------------------------------\u001B[0m",
      "\u001B[0;31mAttributeError\u001B[0m                            Traceback (most recent call last)",
      "Cell \u001B[0;32mIn[61], line 6\u001B[0m\n\u001B[1;32m      4\u001B[0m missing_values \u001B[38;5;241m=\u001B[39m quick_check[\u001B[38;5;124m'\u001B[39m\u001B[38;5;124mnotes\u001B[39m\u001B[38;5;124m'\u001B[39m]\u001B[38;5;241m.\u001B[39mstr\u001B[38;5;241m.\u001B[39mextractall(\u001B[38;5;124mr\u001B[39m\u001B[38;5;124m\"\u001B[39m\u001B[38;5;124mMissing columns: \u001B[39m\u001B[38;5;124m\\\u001B[39m\u001B[38;5;124m[(.*?)\u001B[39m\u001B[38;5;124m\\\u001B[39m\u001B[38;5;124m]\u001B[39m\u001B[38;5;124m\"\u001B[39m)\n\u001B[1;32m      5\u001B[0m missing_values\u001B[38;5;241m.\u001B[39mcolumns \u001B[38;5;241m=\u001B[39m [\u001B[38;5;124m'\u001B[39m\u001B[38;5;124mmissing_columns\u001B[39m\u001B[38;5;124m'\u001B[39m]\n\u001B[0;32m----> 6\u001B[0m missing_values \u001B[38;5;241m=\u001B[39m missing_values[\u001B[38;5;124m'\u001B[39m\u001B[38;5;124mmissing_columns\u001B[39m\u001B[38;5;124m'\u001B[39m]\u001B[38;5;241m.\u001B[39mdropna()\u001B[38;5;241m.\u001B[39mstr\u001B[38;5;241m.\u001B[39msplit(\u001B[38;5;124m'\u001B[39m\u001B[38;5;124m,\u001B[39m\u001B[38;5;124m'\u001B[39m, expand\u001B[38;5;241m=\u001B[39m\u001B[38;5;28;01mTrue\u001B[39;00m)\u001B[38;5;241m.\u001B[39mstack()\u001B[38;5;241m.\u001B[39mstr\u001B[38;5;241m.\u001B[39mstrip()\u001B[38;5;241m.\u001B[39mvalue_counts()\n",
      "File \u001B[0;32m~/miniconda3/envs/geoenv/lib/python3.12/site-packages/pandas/core/generic.py:6299\u001B[0m, in \u001B[0;36mNDFrame.__getattr__\u001B[0;34m(self, name)\u001B[0m\n\u001B[1;32m   6292\u001B[0m \u001B[38;5;28;01mif\u001B[39;00m (\n\u001B[1;32m   6293\u001B[0m     name \u001B[38;5;129;01mnot\u001B[39;00m \u001B[38;5;129;01min\u001B[39;00m \u001B[38;5;28mself\u001B[39m\u001B[38;5;241m.\u001B[39m_internal_names_set\n\u001B[1;32m   6294\u001B[0m     \u001B[38;5;129;01mand\u001B[39;00m name \u001B[38;5;129;01mnot\u001B[39;00m \u001B[38;5;129;01min\u001B[39;00m \u001B[38;5;28mself\u001B[39m\u001B[38;5;241m.\u001B[39m_metadata\n\u001B[1;32m   6295\u001B[0m     \u001B[38;5;129;01mand\u001B[39;00m name \u001B[38;5;129;01mnot\u001B[39;00m \u001B[38;5;129;01min\u001B[39;00m \u001B[38;5;28mself\u001B[39m\u001B[38;5;241m.\u001B[39m_accessors\n\u001B[1;32m   6296\u001B[0m     \u001B[38;5;129;01mand\u001B[39;00m \u001B[38;5;28mself\u001B[39m\u001B[38;5;241m.\u001B[39m_info_axis\u001B[38;5;241m.\u001B[39m_can_hold_identifiers_and_holds_name(name)\n\u001B[1;32m   6297\u001B[0m ):\n\u001B[1;32m   6298\u001B[0m     \u001B[38;5;28;01mreturn\u001B[39;00m \u001B[38;5;28mself\u001B[39m[name]\n\u001B[0;32m-> 6299\u001B[0m \u001B[38;5;28;01mreturn\u001B[39;00m \u001B[38;5;28mobject\u001B[39m\u001B[38;5;241m.\u001B[39m\u001B[38;5;21m__getattribute__\u001B[39m(\u001B[38;5;28mself\u001B[39m, name)\n",
      "File \u001B[0;32m~/miniconda3/envs/geoenv/lib/python3.12/site-packages/pandas/core/accessor.py:224\u001B[0m, in \u001B[0;36mCachedAccessor.__get__\u001B[0;34m(self, obj, cls)\u001B[0m\n\u001B[1;32m    221\u001B[0m \u001B[38;5;28;01mif\u001B[39;00m obj \u001B[38;5;129;01mis\u001B[39;00m \u001B[38;5;28;01mNone\u001B[39;00m:\n\u001B[1;32m    222\u001B[0m     \u001B[38;5;66;03m# we're accessing the attribute of the class, i.e., Dataset.geo\u001B[39;00m\n\u001B[1;32m    223\u001B[0m     \u001B[38;5;28;01mreturn\u001B[39;00m \u001B[38;5;28mself\u001B[39m\u001B[38;5;241m.\u001B[39m_accessor\n\u001B[0;32m--> 224\u001B[0m accessor_obj \u001B[38;5;241m=\u001B[39m \u001B[38;5;28mself\u001B[39m\u001B[38;5;241m.\u001B[39m_accessor(obj)\n\u001B[1;32m    225\u001B[0m \u001B[38;5;66;03m# Replace the property with the accessor object. Inspired by:\u001B[39;00m\n\u001B[1;32m    226\u001B[0m \u001B[38;5;66;03m# https://www.pydanny.com/cached-property.html\u001B[39;00m\n\u001B[1;32m    227\u001B[0m \u001B[38;5;66;03m# We need to use object.__setattr__ because we overwrite __setattr__ on\u001B[39;00m\n\u001B[1;32m    228\u001B[0m \u001B[38;5;66;03m# NDFrame\u001B[39;00m\n\u001B[1;32m    229\u001B[0m \u001B[38;5;28mobject\u001B[39m\u001B[38;5;241m.\u001B[39m\u001B[38;5;21m__setattr__\u001B[39m(obj, \u001B[38;5;28mself\u001B[39m\u001B[38;5;241m.\u001B[39m_name, accessor_obj)\n",
      "File \u001B[0;32m~/miniconda3/envs/geoenv/lib/python3.12/site-packages/pandas/core/strings/accessor.py:191\u001B[0m, in \u001B[0;36mStringMethods.__init__\u001B[0;34m(self, data)\u001B[0m\n\u001B[1;32m    188\u001B[0m \u001B[38;5;28;01mdef\u001B[39;00m \u001B[38;5;21m__init__\u001B[39m(\u001B[38;5;28mself\u001B[39m, data) \u001B[38;5;241m-\u001B[39m\u001B[38;5;241m>\u001B[39m \u001B[38;5;28;01mNone\u001B[39;00m:\n\u001B[1;32m    189\u001B[0m     \u001B[38;5;28;01mfrom\u001B[39;00m \u001B[38;5;21;01mpandas\u001B[39;00m\u001B[38;5;21;01m.\u001B[39;00m\u001B[38;5;21;01mcore\u001B[39;00m\u001B[38;5;21;01m.\u001B[39;00m\u001B[38;5;21;01marrays\u001B[39;00m\u001B[38;5;21;01m.\u001B[39;00m\u001B[38;5;21;01mstring_\u001B[39;00m \u001B[38;5;28;01mimport\u001B[39;00m StringDtype\n\u001B[0;32m--> 191\u001B[0m     \u001B[38;5;28mself\u001B[39m\u001B[38;5;241m.\u001B[39m_inferred_dtype \u001B[38;5;241m=\u001B[39m \u001B[38;5;28mself\u001B[39m\u001B[38;5;241m.\u001B[39m_validate(data)\n\u001B[1;32m    192\u001B[0m     \u001B[38;5;28mself\u001B[39m\u001B[38;5;241m.\u001B[39m_is_categorical \u001B[38;5;241m=\u001B[39m \u001B[38;5;28misinstance\u001B[39m(data\u001B[38;5;241m.\u001B[39mdtype, CategoricalDtype)\n\u001B[1;32m    193\u001B[0m     \u001B[38;5;28mself\u001B[39m\u001B[38;5;241m.\u001B[39m_is_string \u001B[38;5;241m=\u001B[39m \u001B[38;5;28misinstance\u001B[39m(data\u001B[38;5;241m.\u001B[39mdtype, StringDtype)\n",
      "File \u001B[0;32m~/miniconda3/envs/geoenv/lib/python3.12/site-packages/pandas/core/strings/accessor.py:245\u001B[0m, in \u001B[0;36mStringMethods._validate\u001B[0;34m(data)\u001B[0m\n\u001B[1;32m    242\u001B[0m inferred_dtype \u001B[38;5;241m=\u001B[39m lib\u001B[38;5;241m.\u001B[39minfer_dtype(values, skipna\u001B[38;5;241m=\u001B[39m\u001B[38;5;28;01mTrue\u001B[39;00m)\n\u001B[1;32m    244\u001B[0m \u001B[38;5;28;01mif\u001B[39;00m inferred_dtype \u001B[38;5;129;01mnot\u001B[39;00m \u001B[38;5;129;01min\u001B[39;00m allowed_types:\n\u001B[0;32m--> 245\u001B[0m     \u001B[38;5;28;01mraise\u001B[39;00m \u001B[38;5;167;01mAttributeError\u001B[39;00m(\u001B[38;5;124m\"\u001B[39m\u001B[38;5;124mCan only use .str accessor with string values!\u001B[39m\u001B[38;5;124m\"\u001B[39m)\n\u001B[1;32m    246\u001B[0m \u001B[38;5;28;01mreturn\u001B[39;00m inferred_dtype\n",
      "\u001B[0;31mAttributeError\u001B[0m: Can only use .str accessor with string values!"
     ]
    }
   ],
   "execution_count": 61
  },
  {
   "metadata": {
    "ExecuteTime": {
     "end_time": "2025-01-10T15:40:28.035152Z",
     "start_time": "2025-01-10T15:40:28.032872Z"
    }
   },
   "cell_type": "code",
   "source": [
    "# astype(str) function before attempting to replace any values\n",
    "quick_check['notes'] = quick_check['notes'].astype(str).replace('nan', '').copy()\n"
   ],
   "id": "85bdca8c3890b3b9",
   "outputs": [
    {
     "name": "stderr",
     "output_type": "stream",
     "text": [
      "/var/folders/3d/pcm3nnt50014458st0w8xnyh0000gn/T/ipykernel_25197/4038470275.py:2: SettingWithCopyWarning: \n",
      "A value is trying to be set on a copy of a slice from a DataFrame.\n",
      "Try using .loc[row_indexer,col_indexer] = value instead\n",
      "\n",
      "See the caveats in the documentation: https://pandas.pydata.org/pandas-docs/stable/user_guide/indexing.html#returning-a-view-versus-a-copy\n",
      "  quick_check['notes'] = quick_check['notes'].astype(str).replace('nan', '').copy()\n"
     ]
    }
   ],
   "execution_count": 65
  },
  {
   "metadata": {
    "ExecuteTime": {
     "end_time": "2025-01-10T15:40:56.426863Z",
     "start_time": "2025-01-10T15:40:56.424074Z"
    }
   },
   "cell_type": "code",
   "source": "print(df_report['notes'].dtype)\n",
   "id": "58f513e299460e47",
   "outputs": [
    {
     "name": "stdout",
     "output_type": "stream",
     "text": [
      "object\n"
     ]
    }
   ],
   "execution_count": 66
  },
  {
   "metadata": {
    "ExecuteTime": {
     "end_time": "2025-01-10T15:40:57.902757Z",
     "start_time": "2025-01-10T15:40:57.899193Z"
    }
   },
   "cell_type": "code",
   "source": [
    "non_string_mask = ~df_report['notes'].apply(lambda x: isinstance(x, str))\n",
    "non_string_values = df_report.loc[non_string_mask, 'notes']\n",
    "print(non_string_values)\n"
   ],
   "id": "11e2e5583283d57d",
   "outputs": [
    {
     "name": "stdout",
     "output_type": "stream",
     "text": [
      "0      NaN\n",
      "1      NaN\n",
      "2      NaN\n",
      "3      NaN\n",
      "4      NaN\n",
      "      ... \n",
      "99     NaN\n",
      "100    NaN\n",
      "101    NaN\n",
      "102    NaN\n",
      "103    NaN\n",
      "Name: notes, Length: 104, dtype: object\n"
     ]
    }
   ],
   "execution_count": 67
  },
  {
   "metadata": {
    "ExecuteTime": {
     "end_time": "2025-01-10T15:41:00.538588Z",
     "start_time": "2025-01-10T15:41:00.535065Z"
    }
   },
   "cell_type": "code",
   "source": [
    "# %% [5] Boxplot of Missing Values in the First Few Files\n",
    "\n",
    "# DataFrame dilimini kopyalayarak bağımsız bir kopya oluşturun\n",
    "quick_check = df_report[df_report.index < config[\"data_check\"].get(\"quick_check_limit\", 5)].copy()\n",
    "\n",
    "# 'notes' sütununu string'e dönüştürün ve NaN değerlerini boş string ile değiştirin\n",
    "quick_check['notes'] = quick_check['notes'].astype(str).replace('nan', '')\n"
   ],
   "id": "50025cbfa2d6dba8",
   "outputs": [],
   "execution_count": 68
  },
  {
   "metadata": {
    "ExecuteTime": {
     "end_time": "2025-01-10T15:41:01.704840Z",
     "start_time": "2025-01-10T15:41:01.701528Z"
    }
   },
   "cell_type": "code",
   "source": [
    "# 'notes' sütununu string'e dönüştürün ve NaN değerlerini boş string ile değiştirin\n",
    "quick_check['notes'] = quick_check['notes'].astype(str).replace('nan', '')\n"
   ],
   "id": "69f170e8198176a7",
   "outputs": [],
   "execution_count": 69
  },
  {
   "metadata": {
    "ExecuteTime": {
     "end_time": "2025-01-10T15:41:02.579516Z",
     "start_time": "2025-01-10T15:41:02.576620Z"
    }
   },
   "cell_type": "code",
   "source": "quick_check['notes'] = quick_check['notes'].astype(str).fillna('')\n",
   "id": "ebd0b5db98a379d8",
   "outputs": [],
   "execution_count": 70
  },
  {
   "metadata": {
    "ExecuteTime": {
     "end_time": "2025-01-10T15:30:02.773897Z",
     "start_time": "2025-01-10T15:30:02.770510Z"
    }
   },
   "cell_type": "code",
   "source": [
    "non_string_mask = ~df_report['notes'].apply(lambda x: isinstance(x, str))\n",
    "non_string_values = df_report.loc[non_string_mask, 'notes']\n",
    "print(non_string_values)\n"
   ],
   "id": "76b52ab0c1974078",
   "outputs": [
    {
     "name": "stdout",
     "output_type": "stream",
     "text": [
      "0      NaN\n",
      "1      NaN\n",
      "2      NaN\n",
      "3      NaN\n",
      "4      NaN\n",
      "      ... \n",
      "99     NaN\n",
      "100    NaN\n",
      "101    NaN\n",
      "102    NaN\n",
      "103    NaN\n",
      "Name: notes, Length: 104, dtype: object\n"
     ]
    }
   ],
   "execution_count": 35
  },
  {
   "metadata": {
    "ExecuteTime": {
     "end_time": "2025-01-10T15:41:32.182193Z",
     "start_time": "2025-01-10T15:41:32.179575Z"
    }
   },
   "cell_type": "code",
   "source": [
    "# Sütundaki tüm benzersiz veri türlerini kontrol edin\n",
    "unique_types = quick_check['notes'].apply(type).unique()\n",
    "print(\"Unique types in 'notes' column:\", unique_types)\n"
   ],
   "id": "f0a59515bf891bd4",
   "outputs": [
    {
     "name": "stdout",
     "output_type": "stream",
     "text": [
      "Unique types in 'notes' column: [<class 'str'>]\n"
     ]
    }
   ],
   "execution_count": 75
  },
  {
   "metadata": {
    "ExecuteTime": {
     "end_time": "2025-01-10T15:41:34.567326Z",
     "start_time": "2025-01-10T15:41:34.564696Z"
    }
   },
   "cell_type": "code",
   "source": [
    "# 'notes' sütunundaki ilk 10 değeri inceleyin\n",
    "print(\"First 10 entries in 'notes' column:\")\n",
    "print(quick_check['notes'].head(10))\n"
   ],
   "id": "8dc5034ca26a84b5",
   "outputs": [
    {
     "name": "stdout",
     "output_type": "stream",
     "text": [
      "First 10 entries in 'notes' column:\n",
      "0    \n",
      "1    \n",
      "2    \n",
      "3    \n",
      "4    \n",
      "Name: notes, dtype: object\n"
     ]
    }
   ],
   "execution_count": 76
  },
  {
   "metadata": {
    "ExecuteTime": {
     "end_time": "2025-01-10T15:41:39.744156Z",
     "start_time": "2025-01-10T15:41:39.741433Z"
    }
   },
   "cell_type": "code",
   "source": [
    "# Boş veya sadece boşluk içeren değerleri kontrol edin\n",
    "empty_mask = quick_check['notes'].str.strip() == ''\n",
    "print(\"Number of empty 'notes' entries:\", empty_mask.sum())\n"
   ],
   "id": "20b8e3ea54da5533",
   "outputs": [
    {
     "name": "stdout",
     "output_type": "stream",
     "text": [
      "Number of empty 'notes' entries: 5\n"
     ]
    }
   ],
   "execution_count": 77
  },
  {
   "metadata": {
    "ExecuteTime": {
     "end_time": "2025-01-10T15:41:46.546491Z",
     "start_time": "2025-01-10T15:41:46.543058Z"
    }
   },
   "cell_type": "code",
   "source": [
    "# Eksik sütunları lambda fonksiyonu ile çekme\n",
    "missing_values = quick_check['notes'].apply(lambda x: re.findall(r\"Missing columns: \\[(.*?)\\]\", x))\n",
    "missing_values = missing_values.explode().dropna()\n",
    "missing_values = missing_values.apply(lambda x: [col.strip() for col in x.split(',')])\n",
    "missing_columns = missing_values.explode().value_counts()\n",
    "\n",
    "print(missing_columns)\n"
   ],
   "id": "b286fc5fb4092957",
   "outputs": [
    {
     "name": "stdout",
     "output_type": "stream",
     "text": [
      "Series([], Name: count, dtype: int64)\n"
     ]
    }
   ],
   "execution_count": 78
  },
  {
   "metadata": {
    "ExecuteTime": {
     "end_time": "2025-01-10T15:41:53.110984Z",
     "start_time": "2025-01-10T15:41:53.106717Z"
    }
   },
   "cell_type": "code",
   "source": [
    "import re\n",
    "\n",
    "try:\n",
    "    missing_values = quick_check['notes'].apply(lambda x: re.findall(r\"Missing columns: \\[(.*?)\\]\", x))\n",
    "    missing_values = missing_values.explode().dropna()\n",
    "    missing_values = missing_values.apply(lambda x: [col.strip() for col in x.split(',')])\n",
    "    missing_columns = missing_values.explode().value_counts()\n",
    "    print(missing_columns)\n",
    "except AttributeError as e:\n",
    "    logger.error(f\"AttributeError encountered: {e}\")\n",
    "    raise\n",
    "except Exception as e:\n",
    "    logger.error(f\"An unexpected error occurred: {e}\")\n",
    "    raise\n"
   ],
   "id": "a8433325f4c3411e",
   "outputs": [
    {
     "name": "stdout",
     "output_type": "stream",
     "text": [
      "Series([], Name: count, dtype: int64)\n"
     ]
    }
   ],
   "execution_count": 80
  },
  {
   "metadata": {
    "ExecuteTime": {
     "end_time": "2025-01-10T15:41:54.380432Z",
     "start_time": "2025-01-10T15:41:54.322072Z"
    }
   },
   "cell_type": "code",
   "source": [
    "plt.figure(figsize=(10, 6))\n",
    "sns.barplot(x=missing_values.values, y=missing_values.index)\n",
    "plt.title(\"Missing Columns Frequency in Quick Check\")\n",
    "plt.xlabel(\"Number of Missing Columns\")\n",
    "plt.ylabel(\"Column Names\")\n",
    "plt.show()"
   ],
   "id": "c2bdaed4e1dcd2d6",
   "outputs": [
    {
     "data": {
      "text/plain": [
       "<Figure size 1000x600 with 1 Axes>"
      ],
      "image/png": "[encoded data removed]"
     },
     "metadata": {},
     "output_type": "display_data"
    }
   ],
   "execution_count": 81
  }
 ],
 "metadata": {
  "kernelspec": {
   "display_name": "geoenv",
   "language": "python",
   "name": "geoenv"
  },
  "language_info": {
   "codemirror_mode": {
    "name": "ipython",
    "version": 3
   },
   "file_extension": ".py",
   "mimetype": "text/x-python",
   "name": "python",
   "nbconvert_exporter": "python",
   "pygments_lexer": "ipython3",
   "version": "3.12.8"
  }
 },
 "nbformat": 4,
 "nbformat_minor": 5
}
