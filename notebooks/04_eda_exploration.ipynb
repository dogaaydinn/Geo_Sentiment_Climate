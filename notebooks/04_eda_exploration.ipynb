{
 "cells": [
  {
   "metadata": {},
   "cell_type": "code",
   "outputs": [],
   "execution_count": null,
   "source": [
    "# %% [1] Gerekli Kütüphaneler ve Ayarlar\n",
    "import sys\n",
    "import os\n",
    "import numpy as np\n",
    "from IPython.display import display\n"
   ],
   "id": "bff5c0a6bf0acb66"
  },
  {
   "metadata": {},
   "cell_type": "code",
   "outputs": [],
   "execution_count": null,
   "source": [
    "# Proje içindeki modülleri import etmek için sys.path ayarı\n",
    "sys.path.append(os.path.abspath(\"../src/utils\"))\n",
    "sys.path.append(os.path.abspath(\"../src\"))"
   ],
   "id": "d156782b5e975d5c"
  },
  {
   "metadata": {},
   "cell_type": "code",
   "outputs": [],
   "execution_count": null,
   "source": [
    "# Proje modüllerini import et\n",
    "from source.utils.logger import setup_logger\n",
    "from source.eda_exploration import (\n",
    "    load_data,\n",
    "    basic_info,\n",
    "    missing_values,\n",
    "    distribution_analysis,\n",
    "    correlation_analysis,\n",
    "    detect_outliers,\n",
    ")\n"
   ],
   "id": "aa33a0e8cd398c83"
  },
  {
   "metadata": {},
   "cell_type": "code",
   "outputs": [],
   "execution_count": null,
   "source": [
    "# Logger ayarı\n",
    "logger = setup_logger(name=\"eda_notebook\", log_file=\"../logs/eda_notebook.log\", log_level=\"INFO\")"
   ],
   "id": "6503004858c076d"
  },
  {
   "metadata": {},
   "cell_type": "code",
   "outputs": [],
   "execution_count": null,
   "source": [
    "# %% [2] Veri Setini Yükleme\n",
    "file_path = \"../data/processed/epa_long_preprocessed.csv\"\n",
    "try:\n",
    "    df = load_data(file_path)\n",
    "    logger.info(\"Data successfully loaded.\")\n",
    "except Exception as e:\n",
    "    logger.error(f\"Error loading data: {e}\")\n",
    "    raise"
   ],
   "id": "6afab8e10c6465e6"
  },
  {
   "metadata": {},
   "cell_type": "code",
   "outputs": [],
   "execution_count": null,
   "source": [
    "# %% [3] Temel Bilgileri Görüntüleme\n",
    "try:\n",
    "    basic_info_dict = basic_info(df)\n",
    "    logger.info(\"Basic info generated successfully.\")\n",
    "    display(basic_info_dict)\n",
    "except Exception as e:\n",
    "    logger.error(f\"Error generating basic info: {e}\")"
   ],
   "id": "3cc22390a2a75159"
  },
  {
   "metadata": {},
   "cell_type": "code",
   "outputs": [],
   "execution_count": null,
   "source": [
    "# %% [4] Eksik Değer Analizi\n",
    "try:\n",
    "    missing_values(df)\n",
    "    logger.info(\"Missing values analyzed successfully.\")\n",
    "except Exception as e:\n",
    "    logger.error(f\"Error analyzing missing values: {e}\")"
   ],
   "id": "6369c6841615e4cf"
  },
  {
   "metadata": {},
   "cell_type": "code",
   "outputs": [],
   "execution_count": null,
   "source": [
    "# %% [5] Dağılım Analizi\n",
    "try:\n",
    "    numeric_cols = df.select_dtypes(include=[np.number]).columns.tolist()\n",
    "    logger.info(f\"Numeric columns identified: {numeric_cols}\")\n",
    "    distribution_analysis(df, numeric_cols)\n",
    "except Exception as e:\n",
    "    logger.error(f\"Error in distribution analysis: {e}\")"
   ],
   "id": "4fcf818d468364a5"
  },
  {
   "metadata": {},
   "cell_type": "code",
   "outputs": [],
   "execution_count": null,
   "source": [
    "# %% [6] Korelasyon Analizi\n",
    "try:\n",
    "    correlation_analysis(df, numeric_cols)\n",
    "    logger.info(\"Correlation analysis completed successfully.\")\n",
    "except Exception as e:\n",
    "    logger.error(f\"Error in correlation analysis: {e}\")"
   ],
   "id": "24f46e2f44111c35"
  },
  {
   "metadata": {},
   "cell_type": "code",
   "outputs": [],
   "execution_count": null,
   "source": [
    "# %% [7] Aykırı Değer Analizi\n",
    "try:\n",
    "    detect_outliers(df, numeric_cols)\n",
    "    logger.info(\"Outlier detection completed successfully.\")\n",
    "except Exception as e:\n",
    "    logger.error(f\"Error in outlier detection: {e}\")"
   ],
   "id": "4a880faa5edf273a"
  },
  {
   "metadata": {},
   "cell_type": "code",
   "outputs": [],
   "execution_count": null,
   "source": [
    "# %% [8] Notebook Sonu\n",
    "logger.info(\"EDA notebook completed.\")"
   ],
   "id": "f398bd7ac3b31db6"
  }
 ],
 "metadata": {
  "kernelspec": {
   "name": "python3",
   "language": "python",
   "display_name": "Python 3 (ipykernel)"
  }
 },
 "nbformat": 5,
 "nbformat_minor": 9
}
